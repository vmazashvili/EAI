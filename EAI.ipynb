{
  "cells": [
    {
      "cell_type": "markdown",
      "metadata": {
        "id": "view-in-github",
        "colab_type": "text"
      },
      "source": [
        "<a href=\"https://colab.research.google.com/github/vmazashvili/EAI/blob/main/EAI.ipynb\" target=\"_parent\"><img src=\"https://colab.research.google.com/assets/colab-badge.svg\" alt=\"Open In Colab\"/></a>"
      ]
    },
    {
      "cell_type": "markdown",
      "metadata": {
        "id": "ImZPmiwRl5bQ"
      },
      "source": [
        "# Self-supervised Pretraining"
      ]
    },
    {
      "cell_type": "markdown",
      "metadata": {
        "id": "73k9cGgzCAu4"
      },
      "source": []
    },
    {
      "cell_type": "code",
      "execution_count": 1,
      "metadata": {
        "colab": {
          "base_uri": "https://localhost:8080/"
        },
        "id": "OJB0UuRvFTDn",
        "outputId": "644a6ddc-76f1-45a5-ffd1-d3c4dde6ad94"
      },
      "outputs": [
        {
          "output_type": "stream",
          "name": "stdout",
          "text": [
            "Mounted at /content/drive\n"
          ]
        }
      ],
      "source": [
        "# prompt: connect different google drive account\n",
        "\n",
        "from google.colab import drive\n",
        "# Mount the first drive\n",
        "drive.mount('/content/drive')"
      ]
    },
    {
      "cell_type": "code",
      "execution_count": 2,
      "metadata": {
        "colab": {
          "base_uri": "https://localhost:8080/"
        },
        "id": "ZYGYvw8El2lm",
        "outputId": "97e1b877-c916-46a7-a1c7-2a62132cd6b0"
      },
      "outputs": [
        {
          "output_type": "stream",
          "name": "stdout",
          "text": [
            "Requirement already satisfied: pillow in /usr/local/lib/python3.11/dist-packages (11.1.0)\n",
            "Requirement already satisfied: opencv-python in /usr/local/lib/python3.11/dist-packages (4.11.0.86)\n",
            "Requirement already satisfied: numpy>=1.21.2 in /usr/local/lib/python3.11/dist-packages (from opencv-python) (1.26.4)\n",
            "Requirement already satisfied: tqdm in /usr/local/lib/python3.11/dist-packages (4.67.1)\n",
            "Collecting optuna\n",
            "  Downloading optuna-4.2.1-py3-none-any.whl.metadata (17 kB)\n",
            "Collecting alembic>=1.5.0 (from optuna)\n",
            "  Downloading alembic-1.14.1-py3-none-any.whl.metadata (7.4 kB)\n",
            "Collecting colorlog (from optuna)\n",
            "  Downloading colorlog-6.9.0-py3-none-any.whl.metadata (10 kB)\n",
            "Requirement already satisfied: numpy in /usr/local/lib/python3.11/dist-packages (from optuna) (1.26.4)\n",
            "Requirement already satisfied: packaging>=20.0 in /usr/local/lib/python3.11/dist-packages (from optuna) (24.2)\n",
            "Requirement already satisfied: sqlalchemy>=1.4.2 in /usr/local/lib/python3.11/dist-packages (from optuna) (2.0.38)\n",
            "Requirement already satisfied: tqdm in /usr/local/lib/python3.11/dist-packages (from optuna) (4.67.1)\n",
            "Requirement already satisfied: PyYAML in /usr/local/lib/python3.11/dist-packages (from optuna) (6.0.2)\n",
            "Collecting Mako (from alembic>=1.5.0->optuna)\n",
            "  Downloading Mako-1.3.9-py3-none-any.whl.metadata (2.9 kB)\n",
            "Requirement already satisfied: typing-extensions>=4 in /usr/local/lib/python3.11/dist-packages (from alembic>=1.5.0->optuna) (4.12.2)\n",
            "Requirement already satisfied: greenlet!=0.4.17 in /usr/local/lib/python3.11/dist-packages (from sqlalchemy>=1.4.2->optuna) (3.1.1)\n",
            "Requirement already satisfied: MarkupSafe>=0.9.2 in /usr/local/lib/python3.11/dist-packages (from Mako->alembic>=1.5.0->optuna) (3.0.2)\n",
            "Downloading optuna-4.2.1-py3-none-any.whl (383 kB)\n",
            "\u001b[2K   \u001b[90m━━━━━━━━━━━━━━━━━━━━━━━━━━━━━━━━━━━━━━━━\u001b[0m \u001b[32m383.6/383.6 kB\u001b[0m \u001b[31m19.5 MB/s\u001b[0m eta \u001b[36m0:00:00\u001b[0m\n",
            "\u001b[?25hDownloading alembic-1.14.1-py3-none-any.whl (233 kB)\n",
            "\u001b[2K   \u001b[90m━━━━━━━━━━━━━━━━━━━━━━━━━━━━━━━━━━━━━━━━\u001b[0m \u001b[32m233.6/233.6 kB\u001b[0m \u001b[31m22.6 MB/s\u001b[0m eta \u001b[36m0:00:00\u001b[0m\n",
            "\u001b[?25hDownloading colorlog-6.9.0-py3-none-any.whl (11 kB)\n",
            "Downloading Mako-1.3.9-py3-none-any.whl (78 kB)\n",
            "\u001b[2K   \u001b[90m━━━━━━━━━━━━━━━━━━━━━━━━━━━━━━━━━━━━━━━━\u001b[0m \u001b[32m78.5/78.5 kB\u001b[0m \u001b[31m7.5 MB/s\u001b[0m eta \u001b[36m0:00:00\u001b[0m\n",
            "\u001b[?25hInstalling collected packages: Mako, colorlog, alembic, optuna\n",
            "Successfully installed Mako-1.3.9 alembic-1.14.1 colorlog-6.9.0 optuna-4.2.1\n"
          ]
        }
      ],
      "source": [
        "!pip install pillow opencv-python\n",
        "!pip install tqdm\n",
        "!pip install optuna"
      ]
    },
    {
      "cell_type": "code",
      "execution_count": 3,
      "metadata": {
        "id": "4KwyC6D76Wuq"
      },
      "outputs": [],
      "source": [
        "import torch\n",
        "import torch.nn as nn\n",
        "import torch.optim as optim\n",
        "from torch.utils.data import Dataset, DataLoader\n",
        "from torchvision import transforms\n",
        "import os\n",
        "from PIL import Image\n",
        "import numpy as np"
      ]
    },
    {
      "cell_type": "markdown",
      "metadata": {
        "id": "DEK2jOrT6bJa"
      },
      "source": [
        "# DATASETS"
      ]
    },
    {
      "cell_type": "code",
      "execution_count": 4,
      "metadata": {
        "colab": {
          "base_uri": "https://localhost:8080/"
        },
        "id": "DWv0_32A_kSm",
        "outputId": "039c2118-65a7-4bca-f2aa-95d76fdbc4dd"
      },
      "outputs": [
        {
          "output_type": "stream",
          "name": "stdout",
          "text": [
            "Drive already mounted at /content/drive; to attempt to forcibly remount, call drive.mount(\"/content/drive\", force_remount=True).\n"
          ]
        }
      ],
      "source": [
        "# Mount Google Drive if not already mounted\n",
        "drive.mount('/content/drive')\n",
        "\n",
        "# Setup paths\n",
        "UNLABELED_PATH = '/content/drive/MyDrive/data/filtered_good_mock/'\n",
        "LABELED_BASE_PATH = '/content/drive/MyDrive/data/PatchDataset/'"
      ]
    },
    {
      "cell_type": "code",
      "execution_count": 5,
      "metadata": {
        "id": "HLRRzKEwzNaX"
      },
      "outputs": [],
      "source": [
        "import torch\n",
        "from torchvision import transforms\n",
        "from torch.utils.data import DataLoader\n",
        "\n",
        "def compute_mean_std(loader):\n",
        "    mean = 0.0\n",
        "    std = 0.0\n",
        "    total_images_count = 0\n",
        "\n",
        "    for images in loader:\n",
        "        # Flatten batch and calculate mean and std for each channel\n",
        "        batch_samples = images.size(0)  # batch size (number of images)\n",
        "        images = images.view(batch_samples, images.size(1), -1)  # Flatten H and W\n",
        "        mean += images.mean(2).sum(0)\n",
        "        std += images.std(2).sum(0)\n",
        "        total_images_count += batch_samples\n",
        "\n",
        "    mean /= total_images_count\n",
        "    std /= total_images_count\n",
        "\n",
        "    return mean, std"
      ]
    },
    {
      "cell_type": "code",
      "execution_count": 6,
      "metadata": {
        "id": "OSYlDL_ilfEj"
      },
      "outputs": [],
      "source": [
        "import os\n",
        "from torch.utils.data import Dataset\n",
        "import torch\n",
        "from torchvision import transforms\n",
        "from torchvision.io import read_image\n",
        "from tqdm import tqdm\n",
        "\n",
        "class NormalizationTransforms:\n",
        "    @staticmethod\n",
        "    def global_normalize(image_tensor):\n",
        "        \"\"\"Global min-max normalization\"\"\"\n",
        "        min_val = torch.min(image_tensor)\n",
        "        max_val = torch.max(image_tensor)\n",
        "        return (image_tensor - min_val) / (max_val - min_val + 1e-8)\n",
        "\n",
        "    @staticmethod\n",
        "    def robust_normalize(image_tensor, low_percentile=0.5, high_percentile=99.5):\n",
        "        \"\"\"Robust normalization using percentiles with clipping\"\"\"\n",
        "        # Calculate percentiles for each channel\n",
        "        mins = torch.quantile(image_tensor.view(3, -1), low_percentile / 100.0, dim=1)\n",
        "        maxs = torch.quantile(image_tensor.view(3, -1), high_percentile / 100.0, dim=1)\n",
        "\n",
        "        # Normalize each channel and clip values\n",
        "        normalized = torch.stack([\n",
        "            (channel - min_val) / (max_val - min_val + 1e-8)\n",
        "            for channel, min_val, max_val in zip(image_tensor, mins, maxs)\n",
        "        ])\n",
        "        return torch.clamp(normalized, 0.0, 1.0)\n",
        "\n",
        "    @staticmethod\n",
        "    def normalize(image_tensor, mean=None, std=None):\n",
        "        \"\"\"\n",
        "        Perform standard normalization of an image tensor.\n",
        "\n",
        "        Args:\n",
        "            image_tensor (torch.Tensor): The image tensor of shape (C, H, W).\n",
        "            mean (list or torch.Tensor, optional): Mean for each channel. If None, it's computed from the image.\n",
        "            std (list or torch.Tensor, optional): Standard deviation for each channel. If None, it's computed from the image.\n",
        "\n",
        "        Returns:\n",
        "            torch.Tensor: Normalized image tensor.\n",
        "        \"\"\"\n",
        "        if mean is None:\n",
        "            mean = image_tensor.mean(dim=(-1, -2), keepdim=True)\n",
        "        if std is None:\n",
        "            std = image_tensor.std(dim=(-1, -2), keepdim=True) + 1e-8  # Avoid division by zero\n",
        "\n",
        "        normalized = (image_tensor - mean) / std\n",
        "        return normalized\n",
        "\n",
        "    @staticmethod\n",
        "    def filter_overexposed(image_tensor, threshold=0.4, max_white_ratio=0.3):\n",
        "        \"\"\"Check if the image is overexposed.\"\"\"\n",
        "        white_ratio = torch.mean((image_tensor > threshold).float())\n",
        "        return white_ratio < max_white_ratio\n",
        "\n",
        "    @staticmethod\n",
        "    def filter_underexposed(image_tensor, threshold=0.35, max_dark_ratio=0.9):\n",
        "        \"\"\"Check if the image is underexposed.\"\"\"\n",
        "        dark_ratio = torch.mean((image_tensor < threshold).float())\n",
        "        return dark_ratio < max_dark_ratio\n",
        "\n",
        "\n",
        "class UnlabeledDataset(Dataset):\n",
        "    def __init__(self, root_dir, normalization='none', filter_overexposed=False, filter_underexposed=False):\n",
        "        self.root_dir = root_dir\n",
        "        self.normalization = normalization\n",
        "        self.filter_overexposed = filter_overexposed\n",
        "        self.filter_underexposed = filter_underexposed\n",
        "        self.image_files = [f for f in os.listdir(root_dir) if f.endswith('.png')]\n",
        "\n",
        "        # Filter the dataset if needed\n",
        "        if filter_overexposed or filter_underexposed:\n",
        "            self.image_files = self._prefilter_images()\n",
        "\n",
        "    def __len__(self):\n",
        "        return len(self.image_files)\n",
        "\n",
        "    def _prefilter_images(self):\n",
        "        filtered_files = []\n",
        "        for img_file in tqdm(self.image_files, desc=\"Filtering images\"):\n",
        "            img_path = os.path.join(self.root_dir, img_file)\n",
        "            image_tensor = read_image(img_path).float() / 255.0  # Read and normalize tensor\n",
        "            is_valid = True\n",
        "            if self.filter_overexposed:\n",
        "                is_valid &= NormalizationTransforms.filter_overexposed(image_tensor)\n",
        "            if self.filter_underexposed:\n",
        "                is_valid &= NormalizationTransforms.filter_underexposed(image_tensor)\n",
        "\n",
        "            if is_valid:\n",
        "                filtered_files.append(img_file)\n",
        "        return filtered_files\n",
        "\n",
        "    def __getitem__(self, idx):\n",
        "        img_path = os.path.join(self.root_dir, self.image_files[idx])\n",
        "        image_tensor = read_image(img_path).float() / 255.0  # Load as tensor\n",
        "\n",
        "        # Apply normalization\n",
        "        if self.normalization == 'global':\n",
        "            image_tensor = NormalizationTransforms.global_normalize(image_tensor)\n",
        "        elif self.normalization == 'robust':\n",
        "            image_tensor = NormalizationTransforms.robust_normalize(image_tensor)\n",
        "        elif self.normalization == 'regular':\n",
        "            image_tensor = NormalizationTransforms.normalize(image_tensor)\n",
        "\n",
        "        return image_tensor\n",
        "\n",
        "\n",
        "class LabeledDataset(Dataset):\n",
        "    def __init__(self, root_dir, split='train', transform=None, normalization='none'):\n",
        "        self.root_dir = root_dir\n",
        "        self.base_transform = transform\n",
        "        self.normalization = normalization\n",
        "        self.samples = []\n",
        "\n",
        "        split_dir = os.path.join(root_dir, split)\n",
        "        for label, class_name in enumerate(['negative', 'positive']):\n",
        "            class_dir = os.path.join(split_dir, class_name)\n",
        "            if os.path.exists(class_dir):\n",
        "                for img_name in os.listdir(class_dir):\n",
        "                    if img_name.endswith('.png'):\n",
        "                        self.samples.append((os.path.join(class_dir, img_name), label))\n",
        "\n",
        "    def __len__(self):  # Added this method\n",
        "        return len(self.samples)\n",
        "\n",
        "    def __getitem__(self, idx):\n",
        "        img_path, label = self.samples[idx]\n",
        "        image = Image.open(img_path)\n",
        "\n",
        "        if self.base_transform:\n",
        "            image = self.base_transform(image)\n",
        "\n",
        "        if self.normalization == 'global':\n",
        "            image = NormalizationTransforms.global_normalize(image)\n",
        "        elif self.normalization == 'robust':\n",
        "            image = NormalizationTransforms.robust_normalize(image)\n",
        "\n",
        "        return image, label\n"
      ]
    },
    {
      "cell_type": "code",
      "execution_count": 7,
      "metadata": {
        "id": "mCWy55EFzb1-"
      },
      "outputs": [],
      "source": [
        "import torch\n",
        "import numpy as np\n",
        "import matplotlib.pyplot as plt\n",
        "from torch.utils.data import DataLoader, ConcatDataset, Subset\n",
        "from torchvision import transforms\n",
        "from tqdm import tqdm\n",
        "import random\n",
        "import os\n",
        "from PIL import Image\n",
        "from torch.utils.data import Dataset\n",
        "\n",
        "def get_pixel_values_subset(dataset, num_samples=1000, is_labeled=False, desc=\"Processing\"):\n",
        "    \"\"\"Extract pixel values from a random subset of images.\"\"\"\n",
        "    indices = random.sample(range(len(dataset)), min(num_samples, len(dataset)))\n",
        "    subset = Subset(dataset, indices)\n",
        "    subset_loader = DataLoader(subset, batch_size=128, shuffle=False)\n",
        "\n",
        "    all_pixels = []\n",
        "    for batch in tqdm(subset_loader, desc=desc):\n",
        "        if is_labeled:\n",
        "            images = batch[0]\n",
        "        else:\n",
        "            images = batch\n",
        "\n",
        "        pixels = images.reshape(-1, images.size(1)).numpy()\n",
        "        all_pixels.append(pixels)\n",
        "\n",
        "    return np.concatenate(all_pixels, axis=0)\n",
        "\n",
        "def plot_efficient_distribution(unlabeled_pixels, labeled_pixels, bins=50, title_suffix=\"\"): #add title_suffix as an argument with default value \"\"\n",
        "    \"\"\"Plot histograms instead of KDE for faster visualization.\"\"\"\n",
        "    plt.figure(figsize=(15, 5))\n",
        "    channels = ['Red', 'Green', 'Blue']\n",
        "\n",
        "    for i in range(3):\n",
        "        plt.subplot(1, 3, i+1)\n",
        "\n",
        "        plt.hist(unlabeled_pixels[:, i], bins=bins, alpha=0.5,\n",
        "                density=True, label='Unlabeled', color='blue')\n",
        "        plt.hist(labeled_pixels[:, i], bins=bins, alpha=0.5,\n",
        "                density=True, label='Labeled', color='orange')\n",
        "\n",
        "        plt.title(f'{channels[i]} Channel Distribution {title_suffix}') # incorporate the title suffix\n",
        "        plt.xlabel('Pixel Intensity')\n",
        "        plt.ylabel('Density')\n",
        "        plt.legend()\n",
        "\n",
        "    plt.tight_layout()\n",
        "    plt.show()\n",
        "def analyze_distributions_efficient(unlabeled_dataset, labeled_dataset, num_samples=1000):\n",
        "    print(\"\\nAnalyzing distributions...\")\n",
        "\n",
        "    unlabeled_pixels = get_pixel_values_subset(\n",
        "        unlabeled_dataset,\n",
        "        num_samples,\n",
        "        is_labeled=False,\n",
        "        desc=\"Processing unlabeled data\"\n",
        "    )\n",
        "\n",
        "    labeled_pixels = get_pixel_values_subset(\n",
        "        labeled_dataset,\n",
        "        num_samples,\n",
        "        is_labeled=True,\n",
        "        desc=\"Processing labeled data\"\n",
        "    )\n",
        "\n",
        "    print(\"\\nPlotting distributions...\")\n",
        "    plot_efficient_distribution(unlabeled_pixels, labeled_pixels)\n",
        "\n",
        "    unlabeled_mean = unlabeled_pixels.mean(axis=0)\n",
        "    unlabeled_std = unlabeled_pixels.std(axis=0)\n",
        "    labeled_mean = labeled_pixels.mean(axis=0)\n",
        "    labeled_std = labeled_pixels.std(axis=0)\n",
        "\n",
        "    return {\n",
        "        'unlabeled': {'mean': unlabeled_mean, 'std': unlabeled_std},\n",
        "        'labeled': {'mean': labeled_mean, 'std': labeled_std}\n",
        "    }\n"
      ]
    },
    {
      "cell_type": "code",
      "execution_count": 8,
      "metadata": {
        "id": "pwmgQ8DwmLW4"
      },
      "outputs": [],
      "source": [
        "# Initial transform (always needed to convert to tensor)\n",
        "initial_transform = transforms.Compose([\n",
        "    transforms.ToTensor()\n",
        "])\n",
        "\n",
        "# # First, try with no normalization (original behavior):\n",
        "# unlabeled_dataset = UnlabeledDataset(UNLABELED_PATH,\n",
        "#                                     transform=initial_transform,\n",
        "#                                     normalization='none')\n",
        "# train_dataset = LabeledDataset(LABELED_BASE_PATH,\n",
        "#                               split='train',\n",
        "#                               transform=initial_transform,\n",
        "#                               normalization='none')\n",
        "\n",
        "# val_dataset = LabeledDataset(LABELED_BASE_PATH,\n",
        "#                             split='val',\n",
        "#                              transform=initial_transform,\n",
        "#                              normalization='none')\n",
        "\n",
        "# test_dataset = LabeledDataset(LABELED_BASE_PATH,\n",
        "#                             split='test',\n",
        "#                              transform=initial_transform,\n",
        "#                              normalization='none')\n",
        "\n",
        "# labeled_dataset = ConcatDataset([train_dataset, val_dataset, test_dataset])\n",
        "\n",
        "# OR, try global normalization:\n",
        "# unlabeled_dataset = UnlabeledDataset(UNLABELED_PATH,\n",
        "#                                     transform=initial_transform,\n",
        "#                                     normalization='global')\n",
        "# train_dataset = LabeledDataset(LABELED_BASE_PATH,\n",
        "#                               split='train',\n",
        "#                               transform=initial_transform,\n",
        "#                               normalization='global')\n",
        "\n",
        "# val_dataset = LabeledDataset(LABELED_BASE_PATH,\n",
        "#                             split='val',\n",
        "#                              transform=initial_transform,\n",
        "#                              normalization='global')\n",
        "\n",
        "# test_dataset = LabeledDataset(LABELED_BASE_PATH,\n",
        "#                             split='test',\n",
        "#                              transform=initial_transform,\n",
        "#                              normalization='global')\n",
        "\n",
        "# labeled_dataset = ConcatDataset([train_dataset, val_dataset, test_dataset])\n",
        "\n",
        "# # OR, try robust normalization:\n",
        "# unlabeled_dataset = UnlabeledDataset(UNLABELED_PATH,\n",
        "#                                     transform=initial_transform,\n",
        "#                                     normalization='robust')\n",
        "# train_dataset = LabeledDataset(LABELED_BASE_PATH,\n",
        "#                               split='train',\n",
        "#                               transform=initial_transform,\n",
        "#                               normalization='robust')\n",
        "\n",
        "# val_dataset = LabeledDataset(LABELED_BASE_PATH,\n",
        "#                             split='val',\n",
        "#                              transform=initial_transform,\n",
        "#                              normalization='robust')\n",
        "\n",
        "# test_dataset = LabeledDataset(LABELED_BASE_PATH,\n",
        "#                             split='test',\n",
        "#                              transform=initial_transform,\n",
        "#                              normalization='robust')\n",
        "\n",
        "# labeled_dataset = ConcatDataset([train_dataset, val_dataset, test_dataset])\n",
        "\n",
        "# OR, try filtering overexposed images + global normalization:\n",
        "unlabeled_dataset = UnlabeledDataset(UNLABELED_PATH,\n",
        "                                    #transform=initial_transform,\n",
        "                                    normalization='none',\n",
        "                                    filter_overexposed=False,\n",
        "                                    filter_underexposed=False)\n",
        "train_dataset = LabeledDataset(LABELED_BASE_PATH,\n",
        "                              split='train',\n",
        "                              transform=initial_transform,\n",
        "                              normalization='none')\n",
        "\n",
        "val_dataset = LabeledDataset(LABELED_BASE_PATH,\n",
        "                            split='val',\n",
        "                             transform=initial_transform,\n",
        "                             normalization='none')\n",
        "\n",
        "test_dataset = LabeledDataset(LABELED_BASE_PATH,\n",
        "                            split='test',\n",
        "                             transform=initial_transform,\n",
        "                             normalization='none')\n",
        "\n",
        "labeled_dataset = ConcatDataset([train_dataset, val_dataset, test_dataset])"
      ]
    },
    {
      "cell_type": "code",
      "execution_count": 9,
      "metadata": {
        "id": "Ql49af4vwgdU"
      },
      "outputs": [],
      "source": [
        "import numpy as np\n",
        "import torch\n",
        "from sklearn.decomposition import IncrementalPCA # Import IncrementalPCA\n",
        "from sklearn.neighbors import KernelDensity\n",
        "from torch.utils.data import DataLoader, Subset\n",
        "from tqdm import tqdm\n",
        "import os\n",
        "import joblib\n",
        "from collections import Counter\n",
        "import matplotlib.pyplot as plt\n",
        "import random\n",
        "import gc\n",
        "\n",
        "def get_pixel_values_subset_memory_efficient(dataset, num_samples=1000, is_labeled=False, desc=\"Processing\", chunk_size=32):\n",
        "    \"\"\"Extract pixel values from a random subset of images in smaller chunks.\"\"\"\n",
        "    indices = random.sample(range(len(dataset)), min(num_samples, len(dataset)))\n",
        "    subset = Subset(dataset, indices)\n",
        "    subset_loader = DataLoader(subset, batch_size=chunk_size, shuffle=False)\n",
        "\n",
        "    all_pixels = []\n",
        "    for batch in tqdm(subset_loader, desc=desc):\n",
        "        if is_labeled:\n",
        "            images = batch[0]\n",
        "        else:\n",
        "            images = batch\n",
        "\n",
        "        with torch.no_grad():  # Reduce memory usage during computation\n",
        "            pixels = images.reshape(-1, images.size(1)).numpy()\n",
        "            all_pixels.append(pixels)\n",
        "\n",
        "        # Clear some memory\n",
        "        del images, pixels\n",
        "        gc.collect()\n",
        "        torch.cuda.empty_cache() if torch.cuda.is_available() else None\n",
        "\n",
        "    return np.concatenate(all_pixels, axis=0)\n",
        "\n",
        "def extract_and_save_pixels_in_chunks(dataset, output_filename, chunk_size=32, max_chunks=None):\n",
        "    \"\"\"Extract and save pixel values to disk in small chunks with memory cleanup.\"\"\"\n",
        "    dataloader = DataLoader(dataset, batch_size=chunk_size, shuffle=False)\n",
        "\n",
        "    # Open a memory-mapped file for incremental saving\n",
        "    sample_batch = next(iter(dataloader))\n",
        "    if isinstance(sample_batch, (list, tuple)):\n",
        "        sample_images = sample_batch[0]\n",
        "    else:\n",
        "        sample_images = sample_batch\n",
        "\n",
        "    # Calculate shape for memory mapping\n",
        "    total_samples = len(dataset)\n",
        "    pixels_per_image = int(np.prod(sample_images.shape[1:]))\n",
        "\n",
        "    # Create memory-mapped array\n",
        "    pixels_mmap = np.memmap(\n",
        "        f\"{output_filename}.mmap\",\n",
        "        dtype=np.float32,\n",
        "        mode='w+',\n",
        "        shape=(total_samples, pixels_per_image)\n",
        "    )\n",
        "\n",
        "    current_idx = 0\n",
        "    chunk_count = 0\n",
        "\n",
        "    for batch in tqdm(dataloader, desc=f\"Extracting pixels for {output_filename}\"):\n",
        "        if isinstance(batch, (list, tuple)):\n",
        "            images = batch[0]\n",
        "        else:\n",
        "            images = batch\n",
        "\n",
        "        with torch.no_grad():\n",
        "            batch_pixels = images.view(images.size(0), -1).numpy()\n",
        "            batch_size = batch_pixels.shape[0]\n",
        "            pixels_mmap[current_idx:current_idx + batch_size] = batch_pixels\n",
        "            current_idx += batch_size\n",
        "\n",
        "        # Clear memory\n",
        "        del images, batch_pixels\n",
        "        gc.collect()\n",
        "        torch.cuda.empty_cache() if torch.cuda.is_available() else None\n",
        "\n",
        "        chunk_count += 1\n",
        "        if max_chunks and chunk_count >= max_chunks:\n",
        "            break\n",
        "\n",
        "    # Flush changes to disk\n",
        "    pixels_mmap.flush()\n",
        "\n",
        "    # Save final array\n",
        "    final_array = np.memmap(\n",
        "        f\"{output_filename}.mmap\",\n",
        "        dtype=np.float32,\n",
        "        mode='r',\n",
        "        shape=(current_idx, pixels_per_image)\n",
        "    )\n",
        "\n",
        "    joblib.dump(final_array, output_filename)\n",
        "\n",
        "    # Clean up memory map file\n",
        "    del pixels_mmap, final_array\n",
        "    gc.collect()\n",
        "    os.remove(f\"{output_filename}.mmap\")\n",
        "\n",
        "def resample_distribution(unlabeled_dataset, labeled_dataset, num_samples,\n",
        "                        temp_dir='temp_distributions', batch_size=32,\n",
        "                        pca_components=10, kde_samples=1000, vis_samples=500, kde_bandwidth=0.01):\n",
        "    \"\"\"Memory-efficient version of resample_distribution with additional outputs.\"\"\"\n",
        "    os.makedirs(temp_dir, exist_ok=True)\n",
        "\n",
        "    print(\"\\n1. Initial Dataset Information:\")\n",
        "    print(f\"Original unlabeled dataset size: {len(unlabeled_dataset)}\")\n",
        "    print(f\"Original labeled dataset size: {len(labeled_dataset)}\")\n",
        "\n",
        "    # Plot original distributions with reduced sample size\n",
        "    print(\"\\n2. Plotting original pixel intensity distributions...\")\n",
        "    unlabeled_vis = get_pixel_values_subset_memory_efficient(unlabeled_dataset, vis_samples, False, \"Processing unlabeled data\", chunk_size=batch_size)\n",
        "    labeled_vis = get_pixel_values_subset_memory_efficient(labeled_dataset, vis_samples, True, \"Processing labeled data\", chunk_size=batch_size)\n",
        "\n",
        "    plot_efficient_distribution(unlabeled_vis, labeled_vis, title_suffix=\"(Original)\")\n",
        "    plt.close()  # Explicitly close plot to free memory\n",
        "\n",
        "    # Extract pixels in chunks\n",
        "    labeled_pixels_file = os.path.join(temp_dir, 'labeled_pixels.joblib')\n",
        "    unlabeled_pixels_file = os.path.join(temp_dir, 'unlabeled_pixels.joblib')\n",
        "\n",
        "    if not os.path.exists(labeled_pixels_file):\n",
        "        print(\"Extracting labeled pixels...\")\n",
        "        extract_and_save_pixels_in_chunks(labeled_dataset, labeled_pixels_file, chunk_size=batch_size)\n",
        "\n",
        "    if not os.path.exists(unlabeled_pixels_file):\n",
        "        print(\"Extracting unlabeled pixels...\")\n",
        "        extract_and_save_pixels_in_chunks(unlabeled_dataset, unlabeled_pixels_file, chunk_size=batch_size)\n",
        "\n",
        "    # Load data in chunks for PCA\n",
        "    print(\"\\n3. Dimensionality Information:\")\n",
        "    original_dimensionality = joblib.load(labeled_pixels_file).shape[1]\n",
        "    print(f\"Original feature dimensionality: {original_dimensionality}\")\n",
        "    print(f\"Reducing to {pca_components} components...\")\n",
        "\n",
        "    pca = IncrementalPCA(n_components=pca_components)  # Initialize IncrementalPCA\n",
        "\n",
        "    # Fit PCA in chunks with progress bar\n",
        "    print(\"Fitting PCA...\")\n",
        "    try:\n",
        "        for chunk_start in tqdm(range(0, len(labeled_dataset), batch_size), desc=\"Fitting PCA\"):\n",
        "            chunk_end = min(chunk_start + batch_size, len(labeled_dataset))\n",
        "            chunk_data = joblib.load(labeled_pixels_file)[chunk_start:chunk_end]\n",
        "            if chunk_start == 0:\n",
        "                pca.fit(chunk_data)\n",
        "            else:\n",
        "                pca.partial_fit(chunk_data)\n",
        "            del chunk_data\n",
        "            gc.collect()\n",
        "        print(f\"Explained variance ratio: {np.sum(pca.explained_variance_ratio_):.3f}\")\n",
        "    except Exception as e:\n",
        "        print(f\"Error during PCA fitting: {e}\")\n",
        "        return None\n",
        "\n",
        "    print(f\"Explained variance ratio: {np.sum(pca.explained_variance_ratio_):.3f}\")\n",
        "\n",
        "    # Transform data in chunks with progress bar\n",
        "    labeled_pca = np.memmap(\n",
        "        os.path.join(temp_dir, 'labeled_pca.mmap'),\n",
        "        dtype=np.float32,\n",
        "        mode='w+',\n",
        "        shape=(len(labeled_dataset), pca_components)\n",
        "    )\n",
        "\n",
        "    unlabeled_pca = np.memmap(\n",
        "        os.path.join(temp_dir, 'unlabeled_pca.mmap'),\n",
        "        dtype=np.float32,\n",
        "        mode='w+',\n",
        "        shape=(len(unlabeled_dataset), pca_components)\n",
        "    )\n",
        "\n",
        "    print(\"Transforming labeled data with PCA...\")\n",
        "    try:\n",
        "        for chunk_start in tqdm(range(0, len(labeled_dataset), batch_size), desc=\"Transforming Labeled Data\"):\n",
        "            chunk_end = min(chunk_start + batch_size, len(labeled_dataset))\n",
        "            chunk_data = joblib.load(labeled_pixels_file)[chunk_start:chunk_end]\n",
        "            labeled_pca[chunk_start:chunk_end] = pca.transform(chunk_data)\n",
        "            del chunk_data\n",
        "            gc.collect()\n",
        "        print(\"Labeled data transformation completed.\")\n",
        "    except Exception as e:\n",
        "        print(f\"Error during labeled data transformation: {e}\")\n",
        "        return None\n",
        "\n",
        "    print(\"Transforming unlabeled data with PCA...\")\n",
        "    try:\n",
        "        for chunk_start in tqdm(range(0, len(unlabeled_dataset), batch_size), desc=\"Transforming Unlabeled Data\"):\n",
        "            chunk_end = min(chunk_start + batch_size, len(unlabeled_dataset))\n",
        "            chunk_data = joblib.load(unlabeled_pixels_file)[chunk_start:chunk_end]\n",
        "            unlabeled_pca[chunk_start:chunk_end] = pca.transform(chunk_data)\n",
        "            del chunk_data\n",
        "            gc.collect()\n",
        "        print(\"Unlabeled data transformation completed.\")\n",
        "    except Exception as e:\n",
        "        print(f\"Error during unlabeled data transformation: {e}\")\n",
        "        return None\n",
        "\n",
        "    # Process KDE with reduced sample size\n",
        "    if kde_samples:\n",
        "        print(\"\\n4. Computing densities...\")\n",
        "        try:\n",
        "            labeled_indices = np.random.choice(len(labeled_dataset), kde_samples, replace=False)\n",
        "            unlabeled_indices = np.random.choice(len(unlabeled_dataset), kde_samples, replace=False)\n",
        "\n",
        "            kde_labeled = KernelDensity(kernel='gaussian')\n",
        "            kde_unlabeled = KernelDensity(kernel='gaussian')\n",
        "\n",
        "            kde_labeled.fit(labeled_pca[labeled_indices])\n",
        "            kde_unlabeled.fit(unlabeled_pca[unlabeled_indices])\n",
        "            print(\"KDE fitting completed.\")\n",
        "        except Exception as e:\n",
        "            print(f\"Error during KDE fitting: {e}\")\n",
        "            return None\n",
        "\n",
        "    # Compute weights in chunks\n",
        "    print(\"\\n5. Weight Statistics:\")\n",
        "    try:\n",
        "        weights = np.zeros(len(unlabeled_dataset))\n",
        "        for i in range(0, len(unlabeled_dataset), batch_size):\n",
        "            chunk = unlabeled_pca[i:i + batch_size]\n",
        "            labeled_density = np.exp(kde_labeled.score_samples(chunk))\n",
        "            unlabeled_density = np.exp(kde_unlabeled.score_samples(chunk))\n",
        "            weights[i:i + batch_size] = labeled_density / (unlabeled_density + 1e-8)\n",
        "            del chunk, labeled_density, unlabeled_density\n",
        "            gc.collect()\n",
        "\n",
        "        weights /= weights.sum()\n",
        "        print(f\"Min weight: {np.min(weights):.6f}\")\n",
        "        print(f\"Max weight: {np.max(weights):.6f}\")\n",
        "        print(f\"Mean weight: {np.mean(weights):.6f}\")\n",
        "    except Exception as e:\n",
        "        print(f\"Error during weight computation: {e}\")\n",
        "        return None\n",
        "\n",
        "    # Clean up memory maps\n",
        "    del labeled_pca, unlabeled_pca\n",
        "    os.remove(os.path.join(temp_dir, 'labeled_pca.mmap'))\n",
        "    os.remove(os.path.join(temp_dir, 'unlabeled_pca.mmap'))\n",
        "\n",
        "    # Resample indices\n",
        "    print(\"\\n6. Resampling dataset...\")\n",
        "    resampled_indices = np.random.choice(len(unlabeled_dataset),\n",
        "                                       size=num_samples,\n",
        "                                       p=weights)\n",
        "    resampled_subset = Subset(unlabeled_dataset, resampled_indices)\n",
        "\n",
        "    # Plot resampled distributions\n",
        "    print(\"\\n7. Plotting resampled pixel intensity distributions...\")\n",
        "    resampled_vis = get_pixel_values_subset_memory_efficient(resampled_subset, vis_samples, False, \"Processing resampled data\", chunk_size=batch_size)\n",
        "    plot_efficient_distribution(resampled_vis, labeled_vis, title_suffix=\"(Resampled)\")\n",
        "    plt.close()  # Explicitly close plot to free memory\n",
        "\n",
        "    # Final dataset information\n",
        "    print(\"\\n8. Final Dataset Information:\")\n",
        "    print(f\"Resampled dataset size: {len(resampled_subset)}\")\n",
        "\n",
        "    # TODO: let it return resampled indices too\n",
        "    return resampled_subset, resampled_indices"
      ]
    },
    {
      "cell_type": "code",
      "execution_count": 10,
      "metadata": {
        "id": "0HP9cKamHGBD"
      },
      "outputs": [],
      "source": [
        "import optuna\n",
        "from functools import partial\n",
        "import numpy as np\n",
        "import torch\n",
        "from torch.utils.data import Subset\n",
        "import warnings\n",
        "import psutil\n",
        "import os\n",
        "warnings.filterwarnings('ignore', category=RuntimeWarning)\n",
        "\n",
        "def get_memory_usage():\n",
        "    \"\"\"Get current memory usage in GB\"\"\"\n",
        "    process = psutil.Process(os.getpid())\n",
        "    return process.memory_info().rss / 1024 / 1024 / 1024  # Convert to GB\n",
        "\n",
        "def check_memory(threshold_gb=0.8 * psutil.virtual_memory().total / 1024**3):\n",
        "    \"\"\"Check if memory usage is below threshold, returns True if safe\"\"\"\n",
        "    current_gb = get_memory_usage()\n",
        "    return current_gb < threshold_gb\n",
        "\n",
        "def compute_kl_divergence(p, q, bins=50):\n",
        "    \"\"\"Compute KL divergence between two sets of samples.\"\"\"\n",
        "    # Compute histograms\n",
        "    p_hist, _ = np.histogram(p, bins=bins, density=True)\n",
        "    q_hist, _ = np.histogram(q, bins=bins, density=True)\n",
        "\n",
        "    # Add small constant to avoid division by zero\n",
        "    p_hist = p_hist + 1e-10\n",
        "    q_hist = q_hist + 1e-10\n",
        "\n",
        "    # Normalize\n",
        "    p_hist = p_hist / p_hist.sum()\n",
        "    q_hist = q_hist / q_hist.sum()\n",
        "\n",
        "    # Compute KL divergence\n",
        "    return np.sum(p_hist * np.log(p_hist / q_hist))\n",
        "\n",
        "def compute_js_divergence(p, q, bins=50):\n",
        "    \"\"\"Compute Jensen-Shannon divergence between two sets of samples.\"\"\"\n",
        "    # Compute histograms\n",
        "    p_hist, _ = np.histogram(p, bins=bins, density=True)\n",
        "    q_hist, _ = np.histogram(q, bins=bins, density=True)\n",
        "\n",
        "    # Add small constant to avoid division by zero\n",
        "    p_hist = p_hist + 1e-10\n",
        "    q_hist = q_hist + 1e-10\n",
        "\n",
        "    # Normalize\n",
        "    p_hist = p_hist / p_hist.sum()\n",
        "    q_hist = q_hist / q_hist.sum()\n",
        "\n",
        "    # Compute midpoint distribution\n",
        "    m_hist = 0.5 * (p_hist + q_hist)\n",
        "\n",
        "    # Compute JS divergence\n",
        "    return 0.5 * (np.sum(p_hist * np.log(p_hist / m_hist)) +\n",
        "                 np.sum(q_hist * np.log(q_hist / m_hist)))\n",
        "\n",
        "def get_initial_pca_dims(labeled_dataset, batch_size):\n",
        "    \"\"\"Get the initial dimensionality from a single image.\"\"\"\n",
        "    first_batch = next(iter(torch.utils.data.DataLoader(\n",
        "        Subset(labeled_dataset, [0]),  # Only look at first image\n",
        "        batch_size=1,\n",
        "        shuffle=False\n",
        "    )))\n",
        "    if isinstance(first_batch, (list, tuple)):\n",
        "        images = first_batch[0]\n",
        "    else:\n",
        "        images = first_batch\n",
        "    return int(np.prod(images.shape[1:]))\n",
        "\n",
        "def objective(trial, unlabeled_dataset, labeled_dataset, base_num_samples,\n",
        "              temp_dir='temp_distributions', eval_samples=500):  # Reduced eval samples\n",
        "    \"\"\"\n",
        "    Memory-efficient objective function for optimization.\n",
        "    \"\"\"\n",
        "    # Check memory before starting\n",
        "    if not check_memory():\n",
        "        print(\"Warning: High memory usage detected. Skipping trial.\")\n",
        "        return float('inf')\n",
        "\n",
        "    # Use smaller batch sizes\n",
        "    batch_size = trial.suggest_categorical('batch_size', [8, 16])\n",
        "\n",
        "    # Get initial dimensionality from a single image\n",
        "    try:\n",
        "        initial_dims = get_initial_pca_dims(labeled_dataset, batch_size)\n",
        "    except Exception as e:\n",
        "        print(f\"Error getting initial dimensions: {e}\")\n",
        "        return float('inf')\n",
        "\n",
        "    # More conservative parameter ranges\n",
        "    max_pca = min(30, initial_dims, trial.suggest_int('max_pca', 5, 30))\n",
        "    params = {\n",
        "        'pca_components': trial.suggest_int('pca_components', 5, max_pca),\n",
        "        'kde_samples': trial.suggest_int('kde_samples', 200, 1000),  # Reduced range\n",
        "        'kde_bandwidth': trial.suggest_float('kde_bandwidth', 0.001, 0.1, log=True),\n",
        "        'batch_size': batch_size\n",
        "    }\n",
        "\n",
        "    print(f\"\\nTrial parameters:\")\n",
        "    for key, value in params.items():\n",
        "        print(f\"{key}: {value}\")\n",
        "    print(f\"Current memory usage: {get_memory_usage():.2f} GB\")\n",
        "\n",
        "    try:\n",
        "        # Run resampling with memory checks\n",
        "        resampled_subset, indices = resample_distribution(\n",
        "            unlabeled_dataset=unlabeled_dataset,\n",
        "            labeled_dataset=labeled_dataset,\n",
        "            num_samples=min(base_num_samples, 1000),  # Limit sample size\n",
        "            temp_dir=temp_dir,\n",
        "            **params\n",
        "        )\n",
        "\n",
        "        if not check_memory():\n",
        "            print(\"Warning: High memory usage after resampling. Aborting trial.\")\n",
        "            return float('inf')\n",
        "\n",
        "        if resampled_subset is None:\n",
        "            return float('inf')\n",
        "\n",
        "        # Use smaller evaluation samples\n",
        "        eval_size = min(eval_samples, 500)\n",
        "        labeled_eval = get_pixel_values_subset_memory_efficient(\n",
        "            labeled_dataset,\n",
        "            eval_size,\n",
        "            is_labeled=True,\n",
        "            desc=\"Evaluating labeled data\",\n",
        "            chunk_size=params['batch_size']\n",
        "        )\n",
        "\n",
        "        resampled_eval = get_pixel_values_subset_memory_efficient(\n",
        "            resampled_subset,\n",
        "            eval_size,\n",
        "            is_labeled=False,\n",
        "            desc=\"Evaluating resampled data\",\n",
        "            chunk_size=params['batch_size']\n",
        "        )\n",
        "\n",
        "        # Calculate metrics\n",
        "        kl_div = compute_kl_divergence(labeled_eval, resampled_eval)\n",
        "        js_div = compute_js_divergence(labeled_eval, resampled_eval)\n",
        "        score = kl_div + js_div\n",
        "\n",
        "        print(f\"Trial score: {score:.6f}\")\n",
        "        print(f\"KL divergence: {kl_div:.6f}\")\n",
        "        print(f\"JS divergence: {js_div:.6f}\")\n",
        "        print(f\"Final memory usage: {get_memory_usage():.2f} GB\")\n",
        "\n",
        "        return score\n",
        "\n",
        "    except Exception as e:\n",
        "        print(f\"Error in trial: {str(e)}\")\n",
        "        return float('inf')\n",
        "\n",
        "def optimize_resampling(unlabeled_dataset, labeled_dataset, base_num_samples,\n",
        "                       n_trials=20, temp_dir='temp_distributions'):  # Reduced trials\n",
        "    \"\"\"\n",
        "    Memory-efficient optimization with early stopping.\n",
        "    \"\"\"\n",
        "    def memory_callback(study, trial):\n",
        "        if not check_memory():\n",
        "            study.stop()\n",
        "\n",
        "    study = optuna.create_study(\n",
        "        direction='minimize',\n",
        "        sampler=optuna.samplers.TPESampler(seed=42)\n",
        "    )\n",
        "\n",
        "    objective_func = partial(\n",
        "        objective,\n",
        "        unlabeled_dataset=unlabeled_dataset,\n",
        "        labeled_dataset=labeled_dataset,\n",
        "        base_num_samples=base_num_samples,\n",
        "        temp_dir=temp_dir\n",
        "    )\n",
        "\n",
        "    # Run optimization with memory monitoring\n",
        "    print(f\"Starting optimization with {n_trials} trials\")\n",
        "    print(f\"Initial memory usage: {get_memory_usage():.2f} GB\")\n",
        "\n",
        "    try:\n",
        "        study.optimize(objective_func, n_trials=n_trials, callbacks=[memory_callback])\n",
        "    except Exception as e:\n",
        "        print(f\"Optimization stopped: {e}\")\n",
        "\n",
        "    print(\"\\nOptimization Results:\")\n",
        "    if study.best_trial.value == float('inf'):\n",
        "        print(\"No successful trials - using conservative default parameters\")\n",
        "        best_params = {\n",
        "            'pca_components': 5,\n",
        "            'kde_samples': 200,\n",
        "            'kde_bandwidth': 0.01,\n",
        "            'batch_size': 8\n",
        "        }\n",
        "    else:\n",
        "        print(f\"Best trial value: {study.best_trial.value}\")\n",
        "        best_params = study.best_trial.params\n",
        "\n",
        "    print(\"Best parameters:\")\n",
        "    for key, value in best_params.items():\n",
        "        print(f\"  {key}: {value}\")\n",
        "\n",
        "    # Final resampling with best parameters\n",
        "    best_resampled_subset, best_indices = resample_distribution(\n",
        "        unlabeled_dataset=unlabeled_dataset,\n",
        "        labeled_dataset=labeled_dataset,\n",
        "        num_samples=min(base_num_samples, 1000),  # Limit final sample size\n",
        "        temp_dir=temp_dir,\n",
        "        **best_params\n",
        "    )\n",
        "\n",
        "    return best_resampled_subset, best_indices, best_params"
      ]
    },
    {
      "cell_type": "code",
      "execution_count": 11,
      "metadata": {
        "id": "4D7vhWdw7O5v"
      },
      "outputs": [],
      "source": [
        "# resampled_subset = resample_distribution(\n",
        "#     unlabeled_dataset,\n",
        "#     labeled_dataset,\n",
        "#     num_samples=3000,\n",
        "#     batch_size=128,          # Keep this since it works\n",
        "#     pca_components=50,      # Reduced from 50 but still captures key features\n",
        "#     kde_samples=5000,       # Middle ground between your 1000 and 5000 tests\n",
        "#     kde_bandwidth=0.7,     # Slightly reduced to check feature definition\n",
        "#     vis_samples=500         # This is fine for visualization\n",
        "# )"
      ]
    },
    {
      "cell_type": "markdown",
      "metadata": {
        "id": "CBPDWSowVA4N"
      },
      "source": [
        "Save and load resampled indices rather than resampled dataset because it is way more efficient and we can get the resampled dataset from it without further processing"
      ]
    },
    {
      "cell_type": "code",
      "execution_count": 12,
      "metadata": {
        "id": "u9IomYTPVAJw"
      },
      "outputs": [],
      "source": [
        "# temp_dir = 'temp_distributions'  # Define temp_dir\n",
        "# os.makedirs(temp_dir, exist_ok=True)  # Create the directory if it doesn't exist\n",
        "\n",
        "# resampled_subset_file = os.path.join(temp_dir, 'resampled_subset.joblib')\n",
        "# joblib.dump(resampled_subset, resampled_subset_file)\n",
        "# print(f\"Resampled subset saved to {resampled_subset_file}\")\n"
      ]
    },
    {
      "cell_type": "code",
      "execution_count": 13,
      "metadata": {
        "colab": {
          "base_uri": "https://localhost:8080/"
        },
        "id": "QmSJoC3qXrki",
        "outputId": "2abb92a8-cb79-430a-affa-bb14448b1e6e"
      },
      "outputs": [
        {
          "output_type": "stream",
          "name": "stdout",
          "text": [
            "File '/content/drive/MyDrive/data/resampled_subset.joblib' copied to '/content/temp_distributions' successfully.\n"
          ]
        }
      ],
      "source": [
        "# prompt: create /temp_distributions directory\n",
        "# look for resampled_subset.joblib in /content/drive/MyDrive/data\n",
        "# copy it in temp_distributions folder\n",
        "\n",
        "import os\n",
        "import shutil\n",
        "\n",
        "# Create the temporary directory\n",
        "!mkdir /content/temp_distributions\n",
        "\n",
        "# Source and destination paths\n",
        "source_path = '/content/drive/MyDrive/data/resampled_subset.joblib'\n",
        "destination_path = '/content/temp_distributions'\n",
        "\n",
        "# Check if the source file exists\n",
        "if os.path.exists(source_path):\n",
        "    # Copy the file\n",
        "    shutil.copy2(source_path, destination_path)\n",
        "    print(f\"File '{source_path}' copied to '{destination_path}' successfully.\")\n",
        "else:\n",
        "    print(f\"Source file '{source_path}' not found.\")\n"
      ]
    },
    {
      "cell_type": "code",
      "execution_count": 14,
      "metadata": {
        "colab": {
          "base_uri": "https://localhost:8080/"
        },
        "id": "kTBtF7aUVbd6",
        "outputId": "468ad03a-9265-4f48-c480-d12589e1a061"
      },
      "outputs": [
        {
          "output_type": "stream",
          "name": "stdout",
          "text": [
            "Resampled subset loaded from temp_distributions/resampled_subset.joblib\n"
          ]
        }
      ],
      "source": [
        "# Load the resampled subset\n",
        "temp_dir = 'temp_distributions'  # Define temp_dir\n",
        "resampled_subset_file = os.path.join(temp_dir, 'resampled_subset.joblib')\n",
        "resampled_subset = joblib.load(resampled_subset_file)\n",
        "print(f\"Resampled subset loaded from {resampled_subset_file}\")\n"
      ]
    },
    {
      "cell_type": "code",
      "execution_count": 15,
      "metadata": {
        "id": "eb6q2SiXL_IX"
      },
      "outputs": [],
      "source": [
        "from torch.utils.data import Dataset\n",
        "import torch\n",
        "import joblib\n",
        "from torch.utils.data import Subset\n",
        "\n",
        "class ResampledDataset(Dataset):\n",
        "    \"\"\"Custom Dataset for loading unlabeled resampled data from joblib file\"\"\"\n",
        "    def __init__(self, joblib_path, transform=None, dummy_label=-1):\n",
        "        \"\"\"\n",
        "        Args:\n",
        "            joblib_path (str): Path to the .joblib file containing resampled data\n",
        "            transform (callable, optional): Optional transform to be applied to samples\n",
        "            dummy_label (int, optional): Label to use for unlabeled data, defaults to -1\n",
        "        \"\"\"\n",
        "        loaded_data = joblib.load(joblib_path)\n",
        "\n",
        "        # If tuple, take just the subset, otherwise use the data directly\n",
        "        self.subset = loaded_data[0] if isinstance(loaded_data, tuple) else loaded_data\n",
        "\n",
        "        self.transform = transform\n",
        "        self.dummy_label = dummy_label\n",
        "\n",
        "        # Print debug info\n",
        "        print(f\"Dataset size: {len(self.subset)}\")\n",
        "\n",
        "    def __len__(self):\n",
        "        return len(self.subset)\n",
        "\n",
        "    def __getitem__(self, idx):\n",
        "        # Get the sample from the subset\n",
        "        sample = self.subset[idx]\n",
        "\n",
        "        # If the subset returns a tuple (data, label), take only the data\n",
        "        if isinstance(sample, tuple):\n",
        "            sample = sample[0]\n",
        "\n",
        "        # Apply transform if provided\n",
        "        if self.transform:\n",
        "            sample = self.transform(sample)\n",
        "\n",
        "        return sample, self.dummy_label"
      ]
    },
    {
      "cell_type": "code",
      "execution_count": 16,
      "metadata": {
        "id": "hTf1mHTRMC6G"
      },
      "outputs": [],
      "source": [
        "import torch\n",
        "from torch.utils.data import Dataset, DataLoader\n",
        "import numpy as np\n",
        "\n",
        "def validate_dataset(dataset, batch_size=4, expected_shape=None):\n",
        "    \"\"\"\n",
        "    Comprehensive dataset validation utility.\n",
        "\n",
        "    Args:\n",
        "        dataset: PyTorch Dataset object to validate\n",
        "        batch_size: Batch size to test with\n",
        "        expected_shape: Expected shape of individual samples (optional)\n",
        "\n",
        "    Returns:\n",
        "        dict: Validation results and statistics\n",
        "    \"\"\"\n",
        "    results = {\n",
        "        'is_valid': True,\n",
        "        'errors': [],\n",
        "        'warnings': [],\n",
        "        'stats': {}\n",
        "    }\n",
        "\n",
        "    # Basic dataset checks\n",
        "    try:\n",
        "        length = len(dataset)\n",
        "        results['stats']['dataset_size'] = length\n",
        "        if length == 0:\n",
        "            results['is_valid'] = False\n",
        "            results['errors'].append(\"Dataset is empty\")\n",
        "            return results\n",
        "    except Exception as e:\n",
        "        results['is_valid'] = False\n",
        "        results['errors'].append(f\"Dataset length check failed: {str(e)}\")\n",
        "        return results\n",
        "\n",
        "    # Sample access check\n",
        "    try:\n",
        "        first_item = dataset[0]\n",
        "        if not isinstance(first_item, (tuple, torch.Tensor)):\n",
        "            results['warnings'].append(f\"Unexpected item type: {type(first_item)}\")\n",
        "    except Exception as e:\n",
        "        results['is_valid'] = False\n",
        "        results['errors'].append(f\"Cannot access first item: {str(e)}\")\n",
        "        return results\n",
        "\n",
        "    # Data type and shape consistency check\n",
        "    shapes = []\n",
        "    types = []\n",
        "    try:\n",
        "        dataloader = DataLoader(dataset, batch_size=batch_size, shuffle=False)\n",
        "        for batch_idx, batch in enumerate(dataloader):\n",
        "            if batch_idx >= 3:  # Check first 3 batches\n",
        "                break\n",
        "\n",
        "            if isinstance(batch, (list, tuple)):\n",
        "                batch_data = batch[0]\n",
        "            else:\n",
        "                batch_data = batch\n",
        "\n",
        "            if isinstance(batch_data, list):\n",
        "                results['warnings'].append(\"Batch returned as list - may need custom collate_fn\")\n",
        "                continue\n",
        "\n",
        "            shapes.append(batch_data.shape)\n",
        "            types.append(batch_data.dtype)\n",
        "\n",
        "            # Basic tensor checks\n",
        "            if torch.isnan(batch_data).any():\n",
        "                results['warnings'].append(f\"NaN values detected in batch {batch_idx}\")\n",
        "            if torch.isinf(batch_data).any():\n",
        "                results['warnings'].append(f\"Infinite values detected in batch {batch_idx}\")\n",
        "\n",
        "    except Exception as e:\n",
        "        results['is_valid'] = False\n",
        "        results['errors'].append(f\"Batch iteration failed: {str(e)}\")\n",
        "        return results\n",
        "\n",
        "    # Shape consistency\n",
        "    if len(set(str(s) for s in shapes)) > 1:\n",
        "        results['is_valid'] = False\n",
        "        results['errors'].append(f\"Inconsistent shapes across batches: {shapes}\")\n",
        "    else:\n",
        "        results['stats']['batch_shape'] = shapes[0] if shapes else None\n",
        "\n",
        "    # Type consistency\n",
        "    if len(set(types)) > 1:\n",
        "        results['warnings'].append(f\"Mixed datatypes across batches: {types}\")\n",
        "    else:\n",
        "        results['stats']['data_type'] = types[0] if types else None\n",
        "\n",
        "    # Shape validation\n",
        "    if expected_shape and shapes:\n",
        "        if shapes[0][1:] != expected_shape:\n",
        "            results['warnings'].append(\n",
        "                f\"Unexpected shape: got {shapes[0][1:]}, expected {expected_shape}\")\n",
        "\n",
        "    return results\n",
        "\n",
        "def print_validation_results(results):\n",
        "    \"\"\"Pretty print the validation results\"\"\"\n",
        "    print(\"\\n=== Dataset Validation Results ===\")\n",
        "    print(f\"Valid: {results['is_valid']}\")\n",
        "\n",
        "    if results['errors']:\n",
        "        print(\"\\nErrors:\")\n",
        "        for error in results['errors']:\n",
        "            print(f\"❌ {error}\")\n",
        "\n",
        "    if results['warnings']:\n",
        "        print(\"\\nWarnings:\")\n",
        "        for warning in results['warnings']:\n",
        "            print(f\"⚠️ {warning}\")\n",
        "\n",
        "    if results['stats']:\n",
        "        print(\"\\nStats:\")\n",
        "        for key, value in results['stats'].items():\n",
        "            print(f\"📊 {key}: {value}\")"
      ]
    },
    {
      "cell_type": "code",
      "execution_count": 17,
      "metadata": {
        "colab": {
          "base_uri": "https://localhost:8080/"
        },
        "id": "dThjVyTFt9Wc",
        "outputId": "c6fb8970-c408-4329-d84a-dc0d2ab1cccf"
      },
      "outputs": [
        {
          "output_type": "stream",
          "name": "stdout",
          "text": [
            "\n",
            "=== Dataset Validation Results ===\n",
            "Valid: True\n",
            "\n",
            "Stats:\n",
            "📊 dataset_size: 867\n",
            "📊 batch_shape: torch.Size([64, 3, 200, 200])\n",
            "📊 data_type: torch.float32\n"
          ]
        }
      ],
      "source": [
        "class ResampledDataset(Dataset):\n",
        "    def __init__(self, joblib_path, transform=None, dummy_label=-1):\n",
        "        loaded_data = joblib.load(joblib_path)\n",
        "        self.subset = loaded_data[0] if isinstance(loaded_data, tuple) else loaded_data\n",
        "        self.transform = transform\n",
        "        self.dummy_label = dummy_label\n",
        "\n",
        "    def __getitem__(self, idx):\n",
        "        sample = self.subset[idx]\n",
        "        # Ensure sample is a tensor\n",
        "        if not isinstance(sample, torch.Tensor):\n",
        "            sample = torch.tensor(sample, dtype=torch.float32)\n",
        "        if self.transform:\n",
        "            sample = self.transform(sample)\n",
        "        return sample, self.dummy_label\n",
        "\n",
        "    def __len__(self):\n",
        "        return len(self.subset)\n",
        "\n",
        "# Create your dataset\n",
        "resampled_dataset = ResampledDataset(resampled_subset_file)\n",
        "\n",
        "# Validate it\n",
        "validation_results = validate_dataset(\n",
        "    test_dataset,\n",
        "    batch_size=64,\n",
        "    expected_shape=None  # Add your expected shape here, e.g. (3, 224, 224)\n",
        ")\n",
        "\n",
        "# Print results\n",
        "print_validation_results(validation_results)"
      ]
    },
    {
      "cell_type": "markdown",
      "metadata": {
        "id": "3VGSC2hsHV8X"
      },
      "source": [
        "### analyzing datasets"
      ]
    },
    {
      "cell_type": "markdown",
      "metadata": {
        "id": "E_pK06KEHZSi"
      },
      "source": [
        "### Create Dataloaders"
      ]
    },
    {
      "cell_type": "code",
      "execution_count": 18,
      "metadata": {
        "id": "W4mkeikd9wxd"
      },
      "outputs": [],
      "source": [
        "from torch.utils.data import DataLoader\n",
        "\n",
        "# Create data loaders\n",
        "batch_size = 32  # Adjust as needed\n",
        "unlabeled_loader = DataLoader(resampled_dataset,\n",
        "                             batch_size=batch_size,\n",
        "                             shuffle=True,\n",
        "                             num_workers=2)  # Remove collate_fn\n",
        "train_loader = DataLoader(train_dataset,\n",
        "                         batch_size=batch_size,\n",
        "                         shuffle=True,\n",
        "                         num_workers=2)\n",
        "val_loader = DataLoader(val_dataset,\n",
        "                       batch_size=batch_size,\n",
        "                       shuffle=False,\n",
        "                       num_workers=2)\n",
        "test_loader = DataLoader(test_dataset,\n",
        "                        batch_size=batch_size,\n",
        "                        shuffle=False,\n",
        "                        num_workers=2)"
      ]
    },
    {
      "cell_type": "markdown",
      "metadata": {
        "id": "Vxvexsd08CZh"
      },
      "source": [
        "# ARCHITECTURE"
      ]
    },
    {
      "cell_type": "code",
      "execution_count": 19,
      "metadata": {
        "id": "lwzeYUC3twh4"
      },
      "outputs": [],
      "source": [
        "device = torch.device(\"cuda\" if torch.cuda.is_available() else \"cpu\")"
      ]
    },
    {
      "cell_type": "code",
      "execution_count": 20,
      "metadata": {
        "colab": {
          "base_uri": "https://localhost:8080/"
        },
        "id": "r7eXXMx4viTd",
        "outputId": "e2c49b03-d8ca-4d0c-b29d-901e55db2f24"
      },
      "outputs": [
        {
          "output_type": "stream",
          "name": "stderr",
          "text": [
            "/usr/local/lib/python3.11/dist-packages/torchvision/models/_utils.py:208: UserWarning: The parameter 'pretrained' is deprecated since 0.13 and may be removed in the future, please use 'weights' instead.\n",
            "  warnings.warn(\n",
            "/usr/local/lib/python3.11/dist-packages/torchvision/models/_utils.py:223: UserWarning: Arguments other than a weight enum or `None` for 'weights' are deprecated since 0.13 and may be removed in the future. The current behavior is equivalent to passing `weights=None`.\n",
            "  warnings.warn(msg)\n"
          ]
        }
      ],
      "source": [
        "\n",
        "import torch\n",
        "import torch.nn as nn\n",
        "import torch.nn.functional as F\n",
        "import torchvision.models as models\n",
        "\n",
        "class CustomResNetEncoder(nn.Module):\n",
        "    def __init__(self):\n",
        "        super().__init__()\n",
        "        # Modified initial conv layer\n",
        "        self.conv1 = nn.Conv2d(3, 64, kernel_size=3, stride=1, padding=1, bias=False)\n",
        "        self.bn1 = nn.InstanceNorm2d(64)\n",
        "        self.relu = nn.LeakyReLU(0.2, inplace=True)\n",
        "\n",
        "        # Load ResNet-18 layers\n",
        "        resnet = models.resnet18(pretrained=False)\n",
        "        self.layer1 = resnet.layer1  # 64 -> 64\n",
        "        self.layer2 = resnet.layer2  # 64 -> 128\n",
        "        self.layer3 = resnet.layer3  # 128 -> 256\n",
        "        self.layer4 = resnet.layer4  # 256 -> 512\n",
        "\n",
        "    def forward(self, x):\n",
        "        x = self.conv1(x)      # 200x200\n",
        "        x = self.bn1(x)\n",
        "        x = self.relu(x)\n",
        "\n",
        "        x = self.layer1(x)     # 200x200\n",
        "        x = self.layer2(x)     # 100x100\n",
        "        x = self.layer3(x)     # 50x50\n",
        "        x = self.layer4(x)     # 25x25\n",
        "        return x\n",
        "\n",
        "class ResidualBlock(nn.Module):\n",
        "    def __init__(self, channels):\n",
        "        super().__init__()\n",
        "        self.conv1 = nn.Conv2d(channels, channels, kernel_size=3, padding=1)\n",
        "        self.norm1 = nn.InstanceNorm2d(channels)\n",
        "        self.conv2 = nn.Conv2d(channels, channels, kernel_size=3, padding=1)\n",
        "        self.norm2 = nn.InstanceNorm2d(channels)\n",
        "        self.relu = nn.LeakyReLU(0.2)\n",
        "\n",
        "    def forward(self, x):\n",
        "        residual = x\n",
        "        x = self.relu(self.norm1(self.conv1(x)))\n",
        "        x = self.norm2(self.conv2(x))\n",
        "        x += residual\n",
        "        return self.relu(x)\n",
        "\n",
        "class MaskedAutoencoder(nn.Module):\n",
        "    def __init__(self, mask_ratio=0.75):\n",
        "        super().__init__()\n",
        "        self.mask_ratio = mask_ratio\n",
        "        self.encoder = CustomResNetEncoder()\n",
        "\n",
        "        # Adjusted decoder for ResNet-18 (512 channels input)\n",
        "        decoder_layers = []\n",
        "\n",
        "        # First block: 512 -> 256\n",
        "        decoder_layers.extend([\n",
        "            nn.Conv2d(512, 256, kernel_size=3, padding=1),\n",
        "            nn.InstanceNorm2d(256),\n",
        "            nn.LeakyReLU(0.2),\n",
        "            nn.Upsample(scale_factor=2, mode='bilinear', align_corners=True),\n",
        "            ResidualBlock(256)\n",
        "        ])\n",
        "\n",
        "        # Second block: 256 -> 128\n",
        "        decoder_layers.extend([\n",
        "            nn.Conv2d(256, 128, kernel_size=3, padding=1),\n",
        "            nn.InstanceNorm2d(128),\n",
        "            nn.LeakyReLU(0.2),\n",
        "            nn.Upsample(scale_factor=2, mode='bilinear', align_corners=True),\n",
        "            ResidualBlock(128)\n",
        "        ])\n",
        "\n",
        "        # Third block: 128 -> 64\n",
        "        decoder_layers.extend([\n",
        "            nn.Conv2d(128, 64, kernel_size=3, padding=1),\n",
        "            nn.InstanceNorm2d(64),\n",
        "            nn.LeakyReLU(0.2),\n",
        "            nn.Upsample(scale_factor=2, mode='bilinear', align_corners=True),\n",
        "            ResidualBlock(64)\n",
        "        ])\n",
        "\n",
        "        # Final layers\n",
        "        decoder_layers.extend([\n",
        "            nn.Conv2d(64, 32, kernel_size=3, padding=1),\n",
        "            nn.InstanceNorm2d(32),\n",
        "            nn.LeakyReLU(0.2),\n",
        "\n",
        "            nn.Conv2d(32, 16, kernel_size=3, padding=1),\n",
        "            nn.InstanceNorm2d(16),\n",
        "            nn.LeakyReLU(0.2),\n",
        "\n",
        "            nn.Conv2d(16, 3, kernel_size=3, padding=1),\n",
        "            nn.Sigmoid()\n",
        "        ])\n",
        "\n",
        "        self.decoder = nn.Sequential(*decoder_layers)\n",
        "\n",
        "    def random_masking(self, x):\n",
        "        B, C, H, W = x.shape\n",
        "        patch_size = 20  # For 200x200 images, using 20x20 patches\n",
        "        num_patches = (H // patch_size) * (W // patch_size)\n",
        "        num_masked = int(self.mask_ratio * num_patches)\n",
        "\n",
        "        noise = torch.rand(B, num_patches, device=x.device)\n",
        "        ids_shuffle = torch.argsort(noise, dim=1)\n",
        "        ids_restore = torch.argsort(ids_shuffle, dim=1)\n",
        "\n",
        "        mask = torch.ones(B, num_patches, dtype=torch.bool, device=x.device)\n",
        "        mask[:, :num_masked] = 0\n",
        "        mask = torch.gather(mask, dim=1, index=ids_restore)\n",
        "\n",
        "        mask = mask.reshape(B, H // patch_size, W // patch_size)\n",
        "        mask = mask.unsqueeze(1).repeat(1, C, patch_size, patch_size)\n",
        "        mask = mask.reshape(B, C, H, W)\n",
        "\n",
        "        masked_x = x * mask\n",
        "        return masked_x, mask\n",
        "\n",
        "    def forward(self, x):\n",
        "        masked_x, mask = self.random_masking(x)\n",
        "        encoded = self.encoder(masked_x)\n",
        "        reconstructed = self.decoder(encoded)\n",
        "        return reconstructed, mask\n",
        "\n",
        "class DetailEnhancedLoss(nn.Module):\n",
        "    def __init__(self, alpha=0.8, beta=0.2):\n",
        "        super().__init__()\n",
        "        self.alpha = alpha\n",
        "        self.beta = beta\n",
        "\n",
        "    def edge_loss(self, pred, target):\n",
        "        def get_edge(x):\n",
        "            dx = x[:, :, :, 1:] - x[:, :, :, :-1]\n",
        "            dy = x[:, :, 1:, :] - x[:, :, :-1, :]\n",
        "            return dx, dy\n",
        "\n",
        "        pred_dx, pred_dy = get_edge(pred)\n",
        "        target_dx, target_dy = get_edge(target)\n",
        "\n",
        "        edge_loss = F.l1_loss(pred_dx, target_dx) + F.l1_loss(pred_dy, target_dy)\n",
        "        return edge_loss\n",
        "\n",
        "    def forward(self, pred, target, mask):\n",
        "        recon_loss = F.l1_loss(pred * (~mask).float(), target * (~mask).float())\n",
        "        edge_loss = self.edge_loss(pred * (~mask).float(), target * (~mask).float())\n",
        "        return self.alpha * recon_loss + self.beta * edge_loss\n",
        "\n",
        "import torch\n",
        "import matplotlib.pyplot as plt\n",
        "import torchvision.utils as vutils\n",
        "from pathlib import Path\n",
        "\n",
        "def save_reconstructions(model, val_loader, epoch, device, save_dir='reconstructions'):\n",
        "    \"\"\"Save reconstruction examples.\"\"\"\n",
        "    Path(save_dir).mkdir(exist_ok=True)\n",
        "\n",
        "    model.eval()\n",
        "    with torch.no_grad():\n",
        "        # Get a batch of images\n",
        "        images, _ = next(iter(val_loader))\n",
        "        images = images.to(device)\n",
        "\n",
        "        # Get reconstructions\n",
        "        reconstructed_images, mask = model(images)\n",
        "\n",
        "        # Create a grid of original and reconstructed images\n",
        "        num_images = min(8, images.size(0))  # Display up to 8 images\n",
        "        comparison = torch.cat([\n",
        "            images[:num_images],\n",
        "            reconstructed_images[:num_images],\n",
        "            images[:num_images] * (~mask[:num_images]).float()  # Masked input\n",
        "        ])\n",
        "\n",
        "        # Save the grid\n",
        "        vutils.save_image(\n",
        "            comparison,\n",
        "            f'{save_dir}/reconstruction_epoch_{epoch}.png',\n",
        "            nrow=num_images,\n",
        "            normalize=True\n",
        "        )\n",
        "\n",
        "def plot_losses(train_losses, val_losses, save_dir='plots'):\n",
        "    \"\"\"Plot and save training and validation losses.\"\"\"\n",
        "    Path(save_dir).mkdir(exist_ok=True)\n",
        "\n",
        "    plt.figure(figsize=(10, 6))\n",
        "    plt.plot(train_losses, label='Training Loss')\n",
        "    plt.plot(val_losses, label='Validation Loss')\n",
        "    plt.xlabel('Epoch')\n",
        "    plt.ylabel('Loss')\n",
        "    plt.title('Training and Validation Losses')\n",
        "    plt.legend()\n",
        "    plt.grid(True)\n",
        "    plt.savefig(f'{save_dir}/loss_plot.png')\n",
        "    plt.close()\n",
        "\n",
        "def train(model, train_loader, val_loader, criterion, optimizer, num_epochs=100):\n",
        "    device = next(model.parameters()).device\n",
        "    best_val_loss = float('inf')\n",
        "    epochs_without_improvement = 0\n",
        "    patience = 5\n",
        "\n",
        "    scheduler = torch.optim.lr_scheduler.CosineAnnealingLR(optimizer, T_max=num_epochs)\n",
        "\n",
        "    # Lists to store losses for plotting\n",
        "    train_losses = []\n",
        "    val_losses = []\n",
        "\n",
        "    for epoch in range(num_epochs):\n",
        "        model.train()\n",
        "        train_loss = 0.0\n",
        "\n",
        "        for batch in tqdm(train_loader, desc=f\"Epoch {epoch + 1}/{num_epochs}\"):\n",
        "            images, _ = batch\n",
        "            images = images.to(device)\n",
        "\n",
        "            optimizer.zero_grad()\n",
        "            reconstructed_images, mask = model(images)\n",
        "            loss = criterion(reconstructed_images, images, mask)\n",
        "\n",
        "            loss.backward()\n",
        "            optimizer.step()\n",
        "            train_loss += loss.item()\n",
        "\n",
        "        train_loss /= len(train_loader)\n",
        "        print(f\"Epoch {epoch + 1}/{num_epochs}, Train Loss: {train_loss:.4f}\")\n",
        "\n",
        "        model.eval()\n",
        "        val_loss = 0.0\n",
        "        with torch.no_grad():\n",
        "            for batch in val_loader:\n",
        "                images, _ = batch\n",
        "                images = images.to(device)\n",
        "                reconstructed_images, mask = model(images)\n",
        "                loss = criterion(reconstructed_images, images, mask)\n",
        "                val_loss += loss.item()\n",
        "\n",
        "        val_loss /= len(val_loader)\n",
        "        print(f\"Epoch {epoch + 1}/{num_epochs}, Val Loss: {val_loss:.4f}\")\n",
        "\n",
        "        # Save losses for plotting\n",
        "        train_losses.append(train_loss)\n",
        "        val_losses.append(val_loss)\n",
        "\n",
        "        # Save reconstructions and plot losses every 5 epochs\n",
        "        if (epoch + 1) % 5 == 0:\n",
        "            save_reconstructions(model, val_loader, epoch + 1, device)\n",
        "            plot_losses(train_losses, val_losses)\n",
        "\n",
        "        scheduler.step()\n",
        "\n",
        "        if val_loss < best_val_loss:\n",
        "            best_val_loss = val_loss\n",
        "            epochs_without_improvement = 0\n",
        "            torch.save({\n",
        "                'epoch': epoch + 1,\n",
        "                'model_state_dict': model.state_dict(),\n",
        "                'optimizer_state_dict': optimizer.state_dict(),\n",
        "                'train_losses': train_losses,\n",
        "                'val_losses': val_losses,\n",
        "                'best_val_loss': best_val_loss\n",
        "            }, \"/content/drive/MyDrive/data/best_masked_autoencoder.pth\")\n",
        "        else:\n",
        "            epochs_without_improvement += 1\n",
        "            if epochs_without_improvement >= patience:\n",
        "                print(f\"Early stopping at epoch {epoch + 1}\")\n",
        "                break\n",
        "\n",
        "    # Final plots\n",
        "    plot_losses(train_losses, val_losses)\n",
        "    save_reconstructions(model, val_loader, epoch + 1, device)\n",
        "\n",
        "    return train_losses, val_losses\n",
        "\n",
        "# Create directories for saving results\n",
        "Path('reconstructions').mkdir(exist_ok=True)\n",
        "Path('plots').mkdir(exist_ok=True)\n",
        "\n",
        "# Initialize and train\n",
        "model = MaskedAutoencoder(mask_ratio=0.75).to(device)\n",
        "criterion = DetailEnhancedLoss()\n",
        "optimizer = torch.optim.AdamW(model.parameters(), lr=1e-4, weight_decay=1e-4)\n",
        "\n",
        "# Train and get loss histories\n",
        "# train_losses, val_losses = train(model, train_loader, val_loader, criterion, optimizer, num_epochs=100)"
      ]
    },
    {
      "cell_type": "code",
      "execution_count": 21,
      "metadata": {
        "colab": {
          "base_uri": "https://localhost:8080/"
        },
        "id": "ot4iTk8XAuIN",
        "outputId": "97a833bc-66ab-464c-cbce-80941db5310d"
      },
      "outputs": [
        {
          "output_type": "stream",
          "name": "stderr",
          "text": [
            "<ipython-input-21-f06307fc3142>:28: FutureWarning: You are using `torch.load` with `weights_only=False` (the current default value), which uses the default pickle module implicitly. It is possible to construct malicious pickle data which will execute arbitrary code during unpickling (See https://github.com/pytorch/pytorch/blob/main/SECURITY.md#untrusted-models for more details). In a future release, the default value for `weights_only` will be flipped to `True`. This limits the functions that could be executed during unpickling. Arbitrary objects will no longer be allowed to be loaded via this mode unless they are explicitly allowlisted by the user via `torch.serialization.add_safe_globals`. We recommend you start setting `weights_only=True` for any use case where you don't have full control of the loaded file. Please open an issue on GitHub for any issues related to this experimental feature.\n",
            "  checkpoint = torch.load(checkpoint_path, map_location=device)\n"
          ]
        },
        {
          "output_type": "stream",
          "name": "stdout",
          "text": [
            "Successfully loaded checkpoint from epoch 30\n",
            "Best validation loss: 0.0241\n",
            "Number of training epochs: 30\n",
            "Final training loss: 0.0255\n",
            "Final validation loss: 0.0241\n"
          ]
        }
      ],
      "source": [
        "import torch\n",
        "from pathlib import Path\n",
        "\n",
        "def load_checkpoint(model, checkpoint_path, device=None, eval_mode=True):\n",
        "    \"\"\"\n",
        "    Load a checkpoint into the model.\n",
        "\n",
        "    Args:\n",
        "        model: The MaskedAutoencoder model instance\n",
        "        checkpoint_path: Path to the checkpoint file\n",
        "        device: torch.device to load the model to (if None, uses current device)\n",
        "        eval_mode: Whether to set the model to evaluation mode after loading\n",
        "\n",
        "    Returns:\n",
        "        model: Loaded model\n",
        "        checkpoint_data: Dictionary containing training history and metadata\n",
        "    \"\"\"\n",
        "    if device is None:\n",
        "        device = next(model.parameters()).device\n",
        "\n",
        "    # Check if checkpoint exists\n",
        "    checkpoint_path = Path(checkpoint_path)\n",
        "    if not checkpoint_path.exists():\n",
        "        raise FileNotFoundError(f\"No checkpoint found at {checkpoint_path}\")\n",
        "\n",
        "    try:\n",
        "        # Load checkpoint\n",
        "        checkpoint = torch.load(checkpoint_path, map_location=device)\n",
        "\n",
        "        # Load model state\n",
        "        model.load_state_dict(checkpoint['model_state_dict'])\n",
        "\n",
        "        # Move model to device\n",
        "        model = model.to(device)\n",
        "\n",
        "        # Set to eval mode if requested\n",
        "        if eval_mode:\n",
        "            model.eval()\n",
        "\n",
        "        # Extract training history and metadata\n",
        "        checkpoint_data = {\n",
        "            'epoch': checkpoint['epoch'],\n",
        "            'train_losses': checkpoint.get('train_losses', []),\n",
        "            'val_losses': checkpoint.get('val_losses', []),\n",
        "            'best_val_loss': checkpoint.get('best_val_loss', float('inf'))\n",
        "        }\n",
        "\n",
        "        print(f\"Successfully loaded checkpoint from epoch {checkpoint_data['epoch']}\")\n",
        "        print(f\"Best validation loss: {checkpoint_data['best_val_loss']:.4f}\")\n",
        "\n",
        "        return model, checkpoint_data\n",
        "\n",
        "    except Exception as e:\n",
        "        print(f\"Error loading checkpoint: {str(e)}\")\n",
        "        raise\n",
        "\n",
        "# Example usage:\n",
        "def main():\n",
        "    # Initialize model\n",
        "    device = torch.device('cuda' if torch.cuda.is_available() else 'cpu')\n",
        "    model = MaskedAutoencoder(mask_ratio=0.75)\n",
        "\n",
        "    # Load checkpoint\n",
        "    try:\n",
        "        model, checkpoint_data = load_checkpoint(\n",
        "            model=model,\n",
        "            checkpoint_path=\"/content/drive/MyDrive/data/best_masked_autoencoder.pth\",\n",
        "            device=device\n",
        "        )\n",
        "\n",
        "        # Print training history if needed\n",
        "        if checkpoint_data['train_losses']:\n",
        "            print(f\"Number of training epochs: {len(checkpoint_data['train_losses'])}\")\n",
        "            print(f\"Final training loss: {checkpoint_data['train_losses'][-1]:.4f}\")\n",
        "            print(f\"Final validation loss: {checkpoint_data['val_losses'][-1]:.4f}\")\n",
        "\n",
        "    except Exception as e:\n",
        "        print(f\"Failed to load checkpoint: {str(e)}\")\n",
        "        return\n",
        "\n",
        "    # Model is now ready for inference\n",
        "    model.eval()\n",
        "    with torch.no_grad():\n",
        "        # Your inference code here\n",
        "        pass\n",
        "\n",
        "if __name__ == \"__main__\":\n",
        "    main()"
      ]
    },
    {
      "cell_type": "markdown",
      "metadata": {
        "id": "CScXTSWD-bQ3"
      },
      "source": [
        "# TRAINING"
      ]
    },
    {
      "cell_type": "markdown",
      "metadata": {
        "id": "UYZuks9sR6lG"
      },
      "source": [
        "## Self-Supervised Pre-training"
      ]
    },
    {
      "cell_type": "markdown",
      "metadata": {
        "id": "Nc6-we4ESF80"
      },
      "source": [
        "## Supervised Finetuning"
      ]
    },
    {
      "cell_type": "markdown",
      "metadata": {
        "id": "ks7RxJ9AZDt6"
      },
      "source": [
        "### LOAD PRETRAINED MODEL"
      ]
    },
    {
      "cell_type": "markdown",
      "metadata": {
        "id": "ZcNin9nzZJJl"
      },
      "source": [
        "### MODIFY THE ARCHITECTURE TO CLASSIFIER"
      ]
    },
    {
      "cell_type": "code",
      "execution_count": 22,
      "metadata": {
        "id": "837LcqbxZOFh"
      },
      "outputs": [],
      "source": [
        "import torch\n",
        "import torch.nn as nn\n",
        "import math\n",
        "\n",
        "class ImprovedMedicalClassifier(nn.Module):\n",
        "    def __init__(self, pretrained_model=None):\n",
        "        super().__init__()\n",
        "        self.encoder = pretrained_model.encoder\n",
        "\n",
        "        # Freeze layers initially for stable training\n",
        "        self._freeze_encoder()\n",
        "\n",
        "        # Simplified classifier with better regularization techniques\n",
        "        self.classifier = nn.Sequential(\n",
        "            nn.AdaptiveAvgPool2d(1),        # Global average pooling\n",
        "            nn.Flatten(),\n",
        "            nn.LayerNorm(512),              # LayerNorm for better stability than BatchNorm\n",
        "            nn.Dropout(0.2),                # Moderate dropout\n",
        "            nn.Linear(512, 256),\n",
        "            nn.GELU(),                      # Smoother activation function\n",
        "            nn.LayerNorm(256),\n",
        "            nn.Dropout(0.2),\n",
        "            nn.Linear(256, 64),\n",
        "            nn.GELU(),\n",
        "            nn.LayerNorm(64),\n",
        "            nn.Linear(64, 1)                # No activation - use with BCEWithLogitsLoss\n",
        "        )\n",
        "\n",
        "        # Initialize weights properly\n",
        "        self._init_classifier_weights()\n",
        "\n",
        "    def _freeze_encoder(self):\n",
        "        \"\"\"Freeze encoder layers in a controlled way\"\"\"\n",
        "        # Freeze all encoder parameters initially\n",
        "        for param in self.encoder.parameters():\n",
        "            param.requires_grad = False\n",
        "\n",
        "        # Only unfreeze the last layer (layer4) initially\n",
        "        for param in self.encoder.layer4.parameters():\n",
        "            param.requires_grad = True\n",
        "\n",
        "    def unfreeze_layer3(self):\n",
        "        \"\"\"Call this method during training to progressively unfreeze layers\"\"\"\n",
        "        for param in self.encoder.layer3.parameters():\n",
        "            param.requires_grad = True\n",
        "\n",
        "    def unfreeze_all(self):\n",
        "        \"\"\"Unfreeze all encoder layers - call this when fine-tuning the whole network\"\"\"\n",
        "        for param in self.encoder.parameters():\n",
        "            param.requires_grad = True\n",
        "\n",
        "    def _init_classifier_weights(self):\n",
        "        \"\"\"Initialize weights for better convergence\"\"\"\n",
        "        for m in self.classifier.modules():\n",
        "            if isinstance(m, nn.Linear):\n",
        "                # Kaiming initialization for linear layers with GELU\n",
        "                nn.init.kaiming_normal_(m.weight, mode='fan_out', nonlinearity='relu')\n",
        "                if m.bias is not None:\n",
        "                    nn.init.constant_(m.bias, 0)\n",
        "\n",
        "    def forward(self, x):\n",
        "        encoded = self.encoder(x)\n",
        "\n",
        "        # Enhanced attention mechanism\n",
        "        b, c, h, w = encoded.shape\n",
        "        # Global average pooling for channel attention\n",
        "        avg_pool = torch.mean(encoded, dim=[2, 3], keepdim=True)\n",
        "        # Global max pooling for additional feature highlighting\n",
        "        max_pool, _ = torch.max(torch.max(encoded, dim=3, keepdim=True)[0], dim=2, keepdim=True)\n",
        "\n",
        "        # Combine both attention mechanisms\n",
        "        attention = torch.sigmoid(avg_pool + max_pool)\n",
        "        encoded = encoded * attention\n",
        "\n",
        "        return self.classifier(encoded)\n",
        "\n",
        "\n",
        "# class FocalLoss(nn.Module):\n",
        "#     \"\"\"Focal Loss implementation for dealing with class imbalance\"\"\"\n",
        "#     def __init__(self, alpha=0.25, gamma=2.0, reduction='mean'):\n",
        "#         super().__init__()\n",
        "#         self.alpha = alpha\n",
        "#         self.gamma = gamma\n",
        "#         self.reduction = reduction\n",
        "#         self.bce_with_logits = nn.BCEWithLogitsLoss(reduction='none')\n",
        "\n",
        "#     def forward(self, inputs, targets):\n",
        "#         BCE_loss = self.bce_with_logits(inputs, targets)\n",
        "#         pt = torch.exp(-BCE_loss)  # prevents nans when probability 0\n",
        "#         F_loss = self.alpha * (1-pt)**self.gamma * BCE_loss\n",
        "\n",
        "#         if self.reduction == 'mean':\n",
        "#             return torch.mean(F_loss)\n",
        "#         elif self.reduction == 'sum':\n",
        "#             return torch.sum(F_loss)\n",
        "#         else:\n",
        "#             return F_loss"
      ]
    },
    {
      "cell_type": "markdown",
      "metadata": {
        "id": "ugYS7SkRZUWB"
      },
      "source": [
        "### HYPERPARAMETERS"
      ]
    },
    {
      "cell_type": "markdown",
      "metadata": {
        "id": "pERyX7R3ZayE"
      },
      "source": [
        "### FINETUNING"
      ]
    },
    {
      "cell_type": "code",
      "execution_count": 23,
      "metadata": {
        "colab": {
          "base_uri": "https://localhost:8080/"
        },
        "id": "tveONzQp2BQy",
        "outputId": "8710bf1e-c554-438d-d4cf-172817c43b14"
      },
      "outputs": [
        {
          "output_type": "stream",
          "name": "stdout",
          "text": [
            "Requirement already satisfied: scikit-learn in /usr/local/lib/python3.11/dist-packages (1.6.1)\n",
            "Requirement already satisfied: numpy>=1.19.5 in /usr/local/lib/python3.11/dist-packages (from scikit-learn) (1.26.4)\n",
            "Requirement already satisfied: scipy>=1.6.0 in /usr/local/lib/python3.11/dist-packages (from scikit-learn) (1.13.1)\n",
            "Requirement already satisfied: joblib>=1.2.0 in /usr/local/lib/python3.11/dist-packages (from scikit-learn) (1.4.2)\n",
            "Requirement already satisfied: threadpoolctl>=3.1.0 in /usr/local/lib/python3.11/dist-packages (from scikit-learn) (3.5.0)\n"
          ]
        }
      ],
      "source": [
        "!pip install scikit-learn  # Install scikit-learn if not already installed"
      ]
    },
    {
      "cell_type": "code",
      "execution_count": 24,
      "metadata": {
        "id": "p85GAvlXBHCX"
      },
      "outputs": [],
      "source": [
        "from sklearn.metrics import roc_auc_score  # Import roc_auc_score\n",
        "import torch\n",
        "import torch.nn as nn\n",
        "import torch.optim as optim\n",
        "from torch.utils.data import Dataset, DataLoader\n",
        "from torchvision import transforms\n",
        "import os\n",
        "from PIL import Image\n",
        "import numpy as np\n",
        "from torch.optim.lr_scheduler import ReduceLROnPlateau\n",
        "import numpy as np\n",
        "import matplotlib.pyplot as plt\n",
        "from tqdm import tqdm\n",
        "import joblib\n",
        "\n",
        "\n",
        "class EarlyStopping:\n",
        "    def __init__(self, patience=7, min_delta=0.001, mode='max'):\n",
        "        self.patience = patience\n",
        "        self.min_delta = min_delta\n",
        "        self.mode = mode\n",
        "        self.counter = 0\n",
        "        self.best_score = None\n",
        "        self.early_stop = False\n",
        "        self.delta = 0\n",
        "\n",
        "    def __call__(self, score):\n",
        "        if self.best_score is None:\n",
        "            self.best_score = score\n",
        "        elif self.mode == 'max':\n",
        "            if score <= self.best_score + self.min_delta:\n",
        "                self.counter += 1\n",
        "            else:\n",
        "                self.best_score = score\n",
        "                self.counter = 0\n",
        "        else:  # mode == 'min'\n",
        "            if score >= self.best_score - self.min_delta:\n",
        "                self.counter += 1\n",
        "            else:\n",
        "                self.best_score = score\n",
        "                self.counter = 0\n",
        "\n",
        "        if self.counter >= self.patience:\n",
        "            self.early_stop = True\n",
        "\n",
        "        return self.early_stop\n",
        "\n",
        "def train_classifier_improved(model, train_loader, val_loader, device, num_epochs=100):\n",
        "    print(\"Starting improved fine-tuning for binary classification...\")\n",
        "\n",
        "    # Loss function - BCEWithLogitsLoss is more numerically stable\n",
        "    criterion = nn.BCEWithLogitsLoss()\n",
        "\n",
        "    # Create optimizer with lower initial learning rates\n",
        "    optimizer = torch.optim.AdamW([\n",
        "        {'params': model.encoder.parameters(), 'lr': 1e-6},\n",
        "        {'params': model.classifier.parameters(), 'lr': 1e-5}\n",
        "    ], weight_decay=0.001)\n",
        "\n",
        "    # Learning rate scheduler with warmup\n",
        "    def get_cosine_schedule_with_warmup(optimizer, num_warmup_steps, num_training_steps, min_lr=1e-7):\n",
        "        def lr_lambda(current_step):\n",
        "            if current_step < num_warmup_steps:\n",
        "                return float(current_step) / float(max(1, num_warmup_steps))\n",
        "            progress = float(current_step - num_warmup_steps) / float(max(1, num_training_steps - num_warmup_steps))\n",
        "            return max(min_lr, 0.5 * (1.0 + math.cos(math.pi * progress)))\n",
        "\n",
        "        return torch.optim.lr_scheduler.LambdaLR(optimizer, lr_lambda)\n",
        "\n",
        "    num_training_steps = len(train_loader) * num_epochs\n",
        "    num_warmup_steps = num_training_steps * 0.1  # 10% warmup\n",
        "    scheduler = get_cosine_schedule_with_warmup(optimizer, num_warmup_steps, num_training_steps)\n",
        "\n",
        "    # Initialize early stopping with increased patience\n",
        "    early_stopping = EarlyStopping(patience=15, min_delta=0.001, mode='max')\n",
        "\n",
        "    # Gradient clipping\n",
        "    torch.nn.utils.clip_grad_norm_(model.parameters(), max_norm=0.5)  # Reduced norm for stability\n",
        "\n",
        "    best_val_auc = 0.0\n",
        "    train_losses = []\n",
        "    val_losses = []\n",
        "    val_aucs = []\n",
        "    encoder_lrs = []\n",
        "    classifier_lrs = []\n",
        "\n",
        "    # Gradient accumulation steps\n",
        "    accum_steps = 2  # Accumulate gradients over 2 batches effectively doubling batch size\n",
        "\n",
        "    # Training loop\n",
        "    for epoch in range(num_epochs):\n",
        "        # Progressive unfreezing - after 10 epochs, unfreeze layer3\n",
        "        if epoch == 5:\n",
        "            print(\"Unfreezing encoder layer 3...\")\n",
        "            model.unfreeze_layer3()\n",
        "            # Adjust learning rate for newly unfrozen layers\n",
        "            optimizer.param_groups[0]['lr'] = 5e-7  # Lower LR for encoder\n",
        "\n",
        "        # Training phase\n",
        "        model.train()\n",
        "        train_loss = 0.0\n",
        "        y_train_true = []\n",
        "        y_train_pred = []\n",
        "\n",
        "        pbar = tqdm(train_loader, desc=f'Epoch {epoch+1}/{num_epochs}')\n",
        "        optimizer.zero_grad()  # Zero gradients before gradient accumulation loop\n",
        "\n",
        "        for i, (images, labels) in enumerate(pbar):\n",
        "            images = images.to(device)\n",
        "            labels = labels.float().to(device)\n",
        "\n",
        "            # Forward pass\n",
        "            outputs = model(images)\n",
        "            loss = criterion(outputs.squeeze(), labels) / accum_steps  # Scale loss\n",
        "\n",
        "            # Backward pass\n",
        "            loss.backward()\n",
        "\n",
        "            # Gradient accumulation\n",
        "            if (i + 1) % accum_steps == 0 or (i + 1) == len(train_loader):\n",
        "                # Apply gradient clipping\n",
        "                torch.nn.utils.clip_grad_norm_(model.parameters(), max_norm=0.5)\n",
        "\n",
        "                # Optimizer step\n",
        "                optimizer.step()\n",
        "                scheduler.step()\n",
        "                optimizer.zero_grad()\n",
        "\n",
        "            # Track metrics\n",
        "            train_loss += loss.item() * accum_steps\n",
        "            y_train_true.extend(labels.cpu().numpy())\n",
        "            y_train_pred.extend(torch.sigmoid(outputs.squeeze()).detach().cpu().numpy())\n",
        "\n",
        "            pbar.set_postfix({'loss': loss.item() * accum_steps})\n",
        "\n",
        "        # Calculate training metrics\n",
        "        avg_train_loss = train_loss / len(train_loader)\n",
        "        train_auc = roc_auc_score(y_train_true, y_train_pred)\n",
        "        train_losses.append(avg_train_loss)\n",
        "\n",
        "        # Store current learning rates\n",
        "        encoder_lrs.append(optimizer.param_groups[0]['lr'])\n",
        "        classifier_lrs.append(optimizer.param_groups[1]['lr'])\n",
        "\n",
        "        # Validation phase\n",
        "        model.eval()\n",
        "        val_loss = 0.0\n",
        "        val_labels = []\n",
        "        val_preds = []\n",
        "\n",
        "        with torch.no_grad():\n",
        "            for images, labels in tqdm(val_loader, desc=\"Validation\"):\n",
        "                images = images.to(device)\n",
        "                labels = labels.float().to(device)\n",
        "\n",
        "                outputs = model(images)\n",
        "                loss = criterion(outputs.squeeze(), labels)\n",
        "                val_loss += loss.item()\n",
        "\n",
        "                val_labels.extend(labels.cpu().numpy())\n",
        "                val_preds.extend(torch.sigmoid(outputs.squeeze()).cpu().numpy())\n",
        "\n",
        "        avg_val_loss = val_loss / len(val_loader)\n",
        "        val_losses.append(avg_val_loss)\n",
        "\n",
        "        # Compute validation metrics\n",
        "        val_auc = roc_auc_score(val_labels, val_preds)\n",
        "        val_aucs.append(val_auc)\n",
        "\n",
        "        # Save the best model\n",
        "        if val_auc > best_val_auc:\n",
        "            best_val_auc = val_auc\n",
        "            torch.save({\n",
        "                'epoch': epoch + 1,\n",
        "                'model_state_dict': model.state_dict(),\n",
        "                'optimizer_state_dict': optimizer.state_dict(),\n",
        "                'val_auc': val_auc,\n",
        "                'train_losses': train_losses,\n",
        "                'val_losses': val_losses,\n",
        "                'val_aucs': val_aucs,\n",
        "                'encoder_lrs': encoder_lrs,\n",
        "                'classifier_lrs': classifier_lrs\n",
        "            }, '/content/drive/MyDrive/data/best_classification_model_improved.pth')\n",
        "            print(f\"New best model saved with validation AUC: {val_auc:.4f}\")\n",
        "\n",
        "        # Print metrics\n",
        "        print(f\"\\nEpoch {epoch+1}/{num_epochs}\")\n",
        "        print(f\"Train Loss: {avg_train_loss:.4f}, Train AUC: {train_auc:.4f}\")\n",
        "        print(f\"Val Loss: {avg_val_loss:.4f}, Val AUC: {val_auc:.4f}\")\n",
        "        print(f\"Learning rates - Encoder: {encoder_lrs[-1]:.2e}, Classifier: {classifier_lrs[-1]:.2e}\")\n",
        "        print(\"-\" * 50)\n",
        "\n",
        "        # Early stopping check\n",
        "        if early_stopping(val_auc):\n",
        "            print(f\"Early stopping triggered after {epoch + 1} epochs\")\n",
        "            break\n",
        "\n",
        "        # Clear memory at the end of each epoch\n",
        "        torch.cuda.empty_cache()\n",
        "\n",
        "    # Plot training and validation metrics\n",
        "    plt.figure(figsize=(15, 5))\n",
        "    plt.subplot(1, 3, 1)\n",
        "    plt.plot(train_losses, label=\"Train Loss\")\n",
        "    plt.plot(val_losses, label=\"Val Loss\")\n",
        "    plt.xlabel(\"Epoch\")\n",
        "    plt.ylabel(\"Loss\")\n",
        "    plt.title(\"Training and Validation Losses\")\n",
        "    plt.legend()\n",
        "    plt.grid()\n",
        "\n",
        "    plt.subplot(1, 3, 2)\n",
        "    plt.plot(val_aucs, label=\"Val AUC\")\n",
        "    plt.xlabel(\"Epoch\")\n",
        "    plt.ylabel(\"AUC\")\n",
        "    plt.title(\"Validation AUC\")\n",
        "    plt.legend()\n",
        "    plt.grid()\n",
        "\n",
        "    plt.subplot(1, 3, 3)\n",
        "    plt.plot(encoder_lrs, label=\"Encoder LR\")\n",
        "    plt.plot(classifier_lrs, label=\"Classifier LR\")\n",
        "    plt.xlabel(\"Epoch\")\n",
        "    plt.ylabel(\"Learning Rate\")\n",
        "    plt.title(\"Learning Rate Schedule\")\n",
        "    plt.legend()\n",
        "    plt.grid()\n",
        "    plt.yscale('log')\n",
        "\n",
        "    plt.tight_layout()\n",
        "    plt.savefig(\"improved_training_metrics.png\")\n",
        "    plt.show()\n",
        "\n",
        "    return model"
      ]
    },
    {
      "cell_type": "code",
      "execution_count": 25,
      "metadata": {
        "colab": {
          "base_uri": "https://localhost:8080/",
          "height": 1000
        },
        "id": "oKYoJeMZBYUR",
        "outputId": "d095d256-d175-4879-f682-efdff2a82477"
      },
      "outputs": [
        {
          "output_type": "stream",
          "name": "stderr",
          "text": [
            "<ipython-input-21-f06307fc3142>:28: FutureWarning: You are using `torch.load` with `weights_only=False` (the current default value), which uses the default pickle module implicitly. It is possible to construct malicious pickle data which will execute arbitrary code during unpickling (See https://github.com/pytorch/pytorch/blob/main/SECURITY.md#untrusted-models for more details). In a future release, the default value for `weights_only` will be flipped to `True`. This limits the functions that could be executed during unpickling. Arbitrary objects will no longer be allowed to be loaded via this mode unless they are explicitly allowlisted by the user via `torch.serialization.add_safe_globals`. We recommend you start setting `weights_only=True` for any use case where you don't have full control of the loaded file. Please open an issue on GitHub for any issues related to this experimental feature.\n",
            "  checkpoint = torch.load(checkpoint_path, map_location=device)\n"
          ]
        },
        {
          "output_type": "stream",
          "name": "stdout",
          "text": [
            "Successfully loaded checkpoint from epoch 30\n",
            "Best validation loss: 0.0241\n",
            "Starting improved fine-tuning for binary classification...\n"
          ]
        },
        {
          "output_type": "stream",
          "name": "stderr",
          "text": [
            "Epoch 1/500: 100%|██████████| 197/197 [22:19<00:00,  6.80s/it, loss=4.78]\n",
            "Validation: 100%|██████████| 28/28 [03:07<00:00,  6.68s/it]\n"
          ]
        },
        {
          "output_type": "stream",
          "name": "stdout",
          "text": [
            "New best model saved with validation AUC: 0.5612\n",
            "\n",
            "Epoch 1/500\n",
            "Train Loss: 4.1757, Train AUC: 0.5296\n",
            "Val Loss: 4.5516, Val AUC: 0.5612\n",
            "Learning rates - Encoder: 1.01e-08, Classifier: 1.01e-07\n",
            "--------------------------------------------------\n"
          ]
        },
        {
          "output_type": "stream",
          "name": "stderr",
          "text": [
            "Epoch 2/500: 100%|██████████| 197/197 [01:16<00:00,  2.57it/s, loss=5.97]\n",
            "Validation: 100%|██████████| 28/28 [00:08<00:00,  3.46it/s]\n"
          ]
        },
        {
          "output_type": "stream",
          "name": "stdout",
          "text": [
            "\n",
            "Epoch 2/500\n",
            "Train Loss: 4.2000, Train AUC: 0.5288\n",
            "Val Loss: 4.5078, Val AUC: 0.5538\n",
            "Learning rates - Encoder: 2.01e-08, Classifier: 2.01e-07\n",
            "--------------------------------------------------\n"
          ]
        },
        {
          "output_type": "stream",
          "name": "stderr",
          "text": [
            "Epoch 3/500: 100%|██████████| 197/197 [01:15<00:00,  2.60it/s, loss=6.08]\n",
            "Validation: 100%|██████████| 28/28 [00:08<00:00,  3.43it/s]\n"
          ]
        },
        {
          "output_type": "stream",
          "name": "stdout",
          "text": [
            "\n",
            "Epoch 3/500\n",
            "Train Loss: 4.0626, Train AUC: 0.5329\n",
            "Val Loss: 4.4744, Val AUC: 0.5560\n",
            "Learning rates - Encoder: 3.02e-08, Classifier: 3.02e-07\n",
            "--------------------------------------------------\n"
          ]
        },
        {
          "output_type": "stream",
          "name": "stderr",
          "text": [
            "Epoch 4/500: 100%|██████████| 197/197 [01:15<00:00,  2.60it/s, loss=4.06]\n",
            "Validation: 100%|██████████| 28/28 [00:08<00:00,  3.39it/s]\n"
          ]
        },
        {
          "output_type": "stream",
          "name": "stdout",
          "text": [
            "New best model saved with validation AUC: 0.5771\n",
            "\n",
            "Epoch 4/500\n",
            "Train Loss: 4.0722, Train AUC: 0.5283\n",
            "Val Loss: 4.1202, Val AUC: 0.5771\n",
            "Learning rates - Encoder: 4.02e-08, Classifier: 4.02e-07\n",
            "--------------------------------------------------\n"
          ]
        },
        {
          "output_type": "stream",
          "name": "stderr",
          "text": [
            "Epoch 5/500: 100%|██████████| 197/197 [01:16<00:00,  2.58it/s, loss=4.14]\n",
            "Validation: 100%|██████████| 28/28 [00:08<00:00,  3.46it/s]\n"
          ]
        },
        {
          "output_type": "stream",
          "name": "stdout",
          "text": [
            "New best model saved with validation AUC: 0.5808\n",
            "\n",
            "Epoch 5/500\n",
            "Train Loss: 3.9637, Train AUC: 0.5412\n",
            "Val Loss: 4.0140, Val AUC: 0.5808\n",
            "Learning rates - Encoder: 5.03e-08, Classifier: 5.03e-07\n",
            "--------------------------------------------------\n",
            "Unfreezing encoder layer 3...\n"
          ]
        },
        {
          "output_type": "stream",
          "name": "stderr",
          "text": [
            "Epoch 6/500: 100%|██████████| 197/197 [01:38<00:00,  2.01it/s, loss=2.06]\n",
            "Validation: 100%|██████████| 28/28 [00:08<00:00,  3.44it/s]\n"
          ]
        },
        {
          "output_type": "stream",
          "name": "stdout",
          "text": [
            "New best model saved with validation AUC: 0.5888\n",
            "\n",
            "Epoch 6/500\n",
            "Train Loss: 3.8027, Train AUC: 0.5498\n",
            "Val Loss: 3.8384, Val AUC: 0.5888\n",
            "Learning rates - Encoder: 6.03e-08, Classifier: 6.03e-07\n",
            "--------------------------------------------------\n"
          ]
        },
        {
          "output_type": "stream",
          "name": "stderr",
          "text": [
            "Epoch 7/500: 100%|██████████| 197/197 [01:38<00:00,  1.99it/s, loss=3.42]\n",
            "Validation: 100%|██████████| 28/28 [00:08<00:00,  3.47it/s]\n"
          ]
        },
        {
          "output_type": "stream",
          "name": "stdout",
          "text": [
            "New best model saved with validation AUC: 0.6018\n",
            "\n",
            "Epoch 7/500\n",
            "Train Loss: 3.6520, Train AUC: 0.5546\n",
            "Val Loss: 3.6048, Val AUC: 0.6018\n",
            "Learning rates - Encoder: 7.04e-08, Classifier: 7.04e-07\n",
            "--------------------------------------------------\n"
          ]
        },
        {
          "output_type": "stream",
          "name": "stderr",
          "text": [
            "Epoch 8/500: 100%|██████████| 197/197 [01:38<00:00,  1.99it/s, loss=5.18]\n",
            "Validation: 100%|██████████| 28/28 [00:08<00:00,  3.45it/s]\n"
          ]
        },
        {
          "output_type": "stream",
          "name": "stdout",
          "text": [
            "New best model saved with validation AUC: 0.6246\n",
            "\n",
            "Epoch 8/500\n",
            "Train Loss: 3.5598, Train AUC: 0.5535\n",
            "Val Loss: 3.3586, Val AUC: 0.6246\n",
            "Learning rates - Encoder: 8.04e-08, Classifier: 8.04e-07\n",
            "--------------------------------------------------\n"
          ]
        },
        {
          "output_type": "stream",
          "name": "stderr",
          "text": [
            "Epoch 9/500: 100%|██████████| 197/197 [01:38<00:00,  2.00it/s, loss=3.52]\n",
            "Validation: 100%|██████████| 28/28 [00:08<00:00,  3.46it/s]\n"
          ]
        },
        {
          "output_type": "stream",
          "name": "stdout",
          "text": [
            "New best model saved with validation AUC: 0.6380\n",
            "\n",
            "Epoch 9/500\n",
            "Train Loss: 3.5655, Train AUC: 0.5587\n",
            "Val Loss: 3.2056, Val AUC: 0.6380\n",
            "Learning rates - Encoder: 9.05e-08, Classifier: 9.05e-07\n",
            "--------------------------------------------------\n"
          ]
        },
        {
          "output_type": "stream",
          "name": "stderr",
          "text": [
            "Epoch 10/500: 100%|██████████| 197/197 [01:38<00:00,  1.99it/s, loss=4.53]\n",
            "Validation: 100%|██████████| 28/28 [00:08<00:00,  3.47it/s]\n"
          ]
        },
        {
          "output_type": "stream",
          "name": "stdout",
          "text": [
            "New best model saved with validation AUC: 0.6500\n",
            "\n",
            "Epoch 10/500\n",
            "Train Loss: 3.4111, Train AUC: 0.5646\n",
            "Val Loss: 3.0530, Val AUC: 0.6500\n",
            "Learning rates - Encoder: 1.01e-07, Classifier: 1.01e-06\n",
            "--------------------------------------------------\n"
          ]
        },
        {
          "output_type": "stream",
          "name": "stderr",
          "text": [
            "Epoch 11/500: 100%|██████████| 197/197 [01:38<00:00,  2.00it/s, loss=3.23]\n",
            "Validation: 100%|██████████| 28/28 [00:08<00:00,  3.47it/s]\n"
          ]
        },
        {
          "output_type": "stream",
          "name": "stdout",
          "text": [
            "New best model saved with validation AUC: 0.6613\n",
            "\n",
            "Epoch 11/500\n",
            "Train Loss: 3.2557, Train AUC: 0.5795\n",
            "Val Loss: 2.7620, Val AUC: 0.6613\n",
            "Learning rates - Encoder: 1.11e-07, Classifier: 1.11e-06\n",
            "--------------------------------------------------\n"
          ]
        },
        {
          "output_type": "stream",
          "name": "stderr",
          "text": [
            "Epoch 12/500: 100%|██████████| 197/197 [01:38<00:00,  1.99it/s, loss=2.65]\n",
            "Validation: 100%|██████████| 28/28 [00:08<00:00,  3.46it/s]\n"
          ]
        },
        {
          "output_type": "stream",
          "name": "stdout",
          "text": [
            "New best model saved with validation AUC: 0.6726\n",
            "\n",
            "Epoch 12/500\n",
            "Train Loss: 3.2384, Train AUC: 0.5783\n",
            "Val Loss: 2.6888, Val AUC: 0.6726\n",
            "Learning rates - Encoder: 1.21e-07, Classifier: 1.21e-06\n",
            "--------------------------------------------------\n"
          ]
        },
        {
          "output_type": "stream",
          "name": "stderr",
          "text": [
            "Epoch 13/500: 100%|██████████| 197/197 [01:38<00:00,  1.99it/s, loss=3.52]\n",
            "Validation: 100%|██████████| 28/28 [00:08<00:00,  3.46it/s]\n"
          ]
        },
        {
          "output_type": "stream",
          "name": "stdout",
          "text": [
            "New best model saved with validation AUC: 0.6857\n",
            "\n",
            "Epoch 13/500\n",
            "Train Loss: 3.1275, Train AUC: 0.5891\n",
            "Val Loss: 2.5626, Val AUC: 0.6857\n",
            "Learning rates - Encoder: 1.31e-07, Classifier: 1.31e-06\n",
            "--------------------------------------------------\n"
          ]
        },
        {
          "output_type": "stream",
          "name": "stderr",
          "text": [
            "Epoch 14/500: 100%|██████████| 197/197 [01:38<00:00,  2.00it/s, loss=3.55]\n",
            "Validation: 100%|██████████| 28/28 [00:08<00:00,  3.46it/s]\n"
          ]
        },
        {
          "output_type": "stream",
          "name": "stdout",
          "text": [
            "New best model saved with validation AUC: 0.6931\n",
            "\n",
            "Epoch 14/500\n",
            "Train Loss: 2.9761, Train AUC: 0.6051\n",
            "Val Loss: 2.4812, Val AUC: 0.6931\n",
            "Learning rates - Encoder: 1.41e-07, Classifier: 1.41e-06\n",
            "--------------------------------------------------\n"
          ]
        },
        {
          "output_type": "stream",
          "name": "stderr",
          "text": [
            "Epoch 15/500: 100%|██████████| 197/197 [01:38<00:00,  2.00it/s, loss=2.43]\n",
            "Validation: 100%|██████████| 28/28 [00:08<00:00,  3.47it/s]\n"
          ]
        },
        {
          "output_type": "stream",
          "name": "stdout",
          "text": [
            "New best model saved with validation AUC: 0.7098\n",
            "\n",
            "Epoch 15/500\n",
            "Train Loss: 2.9204, Train AUC: 0.6078\n",
            "Val Loss: 2.3320, Val AUC: 0.7098\n",
            "Learning rates - Encoder: 1.51e-07, Classifier: 1.51e-06\n",
            "--------------------------------------------------\n"
          ]
        },
        {
          "output_type": "stream",
          "name": "stderr",
          "text": [
            "Epoch 16/500: 100%|██████████| 197/197 [01:38<00:00,  1.99it/s, loss=2.3]\n",
            "Validation: 100%|██████████| 28/28 [00:08<00:00,  3.46it/s]\n"
          ]
        },
        {
          "output_type": "stream",
          "name": "stdout",
          "text": [
            "\n",
            "Epoch 16/500\n",
            "Train Loss: 2.8232, Train AUC: 0.6114\n",
            "Val Loss: 2.3243, Val AUC: 0.7088\n",
            "Learning rates - Encoder: 1.61e-07, Classifier: 1.61e-06\n",
            "--------------------------------------------------\n"
          ]
        },
        {
          "output_type": "stream",
          "name": "stderr",
          "text": [
            "Epoch 17/500: 100%|██████████| 197/197 [01:38<00:00,  2.00it/s, loss=1.81]\n",
            "Validation: 100%|██████████| 28/28 [00:08<00:00,  3.45it/s]\n"
          ]
        },
        {
          "output_type": "stream",
          "name": "stdout",
          "text": [
            "New best model saved with validation AUC: 0.7162\n",
            "\n",
            "Epoch 17/500\n",
            "Train Loss: 2.7850, Train AUC: 0.6206\n",
            "Val Loss: 2.2173, Val AUC: 0.7162\n",
            "Learning rates - Encoder: 1.71e-07, Classifier: 1.71e-06\n",
            "--------------------------------------------------\n"
          ]
        },
        {
          "output_type": "stream",
          "name": "stderr",
          "text": [
            "Epoch 18/500: 100%|██████████| 197/197 [01:38<00:00,  1.99it/s, loss=3.53]\n",
            "Validation: 100%|██████████| 28/28 [00:08<00:00,  3.46it/s]\n"
          ]
        },
        {
          "output_type": "stream",
          "name": "stdout",
          "text": [
            "New best model saved with validation AUC: 0.7327\n",
            "\n",
            "Epoch 18/500\n",
            "Train Loss: 2.7092, Train AUC: 0.6233\n",
            "Val Loss: 2.1236, Val AUC: 0.7327\n",
            "Learning rates - Encoder: 1.81e-07, Classifier: 1.81e-06\n",
            "--------------------------------------------------\n"
          ]
        },
        {
          "output_type": "stream",
          "name": "stderr",
          "text": [
            "Epoch 19/500: 100%|██████████| 197/197 [01:38<00:00,  2.00it/s, loss=2.83]\n",
            "Validation: 100%|██████████| 28/28 [00:08<00:00,  3.46it/s]\n"
          ]
        },
        {
          "output_type": "stream",
          "name": "stdout",
          "text": [
            "New best model saved with validation AUC: 0.7373\n",
            "\n",
            "Epoch 19/500\n",
            "Train Loss: 2.5953, Train AUC: 0.6344\n",
            "Val Loss: 2.0747, Val AUC: 0.7373\n",
            "Learning rates - Encoder: 1.91e-07, Classifier: 1.91e-06\n",
            "--------------------------------------------------\n"
          ]
        },
        {
          "output_type": "stream",
          "name": "stderr",
          "text": [
            "Epoch 20/500: 100%|██████████| 197/197 [01:38<00:00,  1.99it/s, loss=1.49]\n",
            "Validation: 100%|██████████| 28/28 [00:08<00:00,  3.45it/s]\n"
          ]
        },
        {
          "output_type": "stream",
          "name": "stdout",
          "text": [
            "\n",
            "Epoch 20/500\n",
            "Train Loss: 2.6093, Train AUC: 0.6295\n",
            "Val Loss: 2.1309, Val AUC: 0.7347\n",
            "Learning rates - Encoder: 2.01e-07, Classifier: 2.01e-06\n",
            "--------------------------------------------------\n"
          ]
        },
        {
          "output_type": "stream",
          "name": "stderr",
          "text": [
            "Epoch 21/500: 100%|██████████| 197/197 [01:38<00:00,  2.00it/s, loss=2.63]\n",
            "Validation: 100%|██████████| 28/28 [00:08<00:00,  3.46it/s]\n"
          ]
        },
        {
          "output_type": "stream",
          "name": "stdout",
          "text": [
            "New best model saved with validation AUC: 0.7412\n",
            "\n",
            "Epoch 21/500\n",
            "Train Loss: 2.5300, Train AUC: 0.6385\n",
            "Val Loss: 2.1151, Val AUC: 0.7412\n",
            "Learning rates - Encoder: 2.11e-07, Classifier: 2.11e-06\n",
            "--------------------------------------------------\n"
          ]
        },
        {
          "output_type": "stream",
          "name": "stderr",
          "text": [
            "Epoch 22/500: 100%|██████████| 197/197 [01:38<00:00,  1.99it/s, loss=3.52]\n",
            "Validation: 100%|██████████| 28/28 [00:08<00:00,  3.48it/s]\n"
          ]
        },
        {
          "output_type": "stream",
          "name": "stdout",
          "text": [
            "\n",
            "Epoch 22/500\n",
            "Train Loss: 2.4207, Train AUC: 0.6503\n",
            "Val Loss: 2.1128, Val AUC: 0.7375\n",
            "Learning rates - Encoder: 2.21e-07, Classifier: 2.21e-06\n",
            "--------------------------------------------------\n"
          ]
        },
        {
          "output_type": "stream",
          "name": "stderr",
          "text": [
            "Epoch 23/500: 100%|██████████| 197/197 [01:38<00:00,  2.00it/s, loss=2.2]\n",
            "Validation: 100%|██████████| 28/28 [00:08<00:00,  3.46it/s]\n"
          ]
        },
        {
          "output_type": "stream",
          "name": "stdout",
          "text": [
            "New best model saved with validation AUC: 0.7421\n",
            "\n",
            "Epoch 23/500\n",
            "Train Loss: 2.3660, Train AUC: 0.6585\n",
            "Val Loss: 2.0959, Val AUC: 0.7421\n",
            "Learning rates - Encoder: 2.31e-07, Classifier: 2.31e-06\n",
            "--------------------------------------------------\n"
          ]
        },
        {
          "output_type": "stream",
          "name": "stderr",
          "text": [
            "Epoch 24/500: 100%|██████████| 197/197 [01:38<00:00,  2.00it/s, loss=2.65]\n",
            "Validation: 100%|██████████| 28/28 [00:08<00:00,  3.46it/s]\n"
          ]
        },
        {
          "output_type": "stream",
          "name": "stdout",
          "text": [
            "New best model saved with validation AUC: 0.7490\n",
            "\n",
            "Epoch 24/500\n",
            "Train Loss: 2.3218, Train AUC: 0.6557\n",
            "Val Loss: 2.0635, Val AUC: 0.7490\n",
            "Learning rates - Encoder: 2.41e-07, Classifier: 2.41e-06\n",
            "--------------------------------------------------\n"
          ]
        },
        {
          "output_type": "stream",
          "name": "stderr",
          "text": [
            "Epoch 25/500: 100%|██████████| 197/197 [01:38<00:00,  1.99it/s, loss=1.97]\n",
            "Validation: 100%|██████████| 28/28 [00:08<00:00,  3.33it/s]\n"
          ]
        },
        {
          "output_type": "stream",
          "name": "stdout",
          "text": [
            "New best model saved with validation AUC: 0.7526\n",
            "\n",
            "Epoch 25/500\n",
            "Train Loss: 2.2518, Train AUC: 0.6578\n",
            "Val Loss: 2.0104, Val AUC: 0.7526\n",
            "Learning rates - Encoder: 2.51e-07, Classifier: 2.51e-06\n",
            "--------------------------------------------------\n"
          ]
        },
        {
          "output_type": "stream",
          "name": "stderr",
          "text": [
            "Epoch 26/500: 100%|██████████| 197/197 [01:38<00:00,  2.00it/s, loss=2.1]\n",
            "Validation: 100%|██████████| 28/28 [00:08<00:00,  3.42it/s]\n"
          ]
        },
        {
          "output_type": "stream",
          "name": "stdout",
          "text": [
            "\n",
            "Epoch 26/500\n",
            "Train Loss: 2.2237, Train AUC: 0.6581\n",
            "Val Loss: 1.9454, Val AUC: 0.7495\n",
            "Learning rates - Encoder: 2.61e-07, Classifier: 2.61e-06\n",
            "--------------------------------------------------\n"
          ]
        },
        {
          "output_type": "stream",
          "name": "stderr",
          "text": [
            "Epoch 27/500: 100%|██████████| 197/197 [01:38<00:00,  2.01it/s, loss=1.99]\n",
            "Validation: 100%|██████████| 28/28 [00:08<00:00,  3.41it/s]\n"
          ]
        },
        {
          "output_type": "stream",
          "name": "stdout",
          "text": [
            "New best model saved with validation AUC: 0.7642\n",
            "\n",
            "Epoch 27/500\n",
            "Train Loss: 2.1514, Train AUC: 0.6673\n",
            "Val Loss: 1.8799, Val AUC: 0.7642\n",
            "Learning rates - Encoder: 2.71e-07, Classifier: 2.71e-06\n",
            "--------------------------------------------------\n"
          ]
        },
        {
          "output_type": "stream",
          "name": "stderr",
          "text": [
            "Epoch 28/500: 100%|██████████| 197/197 [01:38<00:00,  1.99it/s, loss=2.05]\n",
            "Validation: 100%|██████████| 28/28 [00:08<00:00,  3.42it/s]\n"
          ]
        },
        {
          "output_type": "stream",
          "name": "stdout",
          "text": [
            "\n",
            "Epoch 28/500\n",
            "Train Loss: 2.1506, Train AUC: 0.6607\n",
            "Val Loss: 1.8256, Val AUC: 0.7606\n",
            "Learning rates - Encoder: 2.81e-07, Classifier: 2.81e-06\n",
            "--------------------------------------------------\n"
          ]
        },
        {
          "output_type": "stream",
          "name": "stderr",
          "text": [
            "Epoch 29/500: 100%|██████████| 197/197 [01:38<00:00,  2.00it/s, loss=2.59]\n",
            "Validation: 100%|██████████| 28/28 [00:08<00:00,  3.43it/s]\n"
          ]
        },
        {
          "output_type": "stream",
          "name": "stdout",
          "text": [
            "New best model saved with validation AUC: 0.7650\n",
            "\n",
            "Epoch 29/500\n",
            "Train Loss: 1.9653, Train AUC: 0.6864\n",
            "Val Loss: 1.7807, Val AUC: 0.7650\n",
            "Learning rates - Encoder: 2.91e-07, Classifier: 2.91e-06\n",
            "--------------------------------------------------\n"
          ]
        },
        {
          "output_type": "stream",
          "name": "stderr",
          "text": [
            "Epoch 30/500: 100%|██████████| 197/197 [01:38<00:00,  1.99it/s, loss=2.91]\n",
            "Validation: 100%|██████████| 28/28 [00:08<00:00,  3.44it/s]\n"
          ]
        },
        {
          "output_type": "stream",
          "name": "stdout",
          "text": [
            "\n",
            "Epoch 30/500\n",
            "Train Loss: 1.9453, Train AUC: 0.6820\n",
            "Val Loss: 1.8071, Val AUC: 0.7587\n",
            "Learning rates - Encoder: 3.02e-07, Classifier: 3.02e-06\n",
            "--------------------------------------------------\n"
          ]
        },
        {
          "output_type": "stream",
          "name": "stderr",
          "text": [
            "Epoch 31/500: 100%|██████████| 197/197 [01:38<00:00,  2.00it/s, loss=2.16]\n",
            "Validation: 100%|██████████| 28/28 [00:08<00:00,  3.43it/s]\n"
          ]
        },
        {
          "output_type": "stream",
          "name": "stdout",
          "text": [
            "\n",
            "Epoch 31/500\n",
            "Train Loss: 1.8912, Train AUC: 0.6878\n",
            "Val Loss: 1.7135, Val AUC: 0.7630\n",
            "Learning rates - Encoder: 3.12e-07, Classifier: 3.12e-06\n",
            "--------------------------------------------------\n"
          ]
        },
        {
          "output_type": "stream",
          "name": "stderr",
          "text": [
            "Epoch 32/500: 100%|██████████| 197/197 [01:38<00:00,  2.00it/s, loss=1.47]\n",
            "Validation: 100%|██████████| 28/28 [00:08<00:00,  3.46it/s]\n"
          ]
        },
        {
          "output_type": "stream",
          "name": "stdout",
          "text": [
            "\n",
            "Epoch 32/500\n",
            "Train Loss: 1.8208, Train AUC: 0.6953\n",
            "Val Loss: 1.7588, Val AUC: 0.7640\n",
            "Learning rates - Encoder: 3.22e-07, Classifier: 3.22e-06\n",
            "--------------------------------------------------\n"
          ]
        },
        {
          "output_type": "stream",
          "name": "stderr",
          "text": [
            "Epoch 33/500: 100%|██████████| 197/197 [01:38<00:00,  2.00it/s, loss=0.956]\n",
            "Validation: 100%|██████████| 28/28 [00:08<00:00,  3.36it/s]\n"
          ]
        },
        {
          "output_type": "stream",
          "name": "stdout",
          "text": [
            "New best model saved with validation AUC: 0.7702\n",
            "\n",
            "Epoch 33/500\n",
            "Train Loss: 1.8603, Train AUC: 0.6825\n",
            "Val Loss: 1.5970, Val AUC: 0.7702\n",
            "Learning rates - Encoder: 3.32e-07, Classifier: 3.32e-06\n",
            "--------------------------------------------------\n"
          ]
        },
        {
          "output_type": "stream",
          "name": "stderr",
          "text": [
            "Epoch 34/500: 100%|██████████| 197/197 [01:38<00:00,  2.00it/s, loss=2.02]\n",
            "Validation: 100%|██████████| 28/28 [00:08<00:00,  3.40it/s]\n"
          ]
        },
        {
          "output_type": "stream",
          "name": "stdout",
          "text": [
            "New best model saved with validation AUC: 0.7756\n",
            "\n",
            "Epoch 34/500\n",
            "Train Loss: 1.7866, Train AUC: 0.6930\n",
            "Val Loss: 1.6125, Val AUC: 0.7756\n",
            "Learning rates - Encoder: 3.42e-07, Classifier: 3.42e-06\n",
            "--------------------------------------------------\n"
          ]
        },
        {
          "output_type": "stream",
          "name": "stderr",
          "text": [
            "Epoch 35/500: 100%|██████████| 197/197 [01:38<00:00,  2.00it/s, loss=1.25]\n",
            "Validation: 100%|██████████| 28/28 [00:08<00:00,  3.35it/s]\n"
          ]
        },
        {
          "output_type": "stream",
          "name": "stdout",
          "text": [
            "\n",
            "Epoch 35/500\n",
            "Train Loss: 1.7097, Train AUC: 0.7000\n",
            "Val Loss: 1.5724, Val AUC: 0.7736\n",
            "Learning rates - Encoder: 3.52e-07, Classifier: 3.52e-06\n",
            "--------------------------------------------------\n"
          ]
        },
        {
          "output_type": "stream",
          "name": "stderr",
          "text": [
            "Epoch 36/500: 100%|██████████| 197/197 [01:38<00:00,  2.00it/s, loss=0.688]\n",
            "Validation: 100%|██████████| 28/28 [00:08<00:00,  3.34it/s]\n"
          ]
        },
        {
          "output_type": "stream",
          "name": "stdout",
          "text": [
            "\n",
            "Epoch 36/500\n",
            "Train Loss: 1.6686, Train AUC: 0.7012\n",
            "Val Loss: 1.5383, Val AUC: 0.7749\n",
            "Learning rates - Encoder: 3.62e-07, Classifier: 3.62e-06\n",
            "--------------------------------------------------\n"
          ]
        },
        {
          "output_type": "stream",
          "name": "stderr",
          "text": [
            "Epoch 37/500: 100%|██████████| 197/197 [01:38<00:00,  2.01it/s, loss=1.69]\n",
            "Validation: 100%|██████████| 28/28 [00:08<00:00,  3.41it/s]\n"
          ]
        },
        {
          "output_type": "stream",
          "name": "stdout",
          "text": [
            "\n",
            "Epoch 37/500\n",
            "Train Loss: 1.5902, Train AUC: 0.7118\n",
            "Val Loss: 1.4810, Val AUC: 0.7734\n",
            "Learning rates - Encoder: 3.72e-07, Classifier: 3.72e-06\n",
            "--------------------------------------------------\n"
          ]
        },
        {
          "output_type": "stream",
          "name": "stderr",
          "text": [
            "Epoch 38/500: 100%|██████████| 197/197 [01:38<00:00,  2.01it/s, loss=1.4]\n",
            "Validation: 100%|██████████| 28/28 [00:08<00:00,  3.43it/s]\n"
          ]
        },
        {
          "output_type": "stream",
          "name": "stdout",
          "text": [
            "\n",
            "Epoch 38/500\n",
            "Train Loss: 1.5760, Train AUC: 0.7043\n",
            "Val Loss: 1.4892, Val AUC: 0.7725\n",
            "Learning rates - Encoder: 3.82e-07, Classifier: 3.82e-06\n",
            "--------------------------------------------------\n"
          ]
        },
        {
          "output_type": "stream",
          "name": "stderr",
          "text": [
            "Epoch 39/500: 100%|██████████| 197/197 [01:38<00:00,  2.00it/s, loss=1.87]\n",
            "Validation: 100%|██████████| 28/28 [00:08<00:00,  3.43it/s]\n"
          ]
        },
        {
          "output_type": "stream",
          "name": "stdout",
          "text": [
            "\n",
            "Epoch 39/500\n",
            "Train Loss: 1.5762, Train AUC: 0.6988\n",
            "Val Loss: 1.4010, Val AUC: 0.7660\n",
            "Learning rates - Encoder: 3.92e-07, Classifier: 3.92e-06\n",
            "--------------------------------------------------\n"
          ]
        },
        {
          "output_type": "stream",
          "name": "stderr",
          "text": [
            "Epoch 40/500: 100%|██████████| 197/197 [01:38<00:00,  2.00it/s, loss=2.84]\n",
            "Validation: 100%|██████████| 28/28 [00:08<00:00,  3.44it/s]\n"
          ]
        },
        {
          "output_type": "stream",
          "name": "stdout",
          "text": [
            "\n",
            "Epoch 40/500\n",
            "Train Loss: 1.5392, Train AUC: 0.7099\n",
            "Val Loss: 1.2917, Val AUC: 0.7741\n",
            "Learning rates - Encoder: 4.02e-07, Classifier: 4.02e-06\n",
            "--------------------------------------------------\n"
          ]
        },
        {
          "output_type": "stream",
          "name": "stderr",
          "text": [
            "Epoch 41/500: 100%|██████████| 197/197 [01:38<00:00,  2.00it/s, loss=0.876]\n",
            "Validation: 100%|██████████| 28/28 [00:08<00:00,  3.44it/s]\n"
          ]
        },
        {
          "output_type": "stream",
          "name": "stdout",
          "text": [
            "\n",
            "Epoch 41/500\n",
            "Train Loss: 1.4846, Train AUC: 0.7074\n",
            "Val Loss: 1.4037, Val AUC: 0.7724\n",
            "Learning rates - Encoder: 4.12e-07, Classifier: 4.12e-06\n",
            "--------------------------------------------------\n"
          ]
        },
        {
          "output_type": "stream",
          "name": "stderr",
          "text": [
            "Epoch 42/500: 100%|██████████| 197/197 [01:38<00:00,  2.00it/s, loss=0.888]\n",
            "Validation: 100%|██████████| 28/28 [00:08<00:00,  3.45it/s]\n"
          ]
        },
        {
          "output_type": "stream",
          "name": "stdout",
          "text": [
            "New best model saved with validation AUC: 0.7790\n",
            "\n",
            "Epoch 42/500\n",
            "Train Loss: 1.4598, Train AUC: 0.7060\n",
            "Val Loss: 1.2857, Val AUC: 0.7790\n",
            "Learning rates - Encoder: 4.22e-07, Classifier: 4.22e-06\n",
            "--------------------------------------------------\n"
          ]
        },
        {
          "output_type": "stream",
          "name": "stderr",
          "text": [
            "Epoch 43/500: 100%|██████████| 197/197 [01:38<00:00,  1.99it/s, loss=1.24]\n",
            "Validation: 100%|██████████| 28/28 [00:08<00:00,  3.46it/s]\n"
          ]
        },
        {
          "output_type": "stream",
          "name": "stdout",
          "text": [
            "\n",
            "Epoch 43/500\n",
            "Train Loss: 1.4537, Train AUC: 0.7034\n",
            "Val Loss: 1.2323, Val AUC: 0.7788\n",
            "Learning rates - Encoder: 4.32e-07, Classifier: 4.32e-06\n",
            "--------------------------------------------------\n"
          ]
        },
        {
          "output_type": "stream",
          "name": "stderr",
          "text": [
            "Epoch 44/500: 100%|██████████| 197/197 [01:38<00:00,  2.00it/s, loss=0.835]\n",
            "Validation: 100%|██████████| 28/28 [00:08<00:00,  3.41it/s]\n"
          ]
        },
        {
          "output_type": "stream",
          "name": "stdout",
          "text": [
            "\n",
            "Epoch 44/500\n",
            "Train Loss: 1.3898, Train AUC: 0.7170\n",
            "Val Loss: 1.2510, Val AUC: 0.7724\n",
            "Learning rates - Encoder: 4.42e-07, Classifier: 4.42e-06\n",
            "--------------------------------------------------\n"
          ]
        },
        {
          "output_type": "stream",
          "name": "stderr",
          "text": [
            "Epoch 45/500: 100%|██████████| 197/197 [01:38<00:00,  2.00it/s, loss=1.94]\n",
            "Validation: 100%|██████████| 28/28 [00:08<00:00,  3.36it/s]\n"
          ]
        },
        {
          "output_type": "stream",
          "name": "stdout",
          "text": [
            "\n",
            "Epoch 45/500\n",
            "Train Loss: 1.3218, Train AUC: 0.7243\n",
            "Val Loss: 1.2667, Val AUC: 0.7766\n",
            "Learning rates - Encoder: 4.52e-07, Classifier: 4.52e-06\n",
            "--------------------------------------------------\n"
          ]
        },
        {
          "output_type": "stream",
          "name": "stderr",
          "text": [
            "Epoch 46/500: 100%|██████████| 197/197 [01:38<00:00,  2.00it/s, loss=1.29]\n",
            "Validation: 100%|██████████| 28/28 [00:08<00:00,  3.37it/s]\n"
          ]
        },
        {
          "output_type": "stream",
          "name": "stdout",
          "text": [
            "\n",
            "Epoch 46/500\n",
            "Train Loss: 1.3398, Train AUC: 0.7197\n",
            "Val Loss: 1.1703, Val AUC: 0.7729\n",
            "Learning rates - Encoder: 4.62e-07, Classifier: 4.62e-06\n",
            "--------------------------------------------------\n"
          ]
        },
        {
          "output_type": "stream",
          "name": "stderr",
          "text": [
            "Epoch 47/500: 100%|██████████| 197/197 [01:38<00:00,  2.00it/s, loss=1.39]\n",
            "Validation: 100%|██████████| 28/28 [00:08<00:00,  3.35it/s]\n"
          ]
        },
        {
          "output_type": "stream",
          "name": "stdout",
          "text": [
            "\n",
            "Epoch 47/500\n",
            "Train Loss: 1.3189, Train AUC: 0.7111\n",
            "Val Loss: 1.1688, Val AUC: 0.7787\n",
            "Learning rates - Encoder: 4.72e-07, Classifier: 4.72e-06\n",
            "--------------------------------------------------\n"
          ]
        },
        {
          "output_type": "stream",
          "name": "stderr",
          "text": [
            "Epoch 48/500: 100%|██████████| 197/197 [01:38<00:00,  2.01it/s, loss=2.63]\n",
            "Validation: 100%|██████████| 28/28 [00:08<00:00,  3.37it/s]\n"
          ]
        },
        {
          "output_type": "stream",
          "name": "stdout",
          "text": [
            "New best model saved with validation AUC: 0.7819\n",
            "\n",
            "Epoch 48/500\n",
            "Train Loss: 1.2389, Train AUC: 0.7253\n",
            "Val Loss: 1.1326, Val AUC: 0.7819\n",
            "Learning rates - Encoder: 4.82e-07, Classifier: 4.82e-06\n",
            "--------------------------------------------------\n"
          ]
        },
        {
          "output_type": "stream",
          "name": "stderr",
          "text": [
            "Epoch 49/500: 100%|██████████| 197/197 [01:38<00:00,  1.99it/s, loss=1.46]\n",
            "Validation: 100%|██████████| 28/28 [00:08<00:00,  3.34it/s]\n"
          ]
        },
        {
          "output_type": "stream",
          "name": "stdout",
          "text": [
            "New best model saved with validation AUC: 0.7820\n",
            "\n",
            "Epoch 49/500\n",
            "Train Loss: 1.1950, Train AUC: 0.7328\n",
            "Val Loss: 1.1036, Val AUC: 0.7820\n",
            "Learning rates - Encoder: 4.92e-07, Classifier: 4.92e-06\n",
            "--------------------------------------------------\n"
          ]
        },
        {
          "output_type": "stream",
          "name": "stderr",
          "text": [
            "Epoch 50/500: 100%|██████████| 197/197 [01:38<00:00,  2.00it/s, loss=0.844]\n",
            "Validation: 100%|██████████| 28/28 [00:08<00:00,  3.41it/s]\n"
          ]
        },
        {
          "output_type": "stream",
          "name": "stdout",
          "text": [
            "\n",
            "Epoch 50/500\n",
            "Train Loss: 1.1939, Train AUC: 0.7290\n",
            "Val Loss: 1.1456, Val AUC: 0.7742\n",
            "Learning rates - Encoder: 5.03e-07, Classifier: 5.03e-06\n",
            "--------------------------------------------------\n"
          ]
        },
        {
          "output_type": "stream",
          "name": "stderr",
          "text": [
            "Epoch 51/500: 100%|██████████| 197/197 [01:38<00:00,  2.00it/s, loss=0.453]\n",
            "Validation: 100%|██████████| 28/28 [00:08<00:00,  3.43it/s]\n"
          ]
        },
        {
          "output_type": "stream",
          "name": "stdout",
          "text": [
            "\n",
            "Epoch 51/500\n",
            "Train Loss: 1.1628, Train AUC: 0.7291\n",
            "Val Loss: 1.1303, Val AUC: 0.7789\n",
            "Learning rates - Encoder: 5.13e-07, Classifier: 5.13e-06\n",
            "--------------------------------------------------\n"
          ]
        },
        {
          "output_type": "stream",
          "name": "stderr",
          "text": [
            "Epoch 52/500: 100%|██████████| 197/197 [01:38<00:00,  2.00it/s, loss=1]\n",
            "Validation: 100%|██████████| 28/28 [00:08<00:00,  3.43it/s]\n"
          ]
        },
        {
          "output_type": "stream",
          "name": "stdout",
          "text": [
            "\n",
            "Epoch 52/500\n",
            "Train Loss: 1.1205, Train AUC: 0.7381\n",
            "Val Loss: 1.0397, Val AUC: 0.7735\n",
            "Learning rates - Encoder: 5.23e-07, Classifier: 5.23e-06\n",
            "--------------------------------------------------\n"
          ]
        },
        {
          "output_type": "stream",
          "name": "stderr",
          "text": [
            "Epoch 53/500: 100%|██████████| 197/197 [01:38<00:00,  2.00it/s, loss=1.1]\n",
            "Validation: 100%|██████████| 28/28 [00:08<00:00,  3.44it/s]\n"
          ]
        },
        {
          "output_type": "stream",
          "name": "stdout",
          "text": [
            "\n",
            "Epoch 53/500\n",
            "Train Loss: 1.0931, Train AUC: 0.7349\n",
            "Val Loss: 1.0645, Val AUC: 0.7734\n",
            "Learning rates - Encoder: 5.33e-07, Classifier: 5.33e-06\n",
            "--------------------------------------------------\n"
          ]
        },
        {
          "output_type": "stream",
          "name": "stderr",
          "text": [
            "Epoch 54/500: 100%|██████████| 197/197 [01:38<00:00,  2.00it/s, loss=0.764]\n",
            "Validation: 100%|██████████| 28/28 [00:08<00:00,  3.43it/s]\n"
          ]
        },
        {
          "output_type": "stream",
          "name": "stdout",
          "text": [
            "\n",
            "Epoch 54/500\n",
            "Train Loss: 1.0905, Train AUC: 0.7362\n",
            "Val Loss: 1.0230, Val AUC: 0.7776\n",
            "Learning rates - Encoder: 5.43e-07, Classifier: 5.43e-06\n",
            "--------------------------------------------------\n"
          ]
        },
        {
          "output_type": "stream",
          "name": "stderr",
          "text": [
            "Epoch 55/500: 100%|██████████| 197/197 [01:38<00:00,  2.00it/s, loss=0.945]\n",
            "Validation: 100%|██████████| 28/28 [00:08<00:00,  3.47it/s]\n"
          ]
        },
        {
          "output_type": "stream",
          "name": "stdout",
          "text": [
            "\n",
            "Epoch 55/500\n",
            "Train Loss: 1.0517, Train AUC: 0.7426\n",
            "Val Loss: 0.9774, Val AUC: 0.7774\n",
            "Learning rates - Encoder: 5.53e-07, Classifier: 5.53e-06\n",
            "--------------------------------------------------\n"
          ]
        },
        {
          "output_type": "stream",
          "name": "stderr",
          "text": [
            "Epoch 56/500: 100%|██████████| 197/197 [01:38<00:00,  2.00it/s, loss=1.05]\n",
            "Validation: 100%|██████████| 28/28 [00:08<00:00,  3.45it/s]\n"
          ]
        },
        {
          "output_type": "stream",
          "name": "stdout",
          "text": [
            "\n",
            "Epoch 56/500\n",
            "Train Loss: 1.0345, Train AUC: 0.7413\n",
            "Val Loss: 0.9779, Val AUC: 0.7798\n",
            "Learning rates - Encoder: 5.63e-07, Classifier: 5.63e-06\n",
            "--------------------------------------------------\n"
          ]
        },
        {
          "output_type": "stream",
          "name": "stderr",
          "text": [
            "Epoch 57/500: 100%|██████████| 197/197 [01:38<00:00,  2.00it/s, loss=1.72]\n",
            "Validation: 100%|██████████| 28/28 [00:08<00:00,  3.39it/s]\n"
          ]
        },
        {
          "output_type": "stream",
          "name": "stdout",
          "text": [
            "New best model saved with validation AUC: 0.7831\n",
            "\n",
            "Epoch 57/500\n",
            "Train Loss: 1.0030, Train AUC: 0.7488\n",
            "Val Loss: 0.9453, Val AUC: 0.7831\n",
            "Learning rates - Encoder: 5.73e-07, Classifier: 5.73e-06\n",
            "--------------------------------------------------\n"
          ]
        },
        {
          "output_type": "stream",
          "name": "stderr",
          "text": [
            "Epoch 58/500: 100%|██████████| 197/197 [01:38<00:00,  1.99it/s, loss=0.822]\n",
            "Validation: 100%|██████████| 28/28 [00:08<00:00,  3.42it/s]\n"
          ]
        },
        {
          "output_type": "stream",
          "name": "stdout",
          "text": [
            "\n",
            "Epoch 58/500\n",
            "Train Loss: 1.0071, Train AUC: 0.7421\n",
            "Val Loss: 0.9226, Val AUC: 0.7828\n",
            "Learning rates - Encoder: 5.83e-07, Classifier: 5.83e-06\n",
            "--------------------------------------------------\n"
          ]
        },
        {
          "output_type": "stream",
          "name": "stderr",
          "text": [
            "Epoch 59/500: 100%|██████████| 197/197 [01:38<00:00,  2.01it/s, loss=0.601]\n",
            "Validation: 100%|██████████| 28/28 [00:08<00:00,  3.37it/s]\n"
          ]
        },
        {
          "output_type": "stream",
          "name": "stdout",
          "text": [
            "New best model saved with validation AUC: 0.7835\n",
            "\n",
            "Epoch 59/500\n",
            "Train Loss: 0.9395, Train AUC: 0.7558\n",
            "Val Loss: 0.9698, Val AUC: 0.7835\n",
            "Learning rates - Encoder: 5.93e-07, Classifier: 5.93e-06\n",
            "--------------------------------------------------\n"
          ]
        },
        {
          "output_type": "stream",
          "name": "stderr",
          "text": [
            "Epoch 60/500: 100%|██████████| 197/197 [01:38<00:00,  2.00it/s, loss=0.777]\n",
            "Validation: 100%|██████████| 28/28 [00:08<00:00,  3.39it/s]\n"
          ]
        },
        {
          "output_type": "stream",
          "name": "stdout",
          "text": [
            "\n",
            "Epoch 60/500\n",
            "Train Loss: 0.9563, Train AUC: 0.7531\n",
            "Val Loss: 0.9157, Val AUC: 0.7823\n",
            "Learning rates - Encoder: 6.03e-07, Classifier: 6.03e-06\n",
            "--------------------------------------------------\n"
          ]
        },
        {
          "output_type": "stream",
          "name": "stderr",
          "text": [
            "Epoch 61/500: 100%|██████████| 197/197 [01:38<00:00,  2.01it/s, loss=0.412]\n",
            "Validation: 100%|██████████| 28/28 [00:08<00:00,  3.37it/s]\n"
          ]
        },
        {
          "output_type": "stream",
          "name": "stdout",
          "text": [
            "New best model saved with validation AUC: 0.7862\n",
            "\n",
            "Epoch 61/500\n",
            "Train Loss: 0.9493, Train AUC: 0.7475\n",
            "Val Loss: 0.9040, Val AUC: 0.7862\n",
            "Learning rates - Encoder: 6.13e-07, Classifier: 6.13e-06\n",
            "--------------------------------------------------\n"
          ]
        },
        {
          "output_type": "stream",
          "name": "stderr",
          "text": [
            "Epoch 62/500: 100%|██████████| 197/197 [01:38<00:00,  2.00it/s, loss=0.737]\n",
            "Validation: 100%|██████████| 28/28 [00:08<00:00,  3.34it/s]\n"
          ]
        },
        {
          "output_type": "stream",
          "name": "stdout",
          "text": [
            "\n",
            "Epoch 62/500\n",
            "Train Loss: 0.9224, Train AUC: 0.7570\n",
            "Val Loss: 0.8773, Val AUC: 0.7830\n",
            "Learning rates - Encoder: 6.23e-07, Classifier: 6.23e-06\n",
            "--------------------------------------------------\n"
          ]
        },
        {
          "output_type": "stream",
          "name": "stderr",
          "text": [
            "Epoch 63/500: 100%|██████████| 197/197 [01:38<00:00,  2.01it/s, loss=0.912]\n",
            "Validation: 100%|██████████| 28/28 [00:08<00:00,  3.41it/s]\n"
          ]
        },
        {
          "output_type": "stream",
          "name": "stdout",
          "text": [
            "New best model saved with validation AUC: 0.7897\n",
            "\n",
            "Epoch 63/500\n",
            "Train Loss: 0.8913, Train AUC: 0.7626\n",
            "Val Loss: 0.8407, Val AUC: 0.7897\n",
            "Learning rates - Encoder: 6.33e-07, Classifier: 6.33e-06\n",
            "--------------------------------------------------\n"
          ]
        },
        {
          "output_type": "stream",
          "name": "stderr",
          "text": [
            "Epoch 64/500: 100%|██████████| 197/197 [01:38<00:00,  2.00it/s, loss=1.16]\n",
            "Validation: 100%|██████████| 28/28 [00:08<00:00,  3.43it/s]\n"
          ]
        },
        {
          "output_type": "stream",
          "name": "stdout",
          "text": [
            "New best model saved with validation AUC: 0.7905\n",
            "\n",
            "Epoch 64/500\n",
            "Train Loss: 0.8851, Train AUC: 0.7547\n",
            "Val Loss: 0.8505, Val AUC: 0.7905\n",
            "Learning rates - Encoder: 6.43e-07, Classifier: 6.43e-06\n",
            "--------------------------------------------------\n"
          ]
        },
        {
          "output_type": "stream",
          "name": "stderr",
          "text": [
            "Epoch 65/500: 100%|██████████| 197/197 [01:38<00:00,  2.00it/s, loss=0.346]\n",
            "Validation: 100%|██████████| 28/28 [00:08<00:00,  3.43it/s]\n"
          ]
        },
        {
          "output_type": "stream",
          "name": "stdout",
          "text": [
            "\n",
            "Epoch 65/500\n",
            "Train Loss: 0.8464, Train AUC: 0.7636\n",
            "Val Loss: 0.8419, Val AUC: 0.7861\n",
            "Learning rates - Encoder: 6.53e-07, Classifier: 6.53e-06\n",
            "--------------------------------------------------\n"
          ]
        },
        {
          "output_type": "stream",
          "name": "stderr",
          "text": [
            "Epoch 66/500: 100%|██████████| 197/197 [01:38<00:00,  2.00it/s, loss=1.18]\n",
            "Validation: 100%|██████████| 28/28 [00:08<00:00,  3.41it/s]\n"
          ]
        },
        {
          "output_type": "stream",
          "name": "stdout",
          "text": [
            "\n",
            "Epoch 66/500\n",
            "Train Loss: 0.8264, Train AUC: 0.7706\n",
            "Val Loss: 0.8921, Val AUC: 0.7885\n",
            "Learning rates - Encoder: 6.63e-07, Classifier: 6.63e-06\n",
            "--------------------------------------------------\n"
          ]
        },
        {
          "output_type": "stream",
          "name": "stderr",
          "text": [
            "Epoch 67/500: 100%|██████████| 197/197 [01:38<00:00,  2.01it/s, loss=0.596]\n",
            "Validation: 100%|██████████| 28/28 [00:08<00:00,  3.43it/s]\n"
          ]
        },
        {
          "output_type": "stream",
          "name": "stdout",
          "text": [
            "New best model saved with validation AUC: 0.7932\n",
            "\n",
            "Epoch 67/500\n",
            "Train Loss: 0.8413, Train AUC: 0.7626\n",
            "Val Loss: 0.8808, Val AUC: 0.7932\n",
            "Learning rates - Encoder: 6.73e-07, Classifier: 6.73e-06\n",
            "--------------------------------------------------\n"
          ]
        },
        {
          "output_type": "stream",
          "name": "stderr",
          "text": [
            "Epoch 68/500: 100%|██████████| 197/197 [01:38<00:00,  1.99it/s, loss=0.869]\n",
            "Validation: 100%|██████████| 28/28 [00:08<00:00,  3.44it/s]\n"
          ]
        },
        {
          "output_type": "stream",
          "name": "stdout",
          "text": [
            "\n",
            "Epoch 68/500\n",
            "Train Loss: 0.8206, Train AUC: 0.7678\n",
            "Val Loss: 0.8303, Val AUC: 0.7905\n",
            "Learning rates - Encoder: 6.83e-07, Classifier: 6.83e-06\n",
            "--------------------------------------------------\n"
          ]
        },
        {
          "output_type": "stream",
          "name": "stderr",
          "text": [
            "Epoch 69/500: 100%|██████████| 197/197 [01:38<00:00,  1.99it/s, loss=0.724]\n",
            "Validation: 100%|██████████| 28/28 [00:08<00:00,  3.44it/s]\n"
          ]
        },
        {
          "output_type": "stream",
          "name": "stdout",
          "text": [
            "\n",
            "Epoch 69/500\n",
            "Train Loss: 0.8028, Train AUC: 0.7727\n",
            "Val Loss: 0.8121, Val AUC: 0.7896\n",
            "Learning rates - Encoder: 6.94e-07, Classifier: 6.94e-06\n",
            "--------------------------------------------------\n"
          ]
        },
        {
          "output_type": "stream",
          "name": "stderr",
          "text": [
            "Epoch 70/500: 100%|██████████| 197/197 [01:38<00:00,  2.00it/s, loss=0.925]\n",
            "Validation: 100%|██████████| 28/28 [00:08<00:00,  3.44it/s]\n"
          ]
        },
        {
          "output_type": "stream",
          "name": "stdout",
          "text": [
            "\n",
            "Epoch 70/500\n",
            "Train Loss: 0.7914, Train AUC: 0.7781\n",
            "Val Loss: 0.8358, Val AUC: 0.7893\n",
            "Learning rates - Encoder: 7.04e-07, Classifier: 7.04e-06\n",
            "--------------------------------------------------\n"
          ]
        },
        {
          "output_type": "stream",
          "name": "stderr",
          "text": [
            "Epoch 71/500: 100%|██████████| 197/197 [01:38<00:00,  2.00it/s, loss=0.672]\n",
            "Validation: 100%|██████████| 28/28 [00:08<00:00,  3.46it/s]\n"
          ]
        },
        {
          "output_type": "stream",
          "name": "stdout",
          "text": [
            "New best model saved with validation AUC: 0.7958\n",
            "\n",
            "Epoch 71/500\n",
            "Train Loss: 0.7840, Train AUC: 0.7737\n",
            "Val Loss: 0.7985, Val AUC: 0.7958\n",
            "Learning rates - Encoder: 7.14e-07, Classifier: 7.14e-06\n",
            "--------------------------------------------------\n"
          ]
        },
        {
          "output_type": "stream",
          "name": "stderr",
          "text": [
            "Epoch 72/500: 100%|██████████| 197/197 [01:38<00:00,  1.99it/s, loss=0.817]\n",
            "Validation: 100%|██████████| 28/28 [00:08<00:00,  3.45it/s]\n"
          ]
        },
        {
          "output_type": "stream",
          "name": "stdout",
          "text": [
            "New best model saved with validation AUC: 0.7981\n",
            "\n",
            "Epoch 72/500\n",
            "Train Loss: 0.7786, Train AUC: 0.7720\n",
            "Val Loss: 0.7673, Val AUC: 0.7981\n",
            "Learning rates - Encoder: 7.24e-07, Classifier: 7.24e-06\n",
            "--------------------------------------------------\n"
          ]
        },
        {
          "output_type": "stream",
          "name": "stderr",
          "text": [
            "Epoch 73/500: 100%|██████████| 197/197 [01:39<00:00,  1.99it/s, loss=0.57]\n",
            "Validation: 100%|██████████| 28/28 [00:08<00:00,  3.46it/s]\n"
          ]
        },
        {
          "output_type": "stream",
          "name": "stdout",
          "text": [
            "\n",
            "Epoch 73/500\n",
            "Train Loss: 0.7552, Train AUC: 0.7754\n",
            "Val Loss: 0.8147, Val AUC: 0.7957\n",
            "Learning rates - Encoder: 7.34e-07, Classifier: 7.34e-06\n",
            "--------------------------------------------------\n"
          ]
        },
        {
          "output_type": "stream",
          "name": "stderr",
          "text": [
            "Epoch 74/500: 100%|██████████| 197/197 [01:38<00:00,  2.01it/s, loss=0.758]\n",
            "Validation: 100%|██████████| 28/28 [00:08<00:00,  3.45it/s]\n"
          ]
        },
        {
          "output_type": "stream",
          "name": "stdout",
          "text": [
            "\n",
            "Epoch 74/500\n",
            "Train Loss: 0.7622, Train AUC: 0.7714\n",
            "Val Loss: 0.8142, Val AUC: 0.7974\n",
            "Learning rates - Encoder: 7.44e-07, Classifier: 7.44e-06\n",
            "--------------------------------------------------\n"
          ]
        },
        {
          "output_type": "stream",
          "name": "stderr",
          "text": [
            "Epoch 75/500: 100%|██████████| 197/197 [01:38<00:00,  2.00it/s, loss=0.969]\n",
            "Validation: 100%|██████████| 28/28 [00:08<00:00,  3.37it/s]\n"
          ]
        },
        {
          "output_type": "stream",
          "name": "stdout",
          "text": [
            "New best model saved with validation AUC: 0.8046\n",
            "\n",
            "Epoch 75/500\n",
            "Train Loss: 0.7273, Train AUC: 0.7900\n",
            "Val Loss: 0.7738, Val AUC: 0.8046\n",
            "Learning rates - Encoder: 7.54e-07, Classifier: 7.54e-06\n",
            "--------------------------------------------------\n"
          ]
        },
        {
          "output_type": "stream",
          "name": "stderr",
          "text": [
            "Epoch 76/500: 100%|██████████| 197/197 [01:38<00:00,  2.00it/s, loss=0.594]\n",
            "Validation: 100%|██████████| 28/28 [00:08<00:00,  3.42it/s]\n"
          ]
        },
        {
          "output_type": "stream",
          "name": "stdout",
          "text": [
            "\n",
            "Epoch 76/500\n",
            "Train Loss: 0.7221, Train AUC: 0.7847\n",
            "Val Loss: 0.7798, Val AUC: 0.8012\n",
            "Learning rates - Encoder: 7.64e-07, Classifier: 7.64e-06\n",
            "--------------------------------------------------\n"
          ]
        },
        {
          "output_type": "stream",
          "name": "stderr",
          "text": [
            "Epoch 77/500: 100%|██████████| 197/197 [01:38<00:00,  2.00it/s, loss=0.885]\n",
            "Validation: 100%|██████████| 28/28 [00:08<00:00,  3.39it/s]\n"
          ]
        },
        {
          "output_type": "stream",
          "name": "stdout",
          "text": [
            "\n",
            "Epoch 77/500\n",
            "Train Loss: 0.7107, Train AUC: 0.7867\n",
            "Val Loss: 0.7498, Val AUC: 0.8034\n",
            "Learning rates - Encoder: 7.74e-07, Classifier: 7.74e-06\n",
            "--------------------------------------------------\n"
          ]
        },
        {
          "output_type": "stream",
          "name": "stderr",
          "text": [
            "Epoch 78/500: 100%|██████████| 197/197 [01:38<00:00,  2.00it/s, loss=0.397]\n",
            "Validation: 100%|██████████| 28/28 [00:08<00:00,  3.38it/s]\n"
          ]
        },
        {
          "output_type": "stream",
          "name": "stdout",
          "text": [
            "\n",
            "Epoch 78/500\n",
            "Train Loss: 0.7321, Train AUC: 0.7756\n",
            "Val Loss: 0.7549, Val AUC: 0.7980\n",
            "Learning rates - Encoder: 7.84e-07, Classifier: 7.84e-06\n",
            "--------------------------------------------------\n"
          ]
        },
        {
          "output_type": "stream",
          "name": "stderr",
          "text": [
            "Epoch 79/500: 100%|██████████| 197/197 [01:38<00:00,  2.00it/s, loss=0.322]\n",
            "Validation: 100%|██████████| 28/28 [00:08<00:00,  3.34it/s]\n"
          ]
        },
        {
          "output_type": "stream",
          "name": "stdout",
          "text": [
            "\n",
            "Epoch 79/500\n",
            "Train Loss: 0.6925, Train AUC: 0.7909\n",
            "Val Loss: 0.7273, Val AUC: 0.8016\n",
            "Learning rates - Encoder: 7.94e-07, Classifier: 7.94e-06\n",
            "--------------------------------------------------\n"
          ]
        },
        {
          "output_type": "stream",
          "name": "stderr",
          "text": [
            "Epoch 80/500: 100%|██████████| 197/197 [01:38<00:00,  2.01it/s, loss=0.679]\n",
            "Validation: 100%|██████████| 28/28 [00:08<00:00,  3.30it/s]\n"
          ]
        },
        {
          "output_type": "stream",
          "name": "stdout",
          "text": [
            "\n",
            "Epoch 80/500\n",
            "Train Loss: 0.7002, Train AUC: 0.7838\n",
            "Val Loss: 0.7621, Val AUC: 0.8043\n",
            "Learning rates - Encoder: 8.04e-07, Classifier: 8.04e-06\n",
            "--------------------------------------------------\n"
          ]
        },
        {
          "output_type": "stream",
          "name": "stderr",
          "text": [
            "Epoch 81/500: 100%|██████████| 197/197 [01:38<00:00,  2.01it/s, loss=0.619]\n",
            "Validation: 100%|██████████| 28/28 [00:08<00:00,  3.41it/s]\n"
          ]
        },
        {
          "output_type": "stream",
          "name": "stdout",
          "text": [
            "New best model saved with validation AUC: 0.8090\n",
            "\n",
            "Epoch 81/500\n",
            "Train Loss: 0.6822, Train AUC: 0.7930\n",
            "Val Loss: 0.7303, Val AUC: 0.8090\n",
            "Learning rates - Encoder: 8.14e-07, Classifier: 8.14e-06\n",
            "--------------------------------------------------\n"
          ]
        },
        {
          "output_type": "stream",
          "name": "stderr",
          "text": [
            "Epoch 82/500: 100%|██████████| 197/197 [01:38<00:00,  2.00it/s, loss=0.769]\n",
            "Validation: 100%|██████████| 28/28 [00:08<00:00,  3.43it/s]\n"
          ]
        },
        {
          "output_type": "stream",
          "name": "stdout",
          "text": [
            "New best model saved with validation AUC: 0.8106\n",
            "\n",
            "Epoch 82/500\n",
            "Train Loss: 0.6696, Train AUC: 0.7966\n",
            "Val Loss: 0.7483, Val AUC: 0.8106\n",
            "Learning rates - Encoder: 8.24e-07, Classifier: 8.24e-06\n",
            "--------------------------------------------------\n"
          ]
        },
        {
          "output_type": "stream",
          "name": "stderr",
          "text": [
            "Epoch 83/500: 100%|██████████| 197/197 [01:38<00:00,  1.99it/s, loss=0.653]\n",
            "Validation: 100%|██████████| 28/28 [00:08<00:00,  3.46it/s]\n"
          ]
        },
        {
          "output_type": "stream",
          "name": "stdout",
          "text": [
            "\n",
            "Epoch 83/500\n",
            "Train Loss: 0.6764, Train AUC: 0.7919\n",
            "Val Loss: 0.7517, Val AUC: 0.8083\n",
            "Learning rates - Encoder: 8.34e-07, Classifier: 8.34e-06\n",
            "--------------------------------------------------\n"
          ]
        },
        {
          "output_type": "stream",
          "name": "stderr",
          "text": [
            "Epoch 84/500: 100%|██████████| 197/197 [01:38<00:00,  2.01it/s, loss=0.663]\n",
            "Validation: 100%|██████████| 28/28 [00:08<00:00,  3.43it/s]\n"
          ]
        },
        {
          "output_type": "stream",
          "name": "stdout",
          "text": [
            "New best model saved with validation AUC: 0.8108\n",
            "\n",
            "Epoch 84/500\n",
            "Train Loss: 0.6328, Train AUC: 0.8061\n",
            "Val Loss: 0.7117, Val AUC: 0.8108\n",
            "Learning rates - Encoder: 8.44e-07, Classifier: 8.44e-06\n",
            "--------------------------------------------------\n"
          ]
        },
        {
          "output_type": "stream",
          "name": "stderr",
          "text": [
            "Epoch 85/500: 100%|██████████| 197/197 [01:38<00:00,  2.00it/s, loss=1.19]\n",
            "Validation: 100%|██████████| 28/28 [00:08<00:00,  3.44it/s]\n"
          ]
        },
        {
          "output_type": "stream",
          "name": "stdout",
          "text": [
            "New best model saved with validation AUC: 0.8115\n",
            "\n",
            "Epoch 85/500\n",
            "Train Loss: 0.6582, Train AUC: 0.7961\n",
            "Val Loss: 0.7087, Val AUC: 0.8115\n",
            "Learning rates - Encoder: 8.54e-07, Classifier: 8.54e-06\n",
            "--------------------------------------------------\n"
          ]
        },
        {
          "output_type": "stream",
          "name": "stderr",
          "text": [
            "Epoch 86/500: 100%|██████████| 197/197 [01:38<00:00,  2.00it/s, loss=0.91]\n",
            "Validation: 100%|██████████| 28/28 [00:08<00:00,  3.41it/s]\n"
          ]
        },
        {
          "output_type": "stream",
          "name": "stdout",
          "text": [
            "New best model saved with validation AUC: 0.8178\n",
            "\n",
            "Epoch 86/500\n",
            "Train Loss: 0.6489, Train AUC: 0.7981\n",
            "Val Loss: 0.6934, Val AUC: 0.8178\n",
            "Learning rates - Encoder: 8.64e-07, Classifier: 8.64e-06\n",
            "--------------------------------------------------\n"
          ]
        },
        {
          "output_type": "stream",
          "name": "stderr",
          "text": [
            "Epoch 87/500: 100%|██████████| 197/197 [01:38<00:00,  1.99it/s, loss=0.694]\n",
            "Validation: 100%|██████████| 28/28 [00:08<00:00,  3.43it/s]\n"
          ]
        },
        {
          "output_type": "stream",
          "name": "stdout",
          "text": [
            "\n",
            "Epoch 87/500\n",
            "Train Loss: 0.6372, Train AUC: 0.8028\n",
            "Val Loss: 0.7394, Val AUC: 0.8120\n",
            "Learning rates - Encoder: 8.74e-07, Classifier: 8.74e-06\n",
            "--------------------------------------------------\n"
          ]
        },
        {
          "output_type": "stream",
          "name": "stderr",
          "text": [
            "Epoch 88/500: 100%|██████████| 197/197 [01:38<00:00,  2.01it/s, loss=0.428]\n",
            "Validation: 100%|██████████| 28/28 [00:08<00:00,  3.43it/s]\n"
          ]
        },
        {
          "output_type": "stream",
          "name": "stdout",
          "text": [
            "\n",
            "Epoch 88/500\n",
            "Train Loss: 0.6301, Train AUC: 0.8044\n",
            "Val Loss: 0.6966, Val AUC: 0.8089\n",
            "Learning rates - Encoder: 8.84e-07, Classifier: 8.84e-06\n",
            "--------------------------------------------------\n"
          ]
        },
        {
          "output_type": "stream",
          "name": "stderr",
          "text": [
            "Epoch 89/500: 100%|██████████| 197/197 [01:38<00:00,  2.00it/s, loss=0.544]\n",
            "Validation: 100%|██████████| 28/28 [00:08<00:00,  3.44it/s]\n"
          ]
        },
        {
          "output_type": "stream",
          "name": "stdout",
          "text": [
            "\n",
            "Epoch 89/500\n",
            "Train Loss: 0.6139, Train AUC: 0.8116\n",
            "Val Loss: 0.6933, Val AUC: 0.8085\n",
            "Learning rates - Encoder: 8.95e-07, Classifier: 8.95e-06\n",
            "--------------------------------------------------\n"
          ]
        },
        {
          "output_type": "stream",
          "name": "stderr",
          "text": [
            "Epoch 90/500: 100%|██████████| 197/197 [01:38<00:00,  2.00it/s, loss=0.536]\n",
            "Validation: 100%|██████████| 28/28 [00:08<00:00,  3.47it/s]\n"
          ]
        },
        {
          "output_type": "stream",
          "name": "stdout",
          "text": [
            "\n",
            "Epoch 90/500\n",
            "Train Loss: 0.6152, Train AUC: 0.8066\n",
            "Val Loss: 0.6984, Val AUC: 0.8157\n",
            "Learning rates - Encoder: 9.05e-07, Classifier: 9.05e-06\n",
            "--------------------------------------------------\n"
          ]
        },
        {
          "output_type": "stream",
          "name": "stderr",
          "text": [
            "Epoch 91/500: 100%|██████████| 197/197 [01:38<00:00,  2.00it/s, loss=0.339]\n",
            "Validation: 100%|██████████| 28/28 [00:08<00:00,  3.46it/s]\n"
          ]
        },
        {
          "output_type": "stream",
          "name": "stdout",
          "text": [
            "\n",
            "Epoch 91/500\n",
            "Train Loss: 0.5918, Train AUC: 0.8190\n",
            "Val Loss: 0.6896, Val AUC: 0.8123\n",
            "Learning rates - Encoder: 9.15e-07, Classifier: 9.15e-06\n",
            "--------------------------------------------------\n"
          ]
        },
        {
          "output_type": "stream",
          "name": "stderr",
          "text": [
            "Epoch 92/500: 100%|██████████| 197/197 [01:38<00:00,  2.01it/s, loss=0.636]\n",
            "Validation: 100%|██████████| 28/28 [00:08<00:00,  3.46it/s]\n"
          ]
        },
        {
          "output_type": "stream",
          "name": "stdout",
          "text": [
            "\n",
            "Epoch 92/500\n",
            "Train Loss: 0.5962, Train AUC: 0.8176\n",
            "Val Loss: 0.7192, Val AUC: 0.8143\n",
            "Learning rates - Encoder: 9.25e-07, Classifier: 9.25e-06\n",
            "--------------------------------------------------\n"
          ]
        },
        {
          "output_type": "stream",
          "name": "stderr",
          "text": [
            "Epoch 93/500: 100%|██████████| 197/197 [01:38<00:00,  2.01it/s, loss=0.512]\n",
            "Validation: 100%|██████████| 28/28 [00:08<00:00,  3.35it/s]\n"
          ]
        },
        {
          "output_type": "stream",
          "name": "stdout",
          "text": [
            "New best model saved with validation AUC: 0.8203\n",
            "\n",
            "Epoch 93/500\n",
            "Train Loss: 0.5942, Train AUC: 0.8140\n",
            "Val Loss: 0.6551, Val AUC: 0.8203\n",
            "Learning rates - Encoder: 9.35e-07, Classifier: 9.35e-06\n",
            "--------------------------------------------------\n"
          ]
        },
        {
          "output_type": "stream",
          "name": "stderr",
          "text": [
            "Epoch 94/500: 100%|██████████| 197/197 [01:38<00:00,  2.00it/s, loss=0.588]\n",
            "Validation: 100%|██████████| 28/28 [00:08<00:00,  3.36it/s]\n"
          ]
        },
        {
          "output_type": "stream",
          "name": "stdout",
          "text": [
            "\n",
            "Epoch 94/500\n",
            "Train Loss: 0.5903, Train AUC: 0.8139\n",
            "Val Loss: 0.6880, Val AUC: 0.8160\n",
            "Learning rates - Encoder: 9.45e-07, Classifier: 9.45e-06\n",
            "--------------------------------------------------\n"
          ]
        },
        {
          "output_type": "stream",
          "name": "stderr",
          "text": [
            "Epoch 95/500: 100%|██████████| 197/197 [01:38<00:00,  2.01it/s, loss=0.577]\n",
            "Validation: 100%|██████████| 28/28 [00:08<00:00,  3.36it/s]\n"
          ]
        },
        {
          "output_type": "stream",
          "name": "stdout",
          "text": [
            "\n",
            "Epoch 95/500\n",
            "Train Loss: 0.5716, Train AUC: 0.8263\n",
            "Val Loss: 0.7239, Val AUC: 0.8110\n",
            "Learning rates - Encoder: 9.55e-07, Classifier: 9.55e-06\n",
            "--------------------------------------------------\n"
          ]
        },
        {
          "output_type": "stream",
          "name": "stderr",
          "text": [
            "Epoch 96/500: 100%|██████████| 197/197 [01:38<00:00,  2.00it/s, loss=0.379]\n",
            "Validation: 100%|██████████| 28/28 [00:08<00:00,  3.37it/s]\n"
          ]
        },
        {
          "output_type": "stream",
          "name": "stdout",
          "text": [
            "\n",
            "Epoch 96/500\n",
            "Train Loss: 0.5858, Train AUC: 0.8202\n",
            "Val Loss: 0.6875, Val AUC: 0.8160\n",
            "Learning rates - Encoder: 9.65e-07, Classifier: 9.65e-06\n",
            "--------------------------------------------------\n"
          ]
        },
        {
          "output_type": "stream",
          "name": "stderr",
          "text": [
            "Epoch 97/500: 100%|██████████| 197/197 [01:38<00:00,  2.01it/s, loss=0.449]\n",
            "Validation: 100%|██████████| 28/28 [00:08<00:00,  3.45it/s]\n"
          ]
        },
        {
          "output_type": "stream",
          "name": "stdout",
          "text": [
            "New best model saved with validation AUC: 0.8270\n",
            "\n",
            "Epoch 97/500\n",
            "Train Loss: 0.5592, Train AUC: 0.8298\n",
            "Val Loss: 0.6565, Val AUC: 0.8270\n",
            "Learning rates - Encoder: 9.75e-07, Classifier: 9.75e-06\n",
            "--------------------------------------------------\n"
          ]
        },
        {
          "output_type": "stream",
          "name": "stderr",
          "text": [
            "Epoch 98/500: 100%|██████████| 197/197 [01:38<00:00,  1.99it/s, loss=0.539]\n",
            "Validation: 100%|██████████| 28/28 [00:08<00:00,  3.41it/s]\n"
          ]
        },
        {
          "output_type": "stream",
          "name": "stdout",
          "text": [
            "\n",
            "Epoch 98/500\n",
            "Train Loss: 0.5739, Train AUC: 0.8225\n",
            "Val Loss: 0.6777, Val AUC: 0.8160\n",
            "Learning rates - Encoder: 9.85e-07, Classifier: 9.85e-06\n",
            "--------------------------------------------------\n"
          ]
        },
        {
          "output_type": "stream",
          "name": "stderr",
          "text": [
            "Epoch 99/500: 100%|██████████| 197/197 [01:38<00:00,  2.00it/s, loss=0.582]\n",
            "Validation: 100%|██████████| 28/28 [00:08<00:00,  3.42it/s]\n"
          ]
        },
        {
          "output_type": "stream",
          "name": "stdout",
          "text": [
            "\n",
            "Epoch 99/500\n",
            "Train Loss: 0.5519, Train AUC: 0.8303\n",
            "Val Loss: 0.7120, Val AUC: 0.8208\n",
            "Learning rates - Encoder: 9.95e-07, Classifier: 9.95e-06\n",
            "--------------------------------------------------\n"
          ]
        },
        {
          "output_type": "stream",
          "name": "stderr",
          "text": [
            "Epoch 100/500: 100%|██████████| 197/197 [01:38<00:00,  2.00it/s, loss=0.959]\n",
            "Validation: 100%|██████████| 28/28 [00:08<00:00,  3.44it/s]\n"
          ]
        },
        {
          "output_type": "stream",
          "name": "stdout",
          "text": [
            "\n",
            "Epoch 100/500\n",
            "Train Loss: 0.5529, Train AUC: 0.8337\n",
            "Val Loss: 0.6702, Val AUC: 0.8166\n",
            "Learning rates - Encoder: 1.00e-06, Classifier: 1.00e-05\n",
            "--------------------------------------------------\n"
          ]
        },
        {
          "output_type": "stream",
          "name": "stderr",
          "text": [
            "Epoch 101/500: 100%|██████████| 197/197 [01:38<00:00,  2.00it/s, loss=0.485]\n",
            "Validation: 100%|██████████| 28/28 [00:08<00:00,  3.45it/s]\n"
          ]
        },
        {
          "output_type": "stream",
          "name": "stdout",
          "text": [
            "\n",
            "Epoch 101/500\n",
            "Train Loss: 0.5548, Train AUC: 0.8308\n",
            "Val Loss: 0.6976, Val AUC: 0.8132\n",
            "Learning rates - Encoder: 1.00e-06, Classifier: 1.00e-05\n",
            "--------------------------------------------------\n"
          ]
        },
        {
          "output_type": "stream",
          "name": "stderr",
          "text": [
            "Epoch 102/500: 100%|██████████| 197/197 [01:38<00:00,  2.00it/s, loss=0.625]\n",
            "Validation: 100%|██████████| 28/28 [00:08<00:00,  3.46it/s]\n"
          ]
        },
        {
          "output_type": "stream",
          "name": "stdout",
          "text": [
            "\n",
            "Epoch 102/500\n",
            "Train Loss: 0.5306, Train AUC: 0.8405\n",
            "Val Loss: 0.6649, Val AUC: 0.8212\n",
            "Learning rates - Encoder: 1.00e-06, Classifier: 1.00e-05\n",
            "--------------------------------------------------\n"
          ]
        },
        {
          "output_type": "stream",
          "name": "stderr",
          "text": [
            "Epoch 103/500: 100%|██████████| 197/197 [01:38<00:00,  2.01it/s, loss=0.893]\n",
            "Validation: 100%|██████████| 28/28 [00:08<00:00,  3.37it/s]\n"
          ]
        },
        {
          "output_type": "stream",
          "name": "stdout",
          "text": [
            "\n",
            "Epoch 103/500\n",
            "Train Loss: 0.5405, Train AUC: 0.8357\n",
            "Val Loss: 0.6629, Val AUC: 0.8251\n",
            "Learning rates - Encoder: 1.00e-06, Classifier: 1.00e-05\n",
            "--------------------------------------------------\n"
          ]
        },
        {
          "output_type": "stream",
          "name": "stderr",
          "text": [
            "Epoch 104/500: 100%|██████████| 197/197 [01:38<00:00,  2.01it/s, loss=0.834]\n",
            "Validation: 100%|██████████| 28/28 [00:08<00:00,  3.36it/s]\n"
          ]
        },
        {
          "output_type": "stream",
          "name": "stdout",
          "text": [
            "New best model saved with validation AUC: 0.8270\n",
            "\n",
            "Epoch 104/500\n",
            "Train Loss: 0.5438, Train AUC: 0.8354\n",
            "Val Loss: 0.6548, Val AUC: 0.8270\n",
            "Learning rates - Encoder: 1.00e-06, Classifier: 1.00e-05\n",
            "--------------------------------------------------\n"
          ]
        },
        {
          "output_type": "stream",
          "name": "stderr",
          "text": [
            "Epoch 105/500: 100%|██████████| 197/197 [01:38<00:00,  2.00it/s, loss=0.467]\n",
            "Validation: 100%|██████████| 28/28 [00:08<00:00,  3.32it/s]\n"
          ]
        },
        {
          "output_type": "stream",
          "name": "stdout",
          "text": [
            "\n",
            "Epoch 105/500\n",
            "Train Loss: 0.5260, Train AUC: 0.8422\n",
            "Val Loss: 0.6484, Val AUC: 0.8263\n",
            "Learning rates - Encoder: 1.00e-06, Classifier: 1.00e-05\n",
            "--------------------------------------------------\n"
          ]
        },
        {
          "output_type": "stream",
          "name": "stderr",
          "text": [
            "Epoch 106/500: 100%|██████████| 197/197 [01:38<00:00,  2.01it/s, loss=0.718]\n",
            "Validation: 100%|██████████| 28/28 [00:08<00:00,  3.41it/s]\n"
          ]
        },
        {
          "output_type": "stream",
          "name": "stdout",
          "text": [
            "\n",
            "Epoch 106/500\n",
            "Train Loss: 0.5413, Train AUC: 0.8369\n",
            "Val Loss: 0.6870, Val AUC: 0.8191\n",
            "Learning rates - Encoder: 1.00e-06, Classifier: 1.00e-05\n",
            "--------------------------------------------------\n"
          ]
        },
        {
          "output_type": "stream",
          "name": "stderr",
          "text": [
            "Epoch 107/500: 100%|██████████| 197/197 [01:38<00:00,  2.00it/s, loss=0.739]\n",
            "Validation: 100%|██████████| 28/28 [00:08<00:00,  3.40it/s]\n"
          ]
        },
        {
          "output_type": "stream",
          "name": "stdout",
          "text": [
            "\n",
            "Epoch 107/500\n",
            "Train Loss: 0.5246, Train AUC: 0.8429\n",
            "Val Loss: 0.6575, Val AUC: 0.8229\n",
            "Learning rates - Encoder: 1.00e-06, Classifier: 1.00e-05\n",
            "--------------------------------------------------\n"
          ]
        },
        {
          "output_type": "stream",
          "name": "stderr",
          "text": [
            "Epoch 108/500: 100%|██████████| 197/197 [01:38<00:00,  2.00it/s, loss=0.765]\n",
            "Validation: 100%|██████████| 28/28 [00:08<00:00,  3.41it/s]\n"
          ]
        },
        {
          "output_type": "stream",
          "name": "stdout",
          "text": [
            "\n",
            "Epoch 108/500\n",
            "Train Loss: 0.5078, Train AUC: 0.8501\n",
            "Val Loss: 0.6901, Val AUC: 0.8247\n",
            "Learning rates - Encoder: 1.00e-06, Classifier: 1.00e-05\n",
            "--------------------------------------------------\n"
          ]
        },
        {
          "output_type": "stream",
          "name": "stderr",
          "text": [
            "Epoch 109/500: 100%|██████████| 197/197 [01:38<00:00,  2.01it/s, loss=0.402]\n",
            "Validation: 100%|██████████| 28/28 [00:08<00:00,  3.45it/s]\n"
          ]
        },
        {
          "output_type": "stream",
          "name": "stdout",
          "text": [
            "\n",
            "Epoch 109/500\n",
            "Train Loss: 0.5234, Train AUC: 0.8409\n",
            "Val Loss: 0.6698, Val AUC: 0.8252\n",
            "Learning rates - Encoder: 1.00e-06, Classifier: 1.00e-05\n",
            "--------------------------------------------------\n"
          ]
        },
        {
          "output_type": "stream",
          "name": "stderr",
          "text": [
            "Epoch 110/500: 100%|██████████| 197/197 [01:38<00:00,  2.01it/s, loss=0.419]\n",
            "Validation: 100%|██████████| 28/28 [00:08<00:00,  3.44it/s]\n"
          ]
        },
        {
          "output_type": "stream",
          "name": "stdout",
          "text": [
            "New best model saved with validation AUC: 0.8276\n",
            "\n",
            "Epoch 110/500\n",
            "Train Loss: 0.5189, Train AUC: 0.8454\n",
            "Val Loss: 0.6649, Val AUC: 0.8276\n",
            "Learning rates - Encoder: 1.00e-06, Classifier: 1.00e-05\n",
            "--------------------------------------------------\n"
          ]
        },
        {
          "output_type": "stream",
          "name": "stderr",
          "text": [
            "Epoch 111/500: 100%|██████████| 197/197 [01:38<00:00,  1.99it/s, loss=0.502]\n",
            "Validation: 100%|██████████| 28/28 [00:08<00:00,  3.42it/s]\n"
          ]
        },
        {
          "output_type": "stream",
          "name": "stdout",
          "text": [
            "\n",
            "Epoch 111/500\n",
            "Train Loss: 0.5093, Train AUC: 0.8495\n",
            "Val Loss: 0.6629, Val AUC: 0.8219\n",
            "Learning rates - Encoder: 1.00e-06, Classifier: 1.00e-05\n",
            "--------------------------------------------------\n"
          ]
        },
        {
          "output_type": "stream",
          "name": "stderr",
          "text": [
            "Epoch 112/500: 100%|██████████| 197/197 [01:38<00:00,  2.00it/s, loss=0.277]\n",
            "Validation: 100%|██████████| 28/28 [00:08<00:00,  3.43it/s]\n"
          ]
        },
        {
          "output_type": "stream",
          "name": "stdout",
          "text": [
            "\n",
            "Epoch 112/500\n",
            "Train Loss: 0.5154, Train AUC: 0.8480\n",
            "Val Loss: 0.6847, Val AUC: 0.8218\n",
            "Learning rates - Encoder: 1.00e-06, Classifier: 1.00e-05\n",
            "--------------------------------------------------\n",
            "Early stopping triggered after 112 epochs\n"
          ]
        },
        {
          "output_type": "display_data",
          "data": {
            "text/plain": [
              "<Figure size 1500x500 with 3 Axes>"
            ],
            "image/png": "[encoded data removed]"
          },
          "metadata": {}
        },
        {
          "output_type": "execute_result",
          "data": {
            "text/plain": [
              "ImprovedMedicalClassifier(\n",
              "  (encoder): CustomResNetEncoder(\n",
              "    (conv1): Conv2d(3, 64, kernel_size=(3, 3), stride=(1, 1), padding=(1, 1), bias=False)\n",
              "    (bn1): InstanceNorm2d(64, eps=1e-05, momentum=0.1, affine=False, track_running_stats=False)\n",
              "    (relu): LeakyReLU(negative_slope=0.2, inplace=True)\n",
              "    (layer1): Sequential(\n",
              "      (0): BasicBlock(\n",
              "        (conv1): Conv2d(64, 64, kernel_size=(3, 3), stride=(1, 1), padding=(1, 1), bias=False)\n",
              "        (bn1): BatchNorm2d(64, eps=1e-05, momentum=0.1, affine=True, track_running_stats=True)\n",
              "        (relu): ReLU(inplace=True)\n",
              "        (conv2): Conv2d(64, 64, kernel_size=(3, 3), stride=(1, 1), padding=(1, 1), bias=False)\n",
              "        (bn2): BatchNorm2d(64, eps=1e-05, momentum=0.1, affine=True, track_running_stats=True)\n",
              "      )\n",
              "      (1): BasicBlock(\n",
              "        (conv1): Conv2d(64, 64, kernel_size=(3, 3), stride=(1, 1), padding=(1, 1), bias=False)\n",
              "        (bn1): BatchNorm2d(64, eps=1e-05, momentum=0.1, affine=True, track_running_stats=True)\n",
              "        (relu): ReLU(inplace=True)\n",
              "        (conv2): Conv2d(64, 64, kernel_size=(3, 3), stride=(1, 1), padding=(1, 1), bias=False)\n",
              "        (bn2): BatchNorm2d(64, eps=1e-05, momentum=0.1, affine=True, track_running_stats=True)\n",
              "      )\n",
              "    )\n",
              "    (layer2): Sequential(\n",
              "      (0): BasicBlock(\n",
              "        (conv1): Conv2d(64, 128, kernel_size=(3, 3), stride=(2, 2), padding=(1, 1), bias=False)\n",
              "        (bn1): BatchNorm2d(128, eps=1e-05, momentum=0.1, affine=True, track_running_stats=True)\n",
              "        (relu): ReLU(inplace=True)\n",
              "        (conv2): Conv2d(128, 128, kernel_size=(3, 3), stride=(1, 1), padding=(1, 1), bias=False)\n",
              "        (bn2): BatchNorm2d(128, eps=1e-05, momentum=0.1, affine=True, track_running_stats=True)\n",
              "        (downsample): Sequential(\n",
              "          (0): Conv2d(64, 128, kernel_size=(1, 1), stride=(2, 2), bias=False)\n",
              "          (1): BatchNorm2d(128, eps=1e-05, momentum=0.1, affine=True, track_running_stats=True)\n",
              "        )\n",
              "      )\n",
              "      (1): BasicBlock(\n",
              "        (conv1): Conv2d(128, 128, kernel_size=(3, 3), stride=(1, 1), padding=(1, 1), bias=False)\n",
              "        (bn1): BatchNorm2d(128, eps=1e-05, momentum=0.1, affine=True, track_running_stats=True)\n",
              "        (relu): ReLU(inplace=True)\n",
              "        (conv2): Conv2d(128, 128, kernel_size=(3, 3), stride=(1, 1), padding=(1, 1), bias=False)\n",
              "        (bn2): BatchNorm2d(128, eps=1e-05, momentum=0.1, affine=True, track_running_stats=True)\n",
              "      )\n",
              "    )\n",
              "    (layer3): Sequential(\n",
              "      (0): BasicBlock(\n",
              "        (conv1): Conv2d(128, 256, kernel_size=(3, 3), stride=(2, 2), padding=(1, 1), bias=False)\n",
              "        (bn1): BatchNorm2d(256, eps=1e-05, momentum=0.1, affine=True, track_running_stats=True)\n",
              "        (relu): ReLU(inplace=True)\n",
              "        (conv2): Conv2d(256, 256, kernel_size=(3, 3), stride=(1, 1), padding=(1, 1), bias=False)\n",
              "        (bn2): BatchNorm2d(256, eps=1e-05, momentum=0.1, affine=True, track_running_stats=True)\n",
              "        (downsample): Sequential(\n",
              "          (0): Conv2d(128, 256, kernel_size=(1, 1), stride=(2, 2), bias=False)\n",
              "          (1): BatchNorm2d(256, eps=1e-05, momentum=0.1, affine=True, track_running_stats=True)\n",
              "        )\n",
              "      )\n",
              "      (1): BasicBlock(\n",
              "        (conv1): Conv2d(256, 256, kernel_size=(3, 3), stride=(1, 1), padding=(1, 1), bias=False)\n",
              "        (bn1): BatchNorm2d(256, eps=1e-05, momentum=0.1, affine=True, track_running_stats=True)\n",
              "        (relu): ReLU(inplace=True)\n",
              "        (conv2): Conv2d(256, 256, kernel_size=(3, 3), stride=(1, 1), padding=(1, 1), bias=False)\n",
              "        (bn2): BatchNorm2d(256, eps=1e-05, momentum=0.1, affine=True, track_running_stats=True)\n",
              "      )\n",
              "    )\n",
              "    (layer4): Sequential(\n",
              "      (0): BasicBlock(\n",
              "        (conv1): Conv2d(256, 512, kernel_size=(3, 3), stride=(2, 2), padding=(1, 1), bias=False)\n",
              "        (bn1): BatchNorm2d(512, eps=1e-05, momentum=0.1, affine=True, track_running_stats=True)\n",
              "        (relu): ReLU(inplace=True)\n",
              "        (conv2): Conv2d(512, 512, kernel_size=(3, 3), stride=(1, 1), padding=(1, 1), bias=False)\n",
              "        (bn2): BatchNorm2d(512, eps=1e-05, momentum=0.1, affine=True, track_running_stats=True)\n",
              "        (downsample): Sequential(\n",
              "          (0): Conv2d(256, 512, kernel_size=(1, 1), stride=(2, 2), bias=False)\n",
              "          (1): BatchNorm2d(512, eps=1e-05, momentum=0.1, affine=True, track_running_stats=True)\n",
              "        )\n",
              "      )\n",
              "      (1): BasicBlock(\n",
              "        (conv1): Conv2d(512, 512, kernel_size=(3, 3), stride=(1, 1), padding=(1, 1), bias=False)\n",
              "        (bn1): BatchNorm2d(512, eps=1e-05, momentum=0.1, affine=True, track_running_stats=True)\n",
              "        (relu): ReLU(inplace=True)\n",
              "        (conv2): Conv2d(512, 512, kernel_size=(3, 3), stride=(1, 1), padding=(1, 1), bias=False)\n",
              "        (bn2): BatchNorm2d(512, eps=1e-05, momentum=0.1, affine=True, track_running_stats=True)\n",
              "      )\n",
              "    )\n",
              "  )\n",
              "  (classifier): Sequential(\n",
              "    (0): AdaptiveAvgPool2d(output_size=1)\n",
              "    (1): Flatten(start_dim=1, end_dim=-1)\n",
              "    (2): LayerNorm((512,), eps=1e-05, elementwise_affine=True)\n",
              "    (3): Dropout(p=0.2, inplace=False)\n",
              "    (4): Linear(in_features=512, out_features=256, bias=True)\n",
              "    (5): GELU(approximate='none')\n",
              "    (6): LayerNorm((256,), eps=1e-05, elementwise_affine=True)\n",
              "    (7): Dropout(p=0.2, inplace=False)\n",
              "    (8): Linear(in_features=256, out_features=64, bias=True)\n",
              "    (9): GELU(approximate='none')\n",
              "    (10): LayerNorm((64,), eps=1e-05, elementwise_affine=True)\n",
              "    (11): Linear(in_features=64, out_features=1, bias=True)\n",
              "  )\n",
              ")"
            ]
          },
          "metadata": {},
          "execution_count": 25
        }
      ],
      "source": [
        "import torch\n",
        "import math\n",
        "from tqdm import tqdm\n",
        "from sklearn.metrics import roc_auc_score\n",
        "\n",
        "# Required imports\n",
        "import matplotlib.pyplot as plt\n",
        "from pathlib import Path\n",
        "\n",
        "# Load the pretrained MaskedAutoencoder model\n",
        "pretrained_model = MaskedAutoencoder(mask_ratio=0.75).to(device)\n",
        "checkpoint_path = \"/content/drive/MyDrive/data/best_masked_autoencoder.pth\"\n",
        "pretrained_model, _ = load_checkpoint(pretrained_model, checkpoint_path, device)\n",
        "\n",
        "# Initialize the improved classification model\n",
        "classification_model = ImprovedMedicalClassifier(pretrained_model=pretrained_model).to(device)\n",
        "\n",
        "# Create data loaders - use a slightly smaller batch size for better stability\n",
        "batch_size = 32  # Reduced from 64\n",
        "train_loader = torch.utils.data.DataLoader(\n",
        "    train_dataset, batch_size=batch_size, shuffle=True, num_workers=2, pin_memory=True\n",
        ")\n",
        "val_loader = torch.utils.data.DataLoader(\n",
        "    val_dataset, batch_size=batch_size, shuffle=False, num_workers=2, pin_memory=True\n",
        ")\n",
        "\n",
        "# Train with improved method\n",
        "train_classifier_improved(classification_model, train_loader, val_loader, device, num_epochs=500)"
      ]
    },
    {
      "cell_type": "markdown",
      "metadata": {
        "id": "7MkIAtlHTAQx"
      },
      "source": [
        "# TESTING"
      ]
    },
    {
      "cell_type": "code",
      "execution_count": 26,
      "metadata": {
        "colab": {
          "base_uri": "https://localhost:8080/",
          "height": 998
        },
        "id": "qRP26AIVZyv7",
        "outputId": "03dd616d-c96a-4b1f-a7d5-ef63b20be242"
      },
      "outputs": [
        {
          "output_type": "stream",
          "name": "stderr",
          "text": [
            "<ipython-input-26-fc95ebad340e>:113: FutureWarning: You are using `torch.load` with `weights_only=False` (the current default value), which uses the default pickle module implicitly. It is possible to construct malicious pickle data which will execute arbitrary code during unpickling (See https://github.com/pytorch/pytorch/blob/main/SECURITY.md#untrusted-models for more details). In a future release, the default value for `weights_only` will be flipped to `True`. This limits the functions that could be executed during unpickling. Arbitrary objects will no longer be allowed to be loaded via this mode unless they are explicitly allowlisted by the user via `torch.serialization.add_safe_globals`. We recommend you start setting `weights_only=True` for any use case where you don't have full control of the loaded file. Please open an issue on GitHub for any issues related to this experimental feature.\n",
            "  checkpoint = torch.load('/content/drive/MyDrive/data/best_classification_model_improved.pth', map_location=device)\n"
          ]
        },
        {
          "output_type": "stream",
          "name": "stdout",
          "text": [
            "Starting evaluation...\n"
          ]
        },
        {
          "output_type": "stream",
          "name": "stderr",
          "text": [
            "Testing: 100%|██████████| 28/28 [01:31<00:00,  3.26s/it]\n"
          ]
        },
        {
          "output_type": "stream",
          "name": "stdout",
          "text": [
            "\n",
            "Test Results:\n",
            "--------------------------------------------------\n",
            "Loss        : 0.462\n",
            "Accuracy    : 0.813 (95% CI: 0.787-0.839)\n",
            "Sensitivity : 0.753 (95% CI: 0.724-0.782)\n",
            "Specificity : 0.865 (95% CI: 0.842-0.888)\n",
            "Precision   : 0.827 (95% CI: 0.802-0.853)\n",
            "NPV         : 0.803 (95% CI: 0.776-0.829)\n",
            "F1-Score    : 0.789 (95% CI: 0.761-0.816)\n",
            "AUC         : 0.885 (95% CI: 0.863-0.906)\n"
          ]
        },
        {
          "output_type": "display_data",
          "data": {
            "text/plain": [
              "<Figure size 800x800 with 1 Axes>"
            ],
            "image/png": "[encoded data removed]"
          },
          "metadata": {}
        }
      ],
      "source": [
        "import sklearn.metrics\n",
        "from IPython import get_ipython\n",
        "from IPython.display import display\n",
        "\n",
        "import sklearn.metrics\n",
        "from IPython import get_ipython\n",
        "from IPython.display import display\n",
        "\n",
        "def evaluate_model(model, test_loader, device):\n",
        "    model.eval()\n",
        "    all_preds = []\n",
        "    all_labels = []\n",
        "    test_loss = 0\n",
        "    criterion = nn.BCEWithLogitsLoss()\n",
        "\n",
        "    print(\"Starting evaluation...\")\n",
        "    with torch.no_grad():\n",
        "        for images, labels in tqdm(test_loader, desc=\"Testing\"):\n",
        "            images = images.to(device)\n",
        "            labels = labels.float().to(device)\n",
        "\n",
        "            # Forward pass\n",
        "            outputs = model(images)\n",
        "            loss = criterion(outputs.squeeze(), labels)\n",
        "            test_loss += loss.item()\n",
        "\n",
        "            # Store predictions and labels\n",
        "            # Get predictions for the current batch\n",
        "            predictions = outputs.squeeze().cpu().numpy()\n",
        "            labels = labels.cpu().numpy()\n",
        "            all_preds.extend(predictions)\n",
        "            all_labels.extend(labels)\n",
        "\n",
        "    # Convert to numpy arrays\n",
        "    all_preds = np.array(all_preds)\n",
        "    all_labels = np.array(all_labels)\n",
        "\n",
        "    # Calculate metrics\n",
        "    average_loss = test_loss / len(test_loader)\n",
        "    # Correct way to threshold with BCEWithLogitsLoss\n",
        "    # Apply sigmoid to all predictions to get probabilities\n",
        "    sigmoid_preds = torch.sigmoid(torch.tensor(all_preds)).cpu().numpy()\n",
        "    binary_preds = (sigmoid_preds > 0.5).astype(int)\n",
        "\n",
        "    # True positives, false positives, etc.\n",
        "    tp = np.sum((binary_preds == 1) & (all_labels == 1))\n",
        "    fp = np.sum((binary_preds == 1) & (all_labels == 0))\n",
        "    tn = np.sum((binary_preds == 0) & (all_labels == 0))\n",
        "    fn = np.sum((binary_preds == 0) & (all_labels == 1))\n",
        "\n",
        "    # Calculate metrics\n",
        "    accuracy = (tp + tn) / (tp + tn + fp + fn)\n",
        "    sensitivity = tp / (tp + fn) if (tp + fn) > 0 else 0\n",
        "    specificity = tn / (tn + fp) if (tn + fp) > 0 else 0\n",
        "    precision = tp / (tp + fp) if (tp + fp) > 0 else 0\n",
        "    npv = tn / (tn + fn) if (tn + fn) > 0 else 0\n",
        "    f1 = 2 * (precision * sensitivity) / (precision + sensitivity) if (precision + sensitivity) > 0 else 0\n",
        "    auc = roc_auc_score(all_labels, all_preds)\n",
        "\n",
        "    # Calculate confidence intervals (95%)\n",
        "    n = len(all_labels)\n",
        "    z = 1.96  # 95% confidence interval\n",
        "\n",
        "    def confidence_interval(p):\n",
        "        std_err = np.sqrt((p * (1-p)) / n)\n",
        "        return z * std_err\n",
        "\n",
        "    metrics = {\n",
        "        'Loss': f\"{average_loss:.3f}\",\n",
        "        'Accuracy': f\"{accuracy:.3f} (95% CI: {accuracy-confidence_interval(accuracy):.3f}-{accuracy+confidence_interval(accuracy):.3f})\",\n",
        "        'Sensitivity': f\"{sensitivity:.3f} (95% CI: {sensitivity-confidence_interval(sensitivity):.3f}-{sensitivity+confidence_interval(sensitivity):.3f})\",\n",
        "        'Specificity': f\"{specificity:.3f} (95% CI: {specificity-confidence_interval(specificity):.3f}-{specificity+confidence_interval(specificity):.3f})\",\n",
        "        'Precision': f\"{precision:.3f} (95% CI: {precision-confidence_interval(precision):.3f}-{precision+confidence_interval(precision):.3f})\",\n",
        "        'NPV': f\"{npv:.3f} (95% CI: {npv-confidence_interval(npv):.3f}-{npv+confidence_interval(npv):.3f})\",\n",
        "        'F1-Score': f\"{f1:.3f} (95% CI: {f1-confidence_interval(f1):.3f}-{f1+confidence_interval(f1):.3f})\",\n",
        "        'AUC': f\"{auc:.3f} (95% CI: {auc-confidence_interval(auc):.3f}-{auc+confidence_interval(auc):.3f})\"\n",
        "    }\n",
        "\n",
        "    # Print results in a formatted way\n",
        "    print(\"\\nTest Results:\")\n",
        "    print(\"-\" * 50)\n",
        "    for metric, value in metrics.items():\n",
        "        print(f\"{metric:12s}: {value}\")\n",
        "\n",
        "    # Plot ROC curve\n",
        "    fpr, tpr, _ = sklearn.metrics.roc_curve(all_labels, all_preds)\n",
        "    plt.figure(figsize=(8, 8))\n",
        "    plt.plot(fpr, tpr, color='darkorange', lw=2, label=f'ROC curve (AUC = {auc:.3f})')\n",
        "    plt.plot([0, 1], [0, 1], color='navy', lw=2, linestyle='--')\n",
        "    plt.xlim([0.0, 1.0])\n",
        "    plt.ylim([0.0, 1.05])\n",
        "    plt.xlabel('False Positive Rate')\n",
        "    plt.ylabel('True Positive Rate')\n",
        "    plt.title('Receiver Operating Characteristic (ROC) Curve')\n",
        "    plt.legend(loc=\"lower right\")\n",
        "    plt.grid(True)\n",
        "    plt.savefig('roc_curve.png')\n",
        "    plt.show()\n",
        "\n",
        "    return metrics\n",
        "\n",
        "# Usage\n",
        "test_loader = torch.utils.data.DataLoader(\n",
        "    test_dataset,\n",
        "    batch_size=batch_size,\n",
        "    shuffle=False,\n",
        "    num_workers=2,\n",
        "    pin_memory=True\n",
        ")\n",
        "\n",
        "# Load best model\n",
        "best_model = ImprovedMedicalClassifier(pretrained_model=pretrained_model)  # Remove .to(device) here\n",
        "checkpoint = torch.load('/content/drive/MyDrive/data/best_classification_model_improved.pth', map_location=device)\n",
        "best_model.load_state_dict(checkpoint['model_state_dict'])\n",
        "\n",
        "# Move the model to the device after loading the state_dict\n",
        "best_model.to(device)\n",
        "\n",
        "# Evaluate\n",
        "metrics = evaluate_model(best_model, test_loader, device)"
      ]
    }
  ],
  "metadata": {
    "accelerator": "GPU",
    "colab": {
      "gpuType": "T4",
      "provenance": [],
      "include_colab_link": true
    },
    "kernelspec": {
      "display_name": "Python 3",
      "name": "python3"
    },
    "language_info": {
      "name": "python"
    }
  },
  "nbformat": 4,
  "nbformat_minor": 0
}