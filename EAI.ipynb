{
  "cells": [
    {
      "cell_type": "markdown",
      "metadata": {
        "id": "view-in-github",
        "colab_type": "text"
      },
      "source": [
        "<a href=\"https://colab.research.google.com/github/vmazashvili/EAI/blob/main/EAI.ipynb\" target=\"_parent\"><img src=\"https://colab.research.google.com/assets/colab-badge.svg\" alt=\"Open In Colab\"/></a>"
      ]
    },
    {
      "cell_type": "markdown",
      "metadata": {
        "id": "ImZPmiwRl5bQ"
      },
      "source": [
        "# Self-supervised Pretraining"
      ]
    },
    {
      "cell_type": "markdown",
      "source": [],
      "metadata": {
        "id": "73k9cGgzCAu4"
      }
    },
    {
      "cell_type": "code",
      "execution_count": null,
      "metadata": {
        "colab": {
          "base_uri": "https://localhost:8080/"
        },
        "id": "OJB0UuRvFTDn",
        "outputId": "9ebe9a09-1d95-4457-efbd-e5c4743d595b"
      },
      "outputs": [
        {
          "output_type": "stream",
          "name": "stdout",
          "text": [
            "Mounted at /content/drive\n"
          ]
        }
      ],
      "source": [
        "# prompt: connect different google drive account\n",
        "\n",
        "from google.colab import drive\n",
        "# Mount the first drive\n",
        "drive.mount('/content/drive')"
      ]
    },
    {
      "cell_type": "code",
      "execution_count": null,
      "metadata": {
        "colab": {
          "base_uri": "https://localhost:8080/"
        },
        "id": "ZYGYvw8El2lm",
        "outputId": "9666af05-9a5c-4cea-e89e-26e16e2854ee"
      },
      "outputs": [
        {
          "output_type": "stream",
          "name": "stdout",
          "text": [
            "Requirement already satisfied: pillow in /usr/local/lib/python3.11/dist-packages (11.1.0)\n",
            "Requirement already satisfied: opencv-python in /usr/local/lib/python3.11/dist-packages (4.11.0.86)\n",
            "Requirement already satisfied: numpy>=1.21.2 in /usr/local/lib/python3.11/dist-packages (from opencv-python) (1.26.4)\n",
            "Requirement already satisfied: tqdm in /usr/local/lib/python3.11/dist-packages (4.67.1)\n",
            "Collecting optuna\n",
            "  Downloading optuna-4.2.1-py3-none-any.whl.metadata (17 kB)\n",
            "Collecting alembic>=1.5.0 (from optuna)\n",
            "  Downloading alembic-1.14.1-py3-none-any.whl.metadata (7.4 kB)\n",
            "Collecting colorlog (from optuna)\n",
            "  Downloading colorlog-6.9.0-py3-none-any.whl.metadata (10 kB)\n",
            "Requirement already satisfied: numpy in /usr/local/lib/python3.11/dist-packages (from optuna) (1.26.4)\n",
            "Requirement already satisfied: packaging>=20.0 in /usr/local/lib/python3.11/dist-packages (from optuna) (24.2)\n",
            "Requirement already satisfied: sqlalchemy>=1.4.2 in /usr/local/lib/python3.11/dist-packages (from optuna) (2.0.38)\n",
            "Requirement already satisfied: tqdm in /usr/local/lib/python3.11/dist-packages (from optuna) (4.67.1)\n",
            "Requirement already satisfied: PyYAML in /usr/local/lib/python3.11/dist-packages (from optuna) (6.0.2)\n",
            "Collecting Mako (from alembic>=1.5.0->optuna)\n",
            "  Downloading Mako-1.3.9-py3-none-any.whl.metadata (2.9 kB)\n",
            "Requirement already satisfied: typing-extensions>=4 in /usr/local/lib/python3.11/dist-packages (from alembic>=1.5.0->optuna) (4.12.2)\n",
            "Requirement already satisfied: greenlet!=0.4.17 in /usr/local/lib/python3.11/dist-packages (from sqlalchemy>=1.4.2->optuna) (3.1.1)\n",
            "Requirement already satisfied: MarkupSafe>=0.9.2 in /usr/local/lib/python3.11/dist-packages (from Mako->alembic>=1.5.0->optuna) (3.0.2)\n",
            "Downloading optuna-4.2.1-py3-none-any.whl (383 kB)\n",
            "\u001b[2K   \u001b[90m━━━━━━━━━━━━━━━━━━━━━━━━━━━━━━━━━━━━━━━━\u001b[0m \u001b[32m383.6/383.6 kB\u001b[0m \u001b[31m20.6 MB/s\u001b[0m eta \u001b[36m0:00:00\u001b[0m\n",
            "\u001b[?25hDownloading alembic-1.14.1-py3-none-any.whl (233 kB)\n",
            "\u001b[2K   \u001b[90m━━━━━━━━━━━━━━━━━━━━━━━━━━━━━━━━━━━━━━━━\u001b[0m \u001b[32m233.6/233.6 kB\u001b[0m \u001b[31m21.1 MB/s\u001b[0m eta \u001b[36m0:00:00\u001b[0m\n",
            "\u001b[?25hDownloading colorlog-6.9.0-py3-none-any.whl (11 kB)\n",
            "Downloading Mako-1.3.9-py3-none-any.whl (78 kB)\n",
            "\u001b[2K   \u001b[90m━━━━━━━━━━━━━━━━━━━━━━━━━━━━━━━━━━━━━━━━\u001b[0m \u001b[32m78.5/78.5 kB\u001b[0m \u001b[31m7.8 MB/s\u001b[0m eta \u001b[36m0:00:00\u001b[0m\n",
            "\u001b[?25hInstalling collected packages: Mako, colorlog, alembic, optuna\n",
            "Successfully installed Mako-1.3.9 alembic-1.14.1 colorlog-6.9.0 optuna-4.2.1\n"
          ]
        }
      ],
      "source": [
        "!pip install pillow opencv-python\n",
        "!pip install tqdm\n",
        "!pip install optuna"
      ]
    },
    {
      "cell_type": "code",
      "execution_count": null,
      "metadata": {
        "id": "4KwyC6D76Wuq"
      },
      "outputs": [],
      "source": [
        "import torch\n",
        "import torch.nn as nn\n",
        "import torch.optim as optim\n",
        "from torch.utils.data import Dataset, DataLoader\n",
        "from torchvision import transforms\n",
        "import os\n",
        "from PIL import Image\n",
        "import numpy as np"
      ]
    },
    {
      "cell_type": "markdown",
      "metadata": {
        "id": "DEK2jOrT6bJa"
      },
      "source": [
        "# DATASETS"
      ]
    },
    {
      "cell_type": "code",
      "execution_count": null,
      "metadata": {
        "colab": {
          "base_uri": "https://localhost:8080/"
        },
        "id": "DWv0_32A_kSm",
        "outputId": "72534d38-de7f-40e7-fc0f-200a6f43bf70"
      },
      "outputs": [
        {
          "output_type": "stream",
          "name": "stdout",
          "text": [
            "Drive already mounted at /content/drive; to attempt to forcibly remount, call drive.mount(\"/content/drive\", force_remount=True).\n"
          ]
        }
      ],
      "source": [
        "# Mount Google Drive if not already mounted\n",
        "drive.mount('/content/drive')\n",
        "\n",
        "# Setup paths\n",
        "UNLABELED_PATH = '/content/drive/MyDrive/data/filtered_good_mock/'\n",
        "LABELED_BASE_PATH = '/content/drive/MyDrive/data/PatchDataset/'"
      ]
    },
    {
      "cell_type": "code",
      "execution_count": null,
      "metadata": {
        "id": "HLRRzKEwzNaX"
      },
      "outputs": [],
      "source": [
        "import torch\n",
        "from torchvision import transforms\n",
        "from torch.utils.data import DataLoader\n",
        "\n",
        "def compute_mean_std(loader):\n",
        "    mean = 0.0\n",
        "    std = 0.0\n",
        "    total_images_count = 0\n",
        "\n",
        "    for images in loader:\n",
        "        # Flatten batch and calculate mean and std for each channel\n",
        "        batch_samples = images.size(0)  # batch size (number of images)\n",
        "        images = images.view(batch_samples, images.size(1), -1)  # Flatten H and W\n",
        "        mean += images.mean(2).sum(0)\n",
        "        std += images.std(2).sum(0)\n",
        "        total_images_count += batch_samples\n",
        "\n",
        "    mean /= total_images_count\n",
        "    std /= total_images_count\n",
        "\n",
        "    return mean, std"
      ]
    },
    {
      "cell_type": "code",
      "execution_count": null,
      "metadata": {
        "id": "OSYlDL_ilfEj"
      },
      "outputs": [],
      "source": [
        "import os\n",
        "from torch.utils.data import Dataset\n",
        "import torch\n",
        "from torchvision import transforms\n",
        "from torchvision.io import read_image\n",
        "from tqdm import tqdm\n",
        "\n",
        "class NormalizationTransforms:\n",
        "    @staticmethod\n",
        "    def global_normalize(image_tensor):\n",
        "        \"\"\"Global min-max normalization\"\"\"\n",
        "        min_val = torch.min(image_tensor)\n",
        "        max_val = torch.max(image_tensor)\n",
        "        return (image_tensor - min_val) / (max_val - min_val + 1e-8)\n",
        "\n",
        "    @staticmethod\n",
        "    def robust_normalize(image_tensor, low_percentile=0.5, high_percentile=99.5):\n",
        "        \"\"\"Robust normalization using percentiles with clipping\"\"\"\n",
        "        # Calculate percentiles for each channel\n",
        "        mins = torch.quantile(image_tensor.view(3, -1), low_percentile / 100.0, dim=1)\n",
        "        maxs = torch.quantile(image_tensor.view(3, -1), high_percentile / 100.0, dim=1)\n",
        "\n",
        "        # Normalize each channel and clip values\n",
        "        normalized = torch.stack([\n",
        "            (channel - min_val) / (max_val - min_val + 1e-8)\n",
        "            for channel, min_val, max_val in zip(image_tensor, mins, maxs)\n",
        "        ])\n",
        "        return torch.clamp(normalized, 0.0, 1.0)\n",
        "\n",
        "    @staticmethod\n",
        "    def normalize(image_tensor, mean=None, std=None):\n",
        "        \"\"\"\n",
        "        Perform standard normalization of an image tensor.\n",
        "\n",
        "        Args:\n",
        "            image_tensor (torch.Tensor): The image tensor of shape (C, H, W).\n",
        "            mean (list or torch.Tensor, optional): Mean for each channel. If None, it's computed from the image.\n",
        "            std (list or torch.Tensor, optional): Standard deviation for each channel. If None, it's computed from the image.\n",
        "\n",
        "        Returns:\n",
        "            torch.Tensor: Normalized image tensor.\n",
        "        \"\"\"\n",
        "        if mean is None:\n",
        "            mean = image_tensor.mean(dim=(-1, -2), keepdim=True)\n",
        "        if std is None:\n",
        "            std = image_tensor.std(dim=(-1, -2), keepdim=True) + 1e-8  # Avoid division by zero\n",
        "\n",
        "        normalized = (image_tensor - mean) / std\n",
        "        return normalized\n",
        "\n",
        "    @staticmethod\n",
        "    def filter_overexposed(image_tensor, threshold=0.4, max_white_ratio=0.3):\n",
        "        \"\"\"Check if the image is overexposed.\"\"\"\n",
        "        white_ratio = torch.mean((image_tensor > threshold).float())\n",
        "        return white_ratio < max_white_ratio\n",
        "\n",
        "    @staticmethod\n",
        "    def filter_underexposed(image_tensor, threshold=0.35, max_dark_ratio=0.9):\n",
        "        \"\"\"Check if the image is underexposed.\"\"\"\n",
        "        dark_ratio = torch.mean((image_tensor < threshold).float())\n",
        "        return dark_ratio < max_dark_ratio\n",
        "\n",
        "\n",
        "class UnlabeledDataset(Dataset):\n",
        "    def __init__(self, root_dir, normalization='none', filter_overexposed=False, filter_underexposed=False):\n",
        "        self.root_dir = root_dir\n",
        "        self.normalization = normalization\n",
        "        self.filter_overexposed = filter_overexposed\n",
        "        self.filter_underexposed = filter_underexposed\n",
        "        self.image_files = [f for f in os.listdir(root_dir) if f.endswith('.png')]\n",
        "\n",
        "        # Filter the dataset if needed\n",
        "        if filter_overexposed or filter_underexposed:\n",
        "            self.image_files = self._prefilter_images()\n",
        "\n",
        "    def __len__(self):\n",
        "        return len(self.image_files)\n",
        "\n",
        "    def _prefilter_images(self):\n",
        "        filtered_files = []\n",
        "        for img_file in tqdm(self.image_files, desc=\"Filtering images\"):\n",
        "            img_path = os.path.join(self.root_dir, img_file)\n",
        "            image_tensor = read_image(img_path).float() / 255.0  # Read and normalize tensor\n",
        "            is_valid = True\n",
        "            if self.filter_overexposed:\n",
        "                is_valid &= NormalizationTransforms.filter_overexposed(image_tensor)\n",
        "            if self.filter_underexposed:\n",
        "                is_valid &= NormalizationTransforms.filter_underexposed(image_tensor)\n",
        "\n",
        "            if is_valid:\n",
        "                filtered_files.append(img_file)\n",
        "        return filtered_files\n",
        "\n",
        "    def __getitem__(self, idx):\n",
        "        img_path = os.path.join(self.root_dir, self.image_files[idx])\n",
        "        image_tensor = read_image(img_path).float() / 255.0  # Load as tensor\n",
        "\n",
        "        # Apply normalization\n",
        "        if self.normalization == 'global':\n",
        "            image_tensor = NormalizationTransforms.global_normalize(image_tensor)\n",
        "        elif self.normalization == 'robust':\n",
        "            image_tensor = NormalizationTransforms.robust_normalize(image_tensor)\n",
        "        elif self.normalization == 'regular':\n",
        "            image_tensor = NormalizationTransforms.normalize(image_tensor)\n",
        "\n",
        "        return image_tensor\n",
        "\n",
        "\n",
        "class LabeledDataset(Dataset):\n",
        "    def __init__(self, root_dir, split='train', transform=None, normalization='none'):\n",
        "        self.root_dir = root_dir\n",
        "        self.base_transform = transform\n",
        "        self.normalization = normalization\n",
        "        self.samples = []\n",
        "\n",
        "        split_dir = os.path.join(root_dir, split)\n",
        "        for label, class_name in enumerate(['negative', 'positive']):\n",
        "            class_dir = os.path.join(split_dir, class_name)\n",
        "            if os.path.exists(class_dir):\n",
        "                for img_name in os.listdir(class_dir):\n",
        "                    if img_name.endswith('.png'):\n",
        "                        self.samples.append((os.path.join(class_dir, img_name), label))\n",
        "\n",
        "    def __len__(self):  # Added this method\n",
        "        return len(self.samples)\n",
        "\n",
        "    def __getitem__(self, idx):\n",
        "        img_path, label = self.samples[idx]\n",
        "        image = Image.open(img_path)\n",
        "\n",
        "        if self.base_transform:\n",
        "            image = self.base_transform(image)\n",
        "\n",
        "        if self.normalization == 'global':\n",
        "            image = NormalizationTransforms.global_normalize(image)\n",
        "        elif self.normalization == 'robust':\n",
        "            image = NormalizationTransforms.robust_normalize(image)\n",
        "\n",
        "        return image, label\n"
      ]
    },
    {
      "cell_type": "code",
      "execution_count": null,
      "metadata": {
        "id": "mCWy55EFzb1-"
      },
      "outputs": [],
      "source": [
        "import torch\n",
        "import numpy as np\n",
        "import matplotlib.pyplot as plt\n",
        "from torch.utils.data import DataLoader, ConcatDataset, Subset\n",
        "from torchvision import transforms\n",
        "from tqdm import tqdm\n",
        "import random\n",
        "import os\n",
        "from PIL import Image\n",
        "from torch.utils.data import Dataset\n",
        "\n",
        "def get_pixel_values_subset(dataset, num_samples=1000, is_labeled=False, desc=\"Processing\"):\n",
        "    \"\"\"Extract pixel values from a random subset of images.\"\"\"\n",
        "    indices = random.sample(range(len(dataset)), min(num_samples, len(dataset)))\n",
        "    subset = Subset(dataset, indices)\n",
        "    subset_loader = DataLoader(subset, batch_size=128, shuffle=False)\n",
        "\n",
        "    all_pixels = []\n",
        "    for batch in tqdm(subset_loader, desc=desc):\n",
        "        if is_labeled:\n",
        "            images = batch[0]\n",
        "        else:\n",
        "            images = batch\n",
        "\n",
        "        pixels = images.reshape(-1, images.size(1)).numpy()\n",
        "        all_pixels.append(pixels)\n",
        "\n",
        "    return np.concatenate(all_pixels, axis=0)\n",
        "\n",
        "def plot_efficient_distribution(unlabeled_pixels, labeled_pixels, bins=50, title_suffix=\"\"): #add title_suffix as an argument with default value \"\"\n",
        "    \"\"\"Plot histograms instead of KDE for faster visualization.\"\"\"\n",
        "    plt.figure(figsize=(15, 5))\n",
        "    channels = ['Red', 'Green', 'Blue']\n",
        "\n",
        "    for i in range(3):\n",
        "        plt.subplot(1, 3, i+1)\n",
        "\n",
        "        plt.hist(unlabeled_pixels[:, i], bins=bins, alpha=0.5,\n",
        "                density=True, label='Unlabeled', color='blue')\n",
        "        plt.hist(labeled_pixels[:, i], bins=bins, alpha=0.5,\n",
        "                density=True, label='Labeled', color='orange')\n",
        "\n",
        "        plt.title(f'{channels[i]} Channel Distribution {title_suffix}') # incorporate the title suffix\n",
        "        plt.xlabel('Pixel Intensity')\n",
        "        plt.ylabel('Density')\n",
        "        plt.legend()\n",
        "\n",
        "    plt.tight_layout()\n",
        "    plt.show()\n",
        "def analyze_distributions_efficient(unlabeled_dataset, labeled_dataset, num_samples=1000):\n",
        "    print(\"\\nAnalyzing distributions...\")\n",
        "\n",
        "    unlabeled_pixels = get_pixel_values_subset(\n",
        "        unlabeled_dataset,\n",
        "        num_samples,\n",
        "        is_labeled=False,\n",
        "        desc=\"Processing unlabeled data\"\n",
        "    )\n",
        "\n",
        "    labeled_pixels = get_pixel_values_subset(\n",
        "        labeled_dataset,\n",
        "        num_samples,\n",
        "        is_labeled=True,\n",
        "        desc=\"Processing labeled data\"\n",
        "    )\n",
        "\n",
        "    print(\"\\nPlotting distributions...\")\n",
        "    plot_efficient_distribution(unlabeled_pixels, labeled_pixels)\n",
        "\n",
        "    unlabeled_mean = unlabeled_pixels.mean(axis=0)\n",
        "    unlabeled_std = unlabeled_pixels.std(axis=0)\n",
        "    labeled_mean = labeled_pixels.mean(axis=0)\n",
        "    labeled_std = labeled_pixels.std(axis=0)\n",
        "\n",
        "    return {\n",
        "        'unlabeled': {'mean': unlabeled_mean, 'std': unlabeled_std},\n",
        "        'labeled': {'mean': labeled_mean, 'std': labeled_std}\n",
        "    }\n"
      ]
    },
    {
      "cell_type": "code",
      "execution_count": null,
      "metadata": {
        "id": "pwmgQ8DwmLW4"
      },
      "outputs": [],
      "source": [
        "# Initial transform (always needed to convert to tensor)\n",
        "initial_transform = transforms.Compose([\n",
        "    transforms.ToTensor()\n",
        "])\n",
        "\n",
        "# # First, try with no normalization (original behavior):\n",
        "# unlabeled_dataset = UnlabeledDataset(UNLABELED_PATH,\n",
        "#                                     transform=initial_transform,\n",
        "#                                     normalization='none')\n",
        "# train_dataset = LabeledDataset(LABELED_BASE_PATH,\n",
        "#                               split='train',\n",
        "#                               transform=initial_transform,\n",
        "#                               normalization='none')\n",
        "\n",
        "# val_dataset = LabeledDataset(LABELED_BASE_PATH,\n",
        "#                             split='val',\n",
        "#                              transform=initial_transform,\n",
        "#                              normalization='none')\n",
        "\n",
        "# test_dataset = LabeledDataset(LABELED_BASE_PATH,\n",
        "#                             split='test',\n",
        "#                              transform=initial_transform,\n",
        "#                              normalization='none')\n",
        "\n",
        "# labeled_dataset = ConcatDataset([train_dataset, val_dataset, test_dataset])\n",
        "\n",
        "# OR, try global normalization:\n",
        "# unlabeled_dataset = UnlabeledDataset(UNLABELED_PATH,\n",
        "#                                     transform=initial_transform,\n",
        "#                                     normalization='global')\n",
        "# train_dataset = LabeledDataset(LABELED_BASE_PATH,\n",
        "#                               split='train',\n",
        "#                               transform=initial_transform,\n",
        "#                               normalization='global')\n",
        "\n",
        "# val_dataset = LabeledDataset(LABELED_BASE_PATH,\n",
        "#                             split='val',\n",
        "#                              transform=initial_transform,\n",
        "#                              normalization='global')\n",
        "\n",
        "# test_dataset = LabeledDataset(LABELED_BASE_PATH,\n",
        "#                             split='test',\n",
        "#                              transform=initial_transform,\n",
        "#                              normalization='global')\n",
        "\n",
        "# labeled_dataset = ConcatDataset([train_dataset, val_dataset, test_dataset])\n",
        "\n",
        "# # OR, try robust normalization:\n",
        "# unlabeled_dataset = UnlabeledDataset(UNLABELED_PATH,\n",
        "#                                     transform=initial_transform,\n",
        "#                                     normalization='robust')\n",
        "# train_dataset = LabeledDataset(LABELED_BASE_PATH,\n",
        "#                               split='train',\n",
        "#                               transform=initial_transform,\n",
        "#                               normalization='robust')\n",
        "\n",
        "# val_dataset = LabeledDataset(LABELED_BASE_PATH,\n",
        "#                             split='val',\n",
        "#                              transform=initial_transform,\n",
        "#                              normalization='robust')\n",
        "\n",
        "# test_dataset = LabeledDataset(LABELED_BASE_PATH,\n",
        "#                             split='test',\n",
        "#                              transform=initial_transform,\n",
        "#                              normalization='robust')\n",
        "\n",
        "# labeled_dataset = ConcatDataset([train_dataset, val_dataset, test_dataset])\n",
        "\n",
        "# OR, try filtering overexposed images + global normalization:\n",
        "unlabeled_dataset = UnlabeledDataset(UNLABELED_PATH,\n",
        "                                    #transform=initial_transform,\n",
        "                                    normalization='none',\n",
        "                                    filter_overexposed=False,\n",
        "                                    filter_underexposed=False)\n",
        "train_dataset = LabeledDataset(LABELED_BASE_PATH,\n",
        "                              split='train',\n",
        "                              transform=initial_transform,\n",
        "                              normalization='none')\n",
        "\n",
        "val_dataset = LabeledDataset(LABELED_BASE_PATH,\n",
        "                            split='val',\n",
        "                             transform=initial_transform,\n",
        "                             normalization='none')\n",
        "\n",
        "test_dataset = LabeledDataset(LABELED_BASE_PATH,\n",
        "                            split='test',\n",
        "                             transform=initial_transform,\n",
        "                             normalization='none')\n",
        "\n",
        "labeled_dataset = ConcatDataset([train_dataset, val_dataset, test_dataset])"
      ]
    },
    {
      "cell_type": "code",
      "execution_count": null,
      "metadata": {
        "id": "Ql49af4vwgdU"
      },
      "outputs": [],
      "source": [
        "import numpy as np\n",
        "import torch\n",
        "from sklearn.decomposition import IncrementalPCA # Import IncrementalPCA\n",
        "from sklearn.neighbors import KernelDensity\n",
        "from torch.utils.data import DataLoader, Subset\n",
        "from tqdm import tqdm\n",
        "import os\n",
        "import joblib\n",
        "from collections import Counter\n",
        "import matplotlib.pyplot as plt\n",
        "import random\n",
        "import gc\n",
        "\n",
        "def get_pixel_values_subset_memory_efficient(dataset, num_samples=1000, is_labeled=False, desc=\"Processing\", chunk_size=32):\n",
        "    \"\"\"Extract pixel values from a random subset of images in smaller chunks.\"\"\"\n",
        "    indices = random.sample(range(len(dataset)), min(num_samples, len(dataset)))\n",
        "    subset = Subset(dataset, indices)\n",
        "    subset_loader = DataLoader(subset, batch_size=chunk_size, shuffle=False)\n",
        "\n",
        "    all_pixels = []\n",
        "    for batch in tqdm(subset_loader, desc=desc):\n",
        "        if is_labeled:\n",
        "            images = batch[0]\n",
        "        else:\n",
        "            images = batch\n",
        "\n",
        "        with torch.no_grad():  # Reduce memory usage during computation\n",
        "            pixels = images.reshape(-1, images.size(1)).numpy()\n",
        "            all_pixels.append(pixels)\n",
        "\n",
        "        # Clear some memory\n",
        "        del images, pixels\n",
        "        gc.collect()\n",
        "        torch.cuda.empty_cache() if torch.cuda.is_available() else None\n",
        "\n",
        "    return np.concatenate(all_pixels, axis=0)\n",
        "\n",
        "def extract_and_save_pixels_in_chunks(dataset, output_filename, chunk_size=32, max_chunks=None):\n",
        "    \"\"\"Extract and save pixel values to disk in small chunks with memory cleanup.\"\"\"\n",
        "    dataloader = DataLoader(dataset, batch_size=chunk_size, shuffle=False)\n",
        "\n",
        "    # Open a memory-mapped file for incremental saving\n",
        "    sample_batch = next(iter(dataloader))\n",
        "    if isinstance(sample_batch, (list, tuple)):\n",
        "        sample_images = sample_batch[0]\n",
        "    else:\n",
        "        sample_images = sample_batch\n",
        "\n",
        "    # Calculate shape for memory mapping\n",
        "    total_samples = len(dataset)\n",
        "    pixels_per_image = int(np.prod(sample_images.shape[1:]))\n",
        "\n",
        "    # Create memory-mapped array\n",
        "    pixels_mmap = np.memmap(\n",
        "        f\"{output_filename}.mmap\",\n",
        "        dtype=np.float32,\n",
        "        mode='w+',\n",
        "        shape=(total_samples, pixels_per_image)\n",
        "    )\n",
        "\n",
        "    current_idx = 0\n",
        "    chunk_count = 0\n",
        "\n",
        "    for batch in tqdm(dataloader, desc=f\"Extracting pixels for {output_filename}\"):\n",
        "        if isinstance(batch, (list, tuple)):\n",
        "            images = batch[0]\n",
        "        else:\n",
        "            images = batch\n",
        "\n",
        "        with torch.no_grad():\n",
        "            batch_pixels = images.view(images.size(0), -1).numpy()\n",
        "            batch_size = batch_pixels.shape[0]\n",
        "            pixels_mmap[current_idx:current_idx + batch_size] = batch_pixels\n",
        "            current_idx += batch_size\n",
        "\n",
        "        # Clear memory\n",
        "        del images, batch_pixels\n",
        "        gc.collect()\n",
        "        torch.cuda.empty_cache() if torch.cuda.is_available() else None\n",
        "\n",
        "        chunk_count += 1\n",
        "        if max_chunks and chunk_count >= max_chunks:\n",
        "            break\n",
        "\n",
        "    # Flush changes to disk\n",
        "    pixels_mmap.flush()\n",
        "\n",
        "    # Save final array\n",
        "    final_array = np.memmap(\n",
        "        f\"{output_filename}.mmap\",\n",
        "        dtype=np.float32,\n",
        "        mode='r',\n",
        "        shape=(current_idx, pixels_per_image)\n",
        "    )\n",
        "\n",
        "    joblib.dump(final_array, output_filename)\n",
        "\n",
        "    # Clean up memory map file\n",
        "    del pixels_mmap, final_array\n",
        "    gc.collect()\n",
        "    os.remove(f\"{output_filename}.mmap\")\n",
        "\n",
        "def resample_distribution(unlabeled_dataset, labeled_dataset, num_samples,\n",
        "                        temp_dir='temp_distributions', batch_size=32,\n",
        "                        pca_components=10, kde_samples=1000, vis_samples=500, kde_bandwidth=0.01):\n",
        "    \"\"\"Memory-efficient version of resample_distribution with additional outputs.\"\"\"\n",
        "    os.makedirs(temp_dir, exist_ok=True)\n",
        "\n",
        "    print(\"\\n1. Initial Dataset Information:\")\n",
        "    print(f\"Original unlabeled dataset size: {len(unlabeled_dataset)}\")\n",
        "    print(f\"Original labeled dataset size: {len(labeled_dataset)}\")\n",
        "\n",
        "    # Plot original distributions with reduced sample size\n",
        "    print(\"\\n2. Plotting original pixel intensity distributions...\")\n",
        "    unlabeled_vis = get_pixel_values_subset_memory_efficient(unlabeled_dataset, vis_samples, False, \"Processing unlabeled data\", chunk_size=batch_size)\n",
        "    labeled_vis = get_pixel_values_subset_memory_efficient(labeled_dataset, vis_samples, True, \"Processing labeled data\", chunk_size=batch_size)\n",
        "\n",
        "    plot_efficient_distribution(unlabeled_vis, labeled_vis, title_suffix=\"(Original)\")\n",
        "    plt.close()  # Explicitly close plot to free memory\n",
        "\n",
        "    # Extract pixels in chunks\n",
        "    labeled_pixels_file = os.path.join(temp_dir, 'labeled_pixels.joblib')\n",
        "    unlabeled_pixels_file = os.path.join(temp_dir, 'unlabeled_pixels.joblib')\n",
        "\n",
        "    if not os.path.exists(labeled_pixels_file):\n",
        "        print(\"Extracting labeled pixels...\")\n",
        "        extract_and_save_pixels_in_chunks(labeled_dataset, labeled_pixels_file, chunk_size=batch_size)\n",
        "\n",
        "    if not os.path.exists(unlabeled_pixels_file):\n",
        "        print(\"Extracting unlabeled pixels...\")\n",
        "        extract_and_save_pixels_in_chunks(unlabeled_dataset, unlabeled_pixels_file, chunk_size=batch_size)\n",
        "\n",
        "    # Load data in chunks for PCA\n",
        "    print(\"\\n3. Dimensionality Information:\")\n",
        "    original_dimensionality = joblib.load(labeled_pixels_file).shape[1]\n",
        "    print(f\"Original feature dimensionality: {original_dimensionality}\")\n",
        "    print(f\"Reducing to {pca_components} components...\")\n",
        "\n",
        "    pca = IncrementalPCA(n_components=pca_components)  # Initialize IncrementalPCA\n",
        "\n",
        "    # Fit PCA in chunks with progress bar\n",
        "    print(\"Fitting PCA...\")\n",
        "    try:\n",
        "        for chunk_start in tqdm(range(0, len(labeled_dataset), batch_size), desc=\"Fitting PCA\"):\n",
        "            chunk_end = min(chunk_start + batch_size, len(labeled_dataset))\n",
        "            chunk_data = joblib.load(labeled_pixels_file)[chunk_start:chunk_end]\n",
        "            if chunk_start == 0:\n",
        "                pca.fit(chunk_data)\n",
        "            else:\n",
        "                pca.partial_fit(chunk_data)\n",
        "            del chunk_data\n",
        "            gc.collect()\n",
        "        print(f\"Explained variance ratio: {np.sum(pca.explained_variance_ratio_):.3f}\")\n",
        "    except Exception as e:\n",
        "        print(f\"Error during PCA fitting: {e}\")\n",
        "        return None\n",
        "\n",
        "    print(f\"Explained variance ratio: {np.sum(pca.explained_variance_ratio_):.3f}\")\n",
        "\n",
        "    # Transform data in chunks with progress bar\n",
        "    labeled_pca = np.memmap(\n",
        "        os.path.join(temp_dir, 'labeled_pca.mmap'),\n",
        "        dtype=np.float32,\n",
        "        mode='w+',\n",
        "        shape=(len(labeled_dataset), pca_components)\n",
        "    )\n",
        "\n",
        "    unlabeled_pca = np.memmap(\n",
        "        os.path.join(temp_dir, 'unlabeled_pca.mmap'),\n",
        "        dtype=np.float32,\n",
        "        mode='w+',\n",
        "        shape=(len(unlabeled_dataset), pca_components)\n",
        "    )\n",
        "\n",
        "    print(\"Transforming labeled data with PCA...\")\n",
        "    try:\n",
        "        for chunk_start in tqdm(range(0, len(labeled_dataset), batch_size), desc=\"Transforming Labeled Data\"):\n",
        "            chunk_end = min(chunk_start + batch_size, len(labeled_dataset))\n",
        "            chunk_data = joblib.load(labeled_pixels_file)[chunk_start:chunk_end]\n",
        "            labeled_pca[chunk_start:chunk_end] = pca.transform(chunk_data)\n",
        "            del chunk_data\n",
        "            gc.collect()\n",
        "        print(\"Labeled data transformation completed.\")\n",
        "    except Exception as e:\n",
        "        print(f\"Error during labeled data transformation: {e}\")\n",
        "        return None\n",
        "\n",
        "    print(\"Transforming unlabeled data with PCA...\")\n",
        "    try:\n",
        "        for chunk_start in tqdm(range(0, len(unlabeled_dataset), batch_size), desc=\"Transforming Unlabeled Data\"):\n",
        "            chunk_end = min(chunk_start + batch_size, len(unlabeled_dataset))\n",
        "            chunk_data = joblib.load(unlabeled_pixels_file)[chunk_start:chunk_end]\n",
        "            unlabeled_pca[chunk_start:chunk_end] = pca.transform(chunk_data)\n",
        "            del chunk_data\n",
        "            gc.collect()\n",
        "        print(\"Unlabeled data transformation completed.\")\n",
        "    except Exception as e:\n",
        "        print(f\"Error during unlabeled data transformation: {e}\")\n",
        "        return None\n",
        "\n",
        "    # Process KDE with reduced sample size\n",
        "    if kde_samples:\n",
        "        print(\"\\n4. Computing densities...\")\n",
        "        try:\n",
        "            labeled_indices = np.random.choice(len(labeled_dataset), kde_samples, replace=False)\n",
        "            unlabeled_indices = np.random.choice(len(unlabeled_dataset), kde_samples, replace=False)\n",
        "\n",
        "            kde_labeled = KernelDensity(kernel='gaussian')\n",
        "            kde_unlabeled = KernelDensity(kernel='gaussian')\n",
        "\n",
        "            kde_labeled.fit(labeled_pca[labeled_indices])\n",
        "            kde_unlabeled.fit(unlabeled_pca[unlabeled_indices])\n",
        "            print(\"KDE fitting completed.\")\n",
        "        except Exception as e:\n",
        "            print(f\"Error during KDE fitting: {e}\")\n",
        "            return None\n",
        "\n",
        "    # Compute weights in chunks\n",
        "    print(\"\\n5. Weight Statistics:\")\n",
        "    try:\n",
        "        weights = np.zeros(len(unlabeled_dataset))\n",
        "        for i in range(0, len(unlabeled_dataset), batch_size):\n",
        "            chunk = unlabeled_pca[i:i + batch_size]\n",
        "            labeled_density = np.exp(kde_labeled.score_samples(chunk))\n",
        "            unlabeled_density = np.exp(kde_unlabeled.score_samples(chunk))\n",
        "            weights[i:i + batch_size] = labeled_density / (unlabeled_density + 1e-8)\n",
        "            del chunk, labeled_density, unlabeled_density\n",
        "            gc.collect()\n",
        "\n",
        "        weights /= weights.sum()\n",
        "        print(f\"Min weight: {np.min(weights):.6f}\")\n",
        "        print(f\"Max weight: {np.max(weights):.6f}\")\n",
        "        print(f\"Mean weight: {np.mean(weights):.6f}\")\n",
        "    except Exception as e:\n",
        "        print(f\"Error during weight computation: {e}\")\n",
        "        return None\n",
        "\n",
        "    # Clean up memory maps\n",
        "    del labeled_pca, unlabeled_pca\n",
        "    os.remove(os.path.join(temp_dir, 'labeled_pca.mmap'))\n",
        "    os.remove(os.path.join(temp_dir, 'unlabeled_pca.mmap'))\n",
        "\n",
        "    # Resample indices\n",
        "    print(\"\\n6. Resampling dataset...\")\n",
        "    resampled_indices = np.random.choice(len(unlabeled_dataset),\n",
        "                                       size=num_samples,\n",
        "                                       p=weights)\n",
        "    resampled_subset = Subset(unlabeled_dataset, resampled_indices)\n",
        "\n",
        "    # Plot resampled distributions\n",
        "    print(\"\\n7. Plotting resampled pixel intensity distributions...\")\n",
        "    resampled_vis = get_pixel_values_subset_memory_efficient(resampled_subset, vis_samples, False, \"Processing resampled data\", chunk_size=batch_size)\n",
        "    plot_efficient_distribution(resampled_vis, labeled_vis, title_suffix=\"(Resampled)\")\n",
        "    plt.close()  # Explicitly close plot to free memory\n",
        "\n",
        "    # Final dataset information\n",
        "    print(\"\\n8. Final Dataset Information:\")\n",
        "    print(f\"Resampled dataset size: {len(resampled_subset)}\")\n",
        "\n",
        "    # TODO: let it return resampled indices too\n",
        "    return resampled_subset, resampled_indices"
      ]
    },
    {
      "cell_type": "code",
      "execution_count": null,
      "metadata": {
        "id": "0HP9cKamHGBD"
      },
      "outputs": [],
      "source": [
        "import optuna\n",
        "from functools import partial\n",
        "import numpy as np\n",
        "import torch\n",
        "from torch.utils.data import Subset\n",
        "import warnings\n",
        "import psutil\n",
        "import os\n",
        "warnings.filterwarnings('ignore', category=RuntimeWarning)\n",
        "\n",
        "def get_memory_usage():\n",
        "    \"\"\"Get current memory usage in GB\"\"\"\n",
        "    process = psutil.Process(os.getpid())\n",
        "    return process.memory_info().rss / 1024 / 1024 / 1024  # Convert to GB\n",
        "\n",
        "def check_memory(threshold_gb=0.8 * psutil.virtual_memory().total / 1024**3):\n",
        "    \"\"\"Check if memory usage is below threshold, returns True if safe\"\"\"\n",
        "    current_gb = get_memory_usage()\n",
        "    return current_gb < threshold_gb\n",
        "\n",
        "def compute_kl_divergence(p, q, bins=50):\n",
        "    \"\"\"Compute KL divergence between two sets of samples.\"\"\"\n",
        "    # Compute histograms\n",
        "    p_hist, _ = np.histogram(p, bins=bins, density=True)\n",
        "    q_hist, _ = np.histogram(q, bins=bins, density=True)\n",
        "\n",
        "    # Add small constant to avoid division by zero\n",
        "    p_hist = p_hist + 1e-10\n",
        "    q_hist = q_hist + 1e-10\n",
        "\n",
        "    # Normalize\n",
        "    p_hist = p_hist / p_hist.sum()\n",
        "    q_hist = q_hist / q_hist.sum()\n",
        "\n",
        "    # Compute KL divergence\n",
        "    return np.sum(p_hist * np.log(p_hist / q_hist))\n",
        "\n",
        "def compute_js_divergence(p, q, bins=50):\n",
        "    \"\"\"Compute Jensen-Shannon divergence between two sets of samples.\"\"\"\n",
        "    # Compute histograms\n",
        "    p_hist, _ = np.histogram(p, bins=bins, density=True)\n",
        "    q_hist, _ = np.histogram(q, bins=bins, density=True)\n",
        "\n",
        "    # Add small constant to avoid division by zero\n",
        "    p_hist = p_hist + 1e-10\n",
        "    q_hist = q_hist + 1e-10\n",
        "\n",
        "    # Normalize\n",
        "    p_hist = p_hist / p_hist.sum()\n",
        "    q_hist = q_hist / q_hist.sum()\n",
        "\n",
        "    # Compute midpoint distribution\n",
        "    m_hist = 0.5 * (p_hist + q_hist)\n",
        "\n",
        "    # Compute JS divergence\n",
        "    return 0.5 * (np.sum(p_hist * np.log(p_hist / m_hist)) +\n",
        "                 np.sum(q_hist * np.log(q_hist / m_hist)))\n",
        "\n",
        "def get_initial_pca_dims(labeled_dataset, batch_size):\n",
        "    \"\"\"Get the initial dimensionality from a single image.\"\"\"\n",
        "    first_batch = next(iter(torch.utils.data.DataLoader(\n",
        "        Subset(labeled_dataset, [0]),  # Only look at first image\n",
        "        batch_size=1,\n",
        "        shuffle=False\n",
        "    )))\n",
        "    if isinstance(first_batch, (list, tuple)):\n",
        "        images = first_batch[0]\n",
        "    else:\n",
        "        images = first_batch\n",
        "    return int(np.prod(images.shape[1:]))\n",
        "\n",
        "def objective(trial, unlabeled_dataset, labeled_dataset, base_num_samples,\n",
        "              temp_dir='temp_distributions', eval_samples=500):  # Reduced eval samples\n",
        "    \"\"\"\n",
        "    Memory-efficient objective function for optimization.\n",
        "    \"\"\"\n",
        "    # Check memory before starting\n",
        "    if not check_memory():\n",
        "        print(\"Warning: High memory usage detected. Skipping trial.\")\n",
        "        return float('inf')\n",
        "\n",
        "    # Use smaller batch sizes\n",
        "    batch_size = trial.suggest_categorical('batch_size', [8, 16])\n",
        "\n",
        "    # Get initial dimensionality from a single image\n",
        "    try:\n",
        "        initial_dims = get_initial_pca_dims(labeled_dataset, batch_size)\n",
        "    except Exception as e:\n",
        "        print(f\"Error getting initial dimensions: {e}\")\n",
        "        return float('inf')\n",
        "\n",
        "    # More conservative parameter ranges\n",
        "    max_pca = min(30, initial_dims, trial.suggest_int('max_pca', 5, 30))\n",
        "    params = {\n",
        "        'pca_components': trial.suggest_int('pca_components', 5, max_pca),\n",
        "        'kde_samples': trial.suggest_int('kde_samples', 200, 1000),  # Reduced range\n",
        "        'kde_bandwidth': trial.suggest_float('kde_bandwidth', 0.001, 0.1, log=True),\n",
        "        'batch_size': batch_size\n",
        "    }\n",
        "\n",
        "    print(f\"\\nTrial parameters:\")\n",
        "    for key, value in params.items():\n",
        "        print(f\"{key}: {value}\")\n",
        "    print(f\"Current memory usage: {get_memory_usage():.2f} GB\")\n",
        "\n",
        "    try:\n",
        "        # Run resampling with memory checks\n",
        "        resampled_subset, indices = resample_distribution(\n",
        "            unlabeled_dataset=unlabeled_dataset,\n",
        "            labeled_dataset=labeled_dataset,\n",
        "            num_samples=min(base_num_samples, 1000),  # Limit sample size\n",
        "            temp_dir=temp_dir,\n",
        "            **params\n",
        "        )\n",
        "\n",
        "        if not check_memory():\n",
        "            print(\"Warning: High memory usage after resampling. Aborting trial.\")\n",
        "            return float('inf')\n",
        "\n",
        "        if resampled_subset is None:\n",
        "            return float('inf')\n",
        "\n",
        "        # Use smaller evaluation samples\n",
        "        eval_size = min(eval_samples, 500)\n",
        "        labeled_eval = get_pixel_values_subset_memory_efficient(\n",
        "            labeled_dataset,\n",
        "            eval_size,\n",
        "            is_labeled=True,\n",
        "            desc=\"Evaluating labeled data\",\n",
        "            chunk_size=params['batch_size']\n",
        "        )\n",
        "\n",
        "        resampled_eval = get_pixel_values_subset_memory_efficient(\n",
        "            resampled_subset,\n",
        "            eval_size,\n",
        "            is_labeled=False,\n",
        "            desc=\"Evaluating resampled data\",\n",
        "            chunk_size=params['batch_size']\n",
        "        )\n",
        "\n",
        "        # Calculate metrics\n",
        "        kl_div = compute_kl_divergence(labeled_eval, resampled_eval)\n",
        "        js_div = compute_js_divergence(labeled_eval, resampled_eval)\n",
        "        score = kl_div + js_div\n",
        "\n",
        "        print(f\"Trial score: {score:.6f}\")\n",
        "        print(f\"KL divergence: {kl_div:.6f}\")\n",
        "        print(f\"JS divergence: {js_div:.6f}\")\n",
        "        print(f\"Final memory usage: {get_memory_usage():.2f} GB\")\n",
        "\n",
        "        return score\n",
        "\n",
        "    except Exception as e:\n",
        "        print(f\"Error in trial: {str(e)}\")\n",
        "        return float('inf')\n",
        "\n",
        "def optimize_resampling(unlabeled_dataset, labeled_dataset, base_num_samples,\n",
        "                       n_trials=20, temp_dir='temp_distributions'):  # Reduced trials\n",
        "    \"\"\"\n",
        "    Memory-efficient optimization with early stopping.\n",
        "    \"\"\"\n",
        "    def memory_callback(study, trial):\n",
        "        if not check_memory():\n",
        "            study.stop()\n",
        "\n",
        "    study = optuna.create_study(\n",
        "        direction='minimize',\n",
        "        sampler=optuna.samplers.TPESampler(seed=42)\n",
        "    )\n",
        "\n",
        "    objective_func = partial(\n",
        "        objective,\n",
        "        unlabeled_dataset=unlabeled_dataset,\n",
        "        labeled_dataset=labeled_dataset,\n",
        "        base_num_samples=base_num_samples,\n",
        "        temp_dir=temp_dir\n",
        "    )\n",
        "\n",
        "    # Run optimization with memory monitoring\n",
        "    print(f\"Starting optimization with {n_trials} trials\")\n",
        "    print(f\"Initial memory usage: {get_memory_usage():.2f} GB\")\n",
        "\n",
        "    try:\n",
        "        study.optimize(objective_func, n_trials=n_trials, callbacks=[memory_callback])\n",
        "    except Exception as e:\n",
        "        print(f\"Optimization stopped: {e}\")\n",
        "\n",
        "    print(\"\\nOptimization Results:\")\n",
        "    if study.best_trial.value == float('inf'):\n",
        "        print(\"No successful trials - using conservative default parameters\")\n",
        "        best_params = {\n",
        "            'pca_components': 5,\n",
        "            'kde_samples': 200,\n",
        "            'kde_bandwidth': 0.01,\n",
        "            'batch_size': 8\n",
        "        }\n",
        "    else:\n",
        "        print(f\"Best trial value: {study.best_trial.value}\")\n",
        "        best_params = study.best_trial.params\n",
        "\n",
        "    print(\"Best parameters:\")\n",
        "    for key, value in best_params.items():\n",
        "        print(f\"  {key}: {value}\")\n",
        "\n",
        "    # Final resampling with best parameters\n",
        "    best_resampled_subset, best_indices = resample_distribution(\n",
        "        unlabeled_dataset=unlabeled_dataset,\n",
        "        labeled_dataset=labeled_dataset,\n",
        "        num_samples=min(base_num_samples, 1000),  # Limit final sample size\n",
        "        temp_dir=temp_dir,\n",
        "        **best_params\n",
        "    )\n",
        "\n",
        "    return best_resampled_subset, best_indices, best_params"
      ]
    },
    {
      "cell_type": "code",
      "execution_count": null,
      "metadata": {
        "id": "4D7vhWdw7O5v"
      },
      "outputs": [],
      "source": [
        "# resampled_subset = resample_distribution(\n",
        "#     unlabeled_dataset,\n",
        "#     labeled_dataset,\n",
        "#     num_samples=3000,\n",
        "#     batch_size=128,          # Keep this since it works\n",
        "#     pca_components=50,      # Reduced from 50 but still captures key features\n",
        "#     kde_samples=5000,       # Middle ground between your 1000 and 5000 tests\n",
        "#     kde_bandwidth=0.7,     # Slightly reduced to check feature definition\n",
        "#     vis_samples=500         # This is fine for visualization\n",
        "# )"
      ]
    },
    {
      "cell_type": "markdown",
      "metadata": {
        "id": "CBPDWSowVA4N"
      },
      "source": [
        "Save and load resampled indices rather than resampled dataset because it is way more efficient and we can get the resampled dataset from it without further processing"
      ]
    },
    {
      "cell_type": "code",
      "execution_count": null,
      "metadata": {
        "id": "u9IomYTPVAJw"
      },
      "outputs": [],
      "source": [
        "# temp_dir = 'temp_distributions'  # Define temp_dir\n",
        "# os.makedirs(temp_dir, exist_ok=True)  # Create the directory if it doesn't exist\n",
        "\n",
        "# resampled_subset_file = os.path.join(temp_dir, 'resampled_subset.joblib')\n",
        "# joblib.dump(resampled_subset, resampled_subset_file)\n",
        "# print(f\"Resampled subset saved to {resampled_subset_file}\")\n"
      ]
    },
    {
      "cell_type": "code",
      "execution_count": null,
      "metadata": {
        "id": "QmSJoC3qXrki",
        "colab": {
          "base_uri": "https://localhost:8080/"
        },
        "outputId": "42ab6a8c-aacc-4567-b8ec-b0f8be37e6fd"
      },
      "outputs": [
        {
          "output_type": "stream",
          "name": "stdout",
          "text": [
            "File '/content/drive/MyDrive/data/resampled_subset.joblib' copied to '/content/temp_distributions' successfully.\n"
          ]
        }
      ],
      "source": [
        "# prompt: create /temp_distributions directory\n",
        "# look for resampled_subset.joblib in /content/drive/MyDrive/data\n",
        "# copy it in temp_distributions folder\n",
        "\n",
        "import os\n",
        "import shutil\n",
        "\n",
        "# Create the temporary directory\n",
        "!mkdir /content/temp_distributions\n",
        "\n",
        "# Source and destination paths\n",
        "source_path = '/content/drive/MyDrive/data/resampled_subset.joblib'\n",
        "destination_path = '/content/temp_distributions'\n",
        "\n",
        "# Check if the source file exists\n",
        "if os.path.exists(source_path):\n",
        "    # Copy the file\n",
        "    shutil.copy2(source_path, destination_path)\n",
        "    print(f\"File '{source_path}' copied to '{destination_path}' successfully.\")\n",
        "else:\n",
        "    print(f\"Source file '{source_path}' not found.\")\n"
      ]
    },
    {
      "cell_type": "code",
      "execution_count": null,
      "metadata": {
        "id": "kTBtF7aUVbd6",
        "colab": {
          "base_uri": "https://localhost:8080/"
        },
        "outputId": "bd7d7448-d9b0-4065-fffa-0d0d94a606e6"
      },
      "outputs": [
        {
          "output_type": "stream",
          "name": "stdout",
          "text": [
            "Resampled subset loaded from temp_distributions/resampled_subset.joblib\n"
          ]
        }
      ],
      "source": [
        "# Load the resampled subset\n",
        "temp_dir = 'temp_distributions'  # Define temp_dir\n",
        "resampled_subset_file = os.path.join(temp_dir, 'resampled_subset.joblib')\n",
        "resampled_subset = joblib.load(resampled_subset_file)\n",
        "print(f\"Resampled subset loaded from {resampled_subset_file}\")\n"
      ]
    },
    {
      "cell_type": "code",
      "execution_count": null,
      "metadata": {
        "id": "eb6q2SiXL_IX"
      },
      "outputs": [],
      "source": [
        "from torch.utils.data import Dataset\n",
        "import torch\n",
        "import joblib\n",
        "from torch.utils.data import Subset\n",
        "\n",
        "class ResampledDataset(Dataset):\n",
        "    \"\"\"Custom Dataset for loading unlabeled resampled data from joblib file\"\"\"\n",
        "    def __init__(self, joblib_path, transform=None, dummy_label=-1):\n",
        "        \"\"\"\n",
        "        Args:\n",
        "            joblib_path (str): Path to the .joblib file containing resampled data\n",
        "            transform (callable, optional): Optional transform to be applied to samples\n",
        "            dummy_label (int, optional): Label to use for unlabeled data, defaults to -1\n",
        "        \"\"\"\n",
        "        loaded_data = joblib.load(joblib_path)\n",
        "\n",
        "        # If tuple, take just the subset, otherwise use the data directly\n",
        "        self.subset = loaded_data[0] if isinstance(loaded_data, tuple) else loaded_data\n",
        "\n",
        "        self.transform = transform\n",
        "        self.dummy_label = dummy_label\n",
        "\n",
        "        # Print debug info\n",
        "        print(f\"Dataset size: {len(self.subset)}\")\n",
        "\n",
        "    def __len__(self):\n",
        "        return len(self.subset)\n",
        "\n",
        "    def __getitem__(self, idx):\n",
        "        # Get the sample from the subset\n",
        "        sample = self.subset[idx]\n",
        "\n",
        "        # If the subset returns a tuple (data, label), take only the data\n",
        "        if isinstance(sample, tuple):\n",
        "            sample = sample[0]\n",
        "\n",
        "        # Apply transform if provided\n",
        "        if self.transform:\n",
        "            sample = self.transform(sample)\n",
        "\n",
        "        return sample, self.dummy_label"
      ]
    },
    {
      "cell_type": "code",
      "execution_count": null,
      "metadata": {
        "id": "hTf1mHTRMC6G"
      },
      "outputs": [],
      "source": [
        "import torch\n",
        "from torch.utils.data import Dataset, DataLoader\n",
        "import numpy as np\n",
        "\n",
        "def validate_dataset(dataset, batch_size=4, expected_shape=None):\n",
        "    \"\"\"\n",
        "    Comprehensive dataset validation utility.\n",
        "\n",
        "    Args:\n",
        "        dataset: PyTorch Dataset object to validate\n",
        "        batch_size: Batch size to test with\n",
        "        expected_shape: Expected shape of individual samples (optional)\n",
        "\n",
        "    Returns:\n",
        "        dict: Validation results and statistics\n",
        "    \"\"\"\n",
        "    results = {\n",
        "        'is_valid': True,\n",
        "        'errors': [],\n",
        "        'warnings': [],\n",
        "        'stats': {}\n",
        "    }\n",
        "\n",
        "    # Basic dataset checks\n",
        "    try:\n",
        "        length = len(dataset)\n",
        "        results['stats']['dataset_size'] = length\n",
        "        if length == 0:\n",
        "            results['is_valid'] = False\n",
        "            results['errors'].append(\"Dataset is empty\")\n",
        "            return results\n",
        "    except Exception as e:\n",
        "        results['is_valid'] = False\n",
        "        results['errors'].append(f\"Dataset length check failed: {str(e)}\")\n",
        "        return results\n",
        "\n",
        "    # Sample access check\n",
        "    try:\n",
        "        first_item = dataset[0]\n",
        "        if not isinstance(first_item, (tuple, torch.Tensor)):\n",
        "            results['warnings'].append(f\"Unexpected item type: {type(first_item)}\")\n",
        "    except Exception as e:\n",
        "        results['is_valid'] = False\n",
        "        results['errors'].append(f\"Cannot access first item: {str(e)}\")\n",
        "        return results\n",
        "\n",
        "    # Data type and shape consistency check\n",
        "    shapes = []\n",
        "    types = []\n",
        "    try:\n",
        "        dataloader = DataLoader(dataset, batch_size=batch_size, shuffle=False)\n",
        "        for batch_idx, batch in enumerate(dataloader):\n",
        "            if batch_idx >= 3:  # Check first 3 batches\n",
        "                break\n",
        "\n",
        "            if isinstance(batch, (list, tuple)):\n",
        "                batch_data = batch[0]\n",
        "            else:\n",
        "                batch_data = batch\n",
        "\n",
        "            if isinstance(batch_data, list):\n",
        "                results['warnings'].append(\"Batch returned as list - may need custom collate_fn\")\n",
        "                continue\n",
        "\n",
        "            shapes.append(batch_data.shape)\n",
        "            types.append(batch_data.dtype)\n",
        "\n",
        "            # Basic tensor checks\n",
        "            if torch.isnan(batch_data).any():\n",
        "                results['warnings'].append(f\"NaN values detected in batch {batch_idx}\")\n",
        "            if torch.isinf(batch_data).any():\n",
        "                results['warnings'].append(f\"Infinite values detected in batch {batch_idx}\")\n",
        "\n",
        "    except Exception as e:\n",
        "        results['is_valid'] = False\n",
        "        results['errors'].append(f\"Batch iteration failed: {str(e)}\")\n",
        "        return results\n",
        "\n",
        "    # Shape consistency\n",
        "    if len(set(str(s) for s in shapes)) > 1:\n",
        "        results['is_valid'] = False\n",
        "        results['errors'].append(f\"Inconsistent shapes across batches: {shapes}\")\n",
        "    else:\n",
        "        results['stats']['batch_shape'] = shapes[0] if shapes else None\n",
        "\n",
        "    # Type consistency\n",
        "    if len(set(types)) > 1:\n",
        "        results['warnings'].append(f\"Mixed datatypes across batches: {types}\")\n",
        "    else:\n",
        "        results['stats']['data_type'] = types[0] if types else None\n",
        "\n",
        "    # Shape validation\n",
        "    if expected_shape and shapes:\n",
        "        if shapes[0][1:] != expected_shape:\n",
        "            results['warnings'].append(\n",
        "                f\"Unexpected shape: got {shapes[0][1:]}, expected {expected_shape}\")\n",
        "\n",
        "    return results\n",
        "\n",
        "def print_validation_results(results):\n",
        "    \"\"\"Pretty print the validation results\"\"\"\n",
        "    print(\"\\n=== Dataset Validation Results ===\")\n",
        "    print(f\"Valid: {results['is_valid']}\")\n",
        "\n",
        "    if results['errors']:\n",
        "        print(\"\\nErrors:\")\n",
        "        for error in results['errors']:\n",
        "            print(f\"❌ {error}\")\n",
        "\n",
        "    if results['warnings']:\n",
        "        print(\"\\nWarnings:\")\n",
        "        for warning in results['warnings']:\n",
        "            print(f\"⚠️ {warning}\")\n",
        "\n",
        "    if results['stats']:\n",
        "        print(\"\\nStats:\")\n",
        "        for key, value in results['stats'].items():\n",
        "            print(f\"📊 {key}: {value}\")"
      ]
    },
    {
      "cell_type": "code",
      "execution_count": null,
      "metadata": {
        "id": "dThjVyTFt9Wc",
        "colab": {
          "base_uri": "https://localhost:8080/"
        },
        "outputId": "489fd123-a34b-44ed-df04-b27a12108ca7"
      },
      "outputs": [
        {
          "output_type": "stream",
          "name": "stdout",
          "text": [
            "\n",
            "=== Dataset Validation Results ===\n",
            "Valid: True\n",
            "\n",
            "Stats:\n",
            "📊 dataset_size: 867\n",
            "📊 batch_shape: torch.Size([64, 3, 200, 200])\n",
            "📊 data_type: torch.float32\n"
          ]
        }
      ],
      "source": [
        "class ResampledDataset(Dataset):\n",
        "    def __init__(self, joblib_path, transform=None, dummy_label=-1):\n",
        "        loaded_data = joblib.load(joblib_path)\n",
        "        self.subset = loaded_data[0] if isinstance(loaded_data, tuple) else loaded_data\n",
        "        self.transform = transform\n",
        "        self.dummy_label = dummy_label\n",
        "\n",
        "    def __getitem__(self, idx):\n",
        "        sample = self.subset[idx]\n",
        "        # Ensure sample is a tensor\n",
        "        if not isinstance(sample, torch.Tensor):\n",
        "            sample = torch.tensor(sample, dtype=torch.float32)\n",
        "        if self.transform:\n",
        "            sample = self.transform(sample)\n",
        "        return sample, self.dummy_label\n",
        "\n",
        "    def __len__(self):\n",
        "        return len(self.subset)\n",
        "\n",
        "# Create your dataset\n",
        "resampled_dataset = ResampledDataset(resampled_subset_file)\n",
        "\n",
        "# Validate it\n",
        "validation_results = validate_dataset(\n",
        "    test_dataset,\n",
        "    batch_size=64,\n",
        "    expected_shape=None  # Add your expected shape here, e.g. (3, 224, 224)\n",
        ")\n",
        "\n",
        "# Print results\n",
        "print_validation_results(validation_results)"
      ]
    },
    {
      "cell_type": "markdown",
      "metadata": {
        "id": "3VGSC2hsHV8X"
      },
      "source": [
        "### analyzing datasets"
      ]
    },
    {
      "cell_type": "markdown",
      "metadata": {
        "id": "E_pK06KEHZSi"
      },
      "source": [
        "### Create Dataloaders"
      ]
    },
    {
      "cell_type": "code",
      "execution_count": null,
      "metadata": {
        "id": "W4mkeikd9wxd"
      },
      "outputs": [],
      "source": [
        "from torch.utils.data import DataLoader\n",
        "\n",
        "# Create data loaders\n",
        "batch_size = 32  # Adjust as needed\n",
        "unlabeled_loader = DataLoader(resampled_dataset,\n",
        "                             batch_size=batch_size,\n",
        "                             shuffle=True,\n",
        "                             num_workers=2)  # Remove collate_fn\n",
        "train_loader = DataLoader(train_dataset,\n",
        "                         batch_size=batch_size,\n",
        "                         shuffle=True,\n",
        "                         num_workers=2)\n",
        "val_loader = DataLoader(val_dataset,\n",
        "                       batch_size=batch_size,\n",
        "                       shuffle=False,\n",
        "                       num_workers=2)\n",
        "test_loader = DataLoader(test_dataset,\n",
        "                        batch_size=batch_size,\n",
        "                        shuffle=False,\n",
        "                        num_workers=2)"
      ]
    },
    {
      "cell_type": "markdown",
      "metadata": {
        "id": "Vxvexsd08CZh"
      },
      "source": [
        "# ARCHITECTURE"
      ]
    },
    {
      "cell_type": "code",
      "execution_count": null,
      "metadata": {
        "id": "lwzeYUC3twh4"
      },
      "outputs": [],
      "source": [
        "device = torch.device(\"cuda\" if torch.cuda.is_available() else \"cpu\")"
      ]
    },
    {
      "cell_type": "code",
      "execution_count": null,
      "metadata": {
        "id": "r7eXXMx4viTd",
        "colab": {
          "base_uri": "https://localhost:8080/"
        },
        "outputId": "b33d2420-5d8e-428d-d33c-5265ba863150"
      },
      "outputs": [
        {
          "output_type": "stream",
          "name": "stderr",
          "text": [
            "/usr/local/lib/python3.11/dist-packages/torchvision/models/_utils.py:208: UserWarning: The parameter 'pretrained' is deprecated since 0.13 and may be removed in the future, please use 'weights' instead.\n",
            "  warnings.warn(\n",
            "/usr/local/lib/python3.11/dist-packages/torchvision/models/_utils.py:223: UserWarning: Arguments other than a weight enum or `None` for 'weights' are deprecated since 0.13 and may be removed in the future. The current behavior is equivalent to passing `weights=None`.\n",
            "  warnings.warn(msg)\n",
            "Epoch 1/100: 100%|██████████| 197/197 [45:18<00:00, 13.80s/it]"
          ]
        },
        {
          "output_type": "stream",
          "name": "stdout",
          "text": [
            "Epoch 1/100, Train Loss: 0.0894\n"
          ]
        },
        {
          "output_type": "stream",
          "name": "stderr",
          "text": [
            "\n"
          ]
        },
        {
          "output_type": "stream",
          "name": "stdout",
          "text": [
            "Epoch 1/100, Val Loss: 0.0733\n"
          ]
        },
        {
          "output_type": "stream",
          "name": "stderr",
          "text": [
            "Epoch 2/100: 100%|██████████| 197/197 [05:06<00:00,  1.55s/it]"
          ]
        },
        {
          "output_type": "stream",
          "name": "stdout",
          "text": [
            "Epoch 2/100, Train Loss: 0.0652\n"
          ]
        },
        {
          "output_type": "stream",
          "name": "stderr",
          "text": [
            "\n"
          ]
        },
        {
          "output_type": "stream",
          "name": "stdout",
          "text": [
            "Epoch 2/100, Val Loss: 0.0623\n"
          ]
        },
        {
          "output_type": "stream",
          "name": "stderr",
          "text": [
            "Epoch 3/100: 100%|██████████| 197/197 [05:06<00:00,  1.55s/it]"
          ]
        },
        {
          "output_type": "stream",
          "name": "stdout",
          "text": [
            "Epoch 3/100, Train Loss: 0.0550\n"
          ]
        },
        {
          "output_type": "stream",
          "name": "stderr",
          "text": [
            "\n"
          ]
        },
        {
          "output_type": "stream",
          "name": "stdout",
          "text": [
            "Epoch 3/100, Val Loss: 0.0519\n"
          ]
        },
        {
          "output_type": "stream",
          "name": "stderr",
          "text": [
            "Epoch 4/100: 100%|██████████| 197/197 [05:06<00:00,  1.55s/it]"
          ]
        },
        {
          "output_type": "stream",
          "name": "stdout",
          "text": [
            "Epoch 4/100, Train Loss: 0.0495\n"
          ]
        },
        {
          "output_type": "stream",
          "name": "stderr",
          "text": [
            "\n"
          ]
        },
        {
          "output_type": "stream",
          "name": "stdout",
          "text": [
            "Epoch 4/100, Val Loss: 0.0475\n"
          ]
        },
        {
          "output_type": "stream",
          "name": "stderr",
          "text": [
            "Epoch 5/100: 100%|██████████| 197/197 [05:05<00:00,  1.55s/it]"
          ]
        },
        {
          "output_type": "stream",
          "name": "stdout",
          "text": [
            "Epoch 5/100, Train Loss: 0.0456\n"
          ]
        },
        {
          "output_type": "stream",
          "name": "stderr",
          "text": [
            "\n"
          ]
        },
        {
          "output_type": "stream",
          "name": "stdout",
          "text": [
            "Epoch 5/100, Val Loss: 0.0421\n"
          ]
        },
        {
          "output_type": "stream",
          "name": "stderr",
          "text": [
            "Epoch 6/100: 100%|██████████| 197/197 [05:05<00:00,  1.55s/it]"
          ]
        },
        {
          "output_type": "stream",
          "name": "stdout",
          "text": [
            "Epoch 6/100, Train Loss: 0.0422\n"
          ]
        },
        {
          "output_type": "stream",
          "name": "stderr",
          "text": [
            "\n"
          ]
        },
        {
          "output_type": "stream",
          "name": "stdout",
          "text": [
            "Epoch 6/100, Val Loss: 0.0413\n"
          ]
        },
        {
          "output_type": "stream",
          "name": "stderr",
          "text": [
            "Epoch 7/100: 100%|██████████| 197/197 [05:05<00:00,  1.55s/it]"
          ]
        },
        {
          "output_type": "stream",
          "name": "stdout",
          "text": [
            "Epoch 7/100, Train Loss: 0.0407\n"
          ]
        },
        {
          "output_type": "stream",
          "name": "stderr",
          "text": [
            "\n"
          ]
        },
        {
          "output_type": "stream",
          "name": "stdout",
          "text": [
            "Epoch 7/100, Val Loss: 0.0373\n"
          ]
        },
        {
          "output_type": "stream",
          "name": "stderr",
          "text": [
            "Epoch 8/100: 100%|██████████| 197/197 [05:03<00:00,  1.54s/it]"
          ]
        },
        {
          "output_type": "stream",
          "name": "stdout",
          "text": [
            "Epoch 8/100, Train Loss: 0.0387\n"
          ]
        },
        {
          "output_type": "stream",
          "name": "stderr",
          "text": [
            "\n"
          ]
        },
        {
          "output_type": "stream",
          "name": "stdout",
          "text": [
            "Epoch 8/100, Val Loss: 0.0411\n"
          ]
        },
        {
          "output_type": "stream",
          "name": "stderr",
          "text": [
            "Epoch 9/100: 100%|██████████| 197/197 [05:01<00:00,  1.53s/it]"
          ]
        },
        {
          "output_type": "stream",
          "name": "stdout",
          "text": [
            "Epoch 9/100, Train Loss: 0.0367\n"
          ]
        },
        {
          "output_type": "stream",
          "name": "stderr",
          "text": [
            "\n"
          ]
        },
        {
          "output_type": "stream",
          "name": "stdout",
          "text": [
            "Epoch 9/100, Val Loss: 0.0388\n"
          ]
        },
        {
          "output_type": "stream",
          "name": "stderr",
          "text": [
            "Epoch 10/100: 100%|██████████| 197/197 [05:03<00:00,  1.54s/it]"
          ]
        },
        {
          "output_type": "stream",
          "name": "stdout",
          "text": [
            "Epoch 10/100, Train Loss: 0.0358\n"
          ]
        },
        {
          "output_type": "stream",
          "name": "stderr",
          "text": [
            "\n"
          ]
        },
        {
          "output_type": "stream",
          "name": "stdout",
          "text": [
            "Epoch 10/100, Val Loss: 0.0345\n"
          ]
        },
        {
          "output_type": "stream",
          "name": "stderr",
          "text": [
            "Epoch 11/100: 100%|██████████| 197/197 [05:01<00:00,  1.53s/it]"
          ]
        },
        {
          "output_type": "stream",
          "name": "stdout",
          "text": [
            "Epoch 11/100, Train Loss: 0.0350\n"
          ]
        },
        {
          "output_type": "stream",
          "name": "stderr",
          "text": [
            "\n"
          ]
        },
        {
          "output_type": "stream",
          "name": "stdout",
          "text": [
            "Epoch 11/100, Val Loss: 0.0321\n"
          ]
        },
        {
          "output_type": "stream",
          "name": "stderr",
          "text": [
            "Epoch 12/100: 100%|██████████| 197/197 [05:01<00:00,  1.53s/it]"
          ]
        },
        {
          "output_type": "stream",
          "name": "stdout",
          "text": [
            "Epoch 12/100, Train Loss: 0.0338\n"
          ]
        },
        {
          "output_type": "stream",
          "name": "stderr",
          "text": [
            "\n"
          ]
        },
        {
          "output_type": "stream",
          "name": "stdout",
          "text": [
            "Epoch 12/100, Val Loss: 0.0354\n"
          ]
        },
        {
          "output_type": "stream",
          "name": "stderr",
          "text": [
            "Epoch 13/100: 100%|██████████| 197/197 [05:04<00:00,  1.54s/it]"
          ]
        },
        {
          "output_type": "stream",
          "name": "stdout",
          "text": [
            "Epoch 13/100, Train Loss: 0.0332\n"
          ]
        },
        {
          "output_type": "stream",
          "name": "stderr",
          "text": [
            "\n"
          ]
        },
        {
          "output_type": "stream",
          "name": "stdout",
          "text": [
            "Epoch 13/100, Val Loss: 0.0306\n"
          ]
        },
        {
          "output_type": "stream",
          "name": "stderr",
          "text": [
            "Epoch 14/100: 100%|██████████| 197/197 [05:03<00:00,  1.54s/it]"
          ]
        },
        {
          "output_type": "stream",
          "name": "stdout",
          "text": [
            "Epoch 14/100, Train Loss: 0.0321\n"
          ]
        },
        {
          "output_type": "stream",
          "name": "stderr",
          "text": [
            "\n"
          ]
        },
        {
          "output_type": "stream",
          "name": "stdout",
          "text": [
            "Epoch 14/100, Val Loss: 0.0353\n"
          ]
        },
        {
          "output_type": "stream",
          "name": "stderr",
          "text": [
            "Epoch 15/100: 100%|██████████| 197/197 [05:02<00:00,  1.54s/it]"
          ]
        },
        {
          "output_type": "stream",
          "name": "stdout",
          "text": [
            "Epoch 15/100, Train Loss: 0.0315\n"
          ]
        },
        {
          "output_type": "stream",
          "name": "stderr",
          "text": [
            "\n"
          ]
        },
        {
          "output_type": "stream",
          "name": "stdout",
          "text": [
            "Epoch 15/100, Val Loss: 0.0296\n"
          ]
        },
        {
          "output_type": "stream",
          "name": "stderr",
          "text": [
            "Epoch 16/100: 100%|██████████| 197/197 [05:05<00:00,  1.55s/it]"
          ]
        },
        {
          "output_type": "stream",
          "name": "stdout",
          "text": [
            "Epoch 16/100, Train Loss: 0.0314\n"
          ]
        },
        {
          "output_type": "stream",
          "name": "stderr",
          "text": [
            "\n"
          ]
        },
        {
          "output_type": "stream",
          "name": "stdout",
          "text": [
            "Epoch 16/100, Val Loss: 0.0286\n"
          ]
        },
        {
          "output_type": "stream",
          "name": "stderr",
          "text": [
            "Epoch 17/100: 100%|██████████| 197/197 [05:02<00:00,  1.54s/it]"
          ]
        },
        {
          "output_type": "stream",
          "name": "stdout",
          "text": [
            "Epoch 17/100, Train Loss: 0.0303\n"
          ]
        },
        {
          "output_type": "stream",
          "name": "stderr",
          "text": [
            "\n"
          ]
        },
        {
          "output_type": "stream",
          "name": "stdout",
          "text": [
            "Epoch 17/100, Val Loss: 0.0304\n"
          ]
        },
        {
          "output_type": "stream",
          "name": "stderr",
          "text": [
            "Epoch 18/100: 100%|██████████| 197/197 [05:01<00:00,  1.53s/it]"
          ]
        },
        {
          "output_type": "stream",
          "name": "stdout",
          "text": [
            "Epoch 18/100, Train Loss: 0.0296\n"
          ]
        },
        {
          "output_type": "stream",
          "name": "stderr",
          "text": [
            "\n"
          ]
        },
        {
          "output_type": "stream",
          "name": "stdout",
          "text": [
            "Epoch 18/100, Val Loss: 0.0288\n"
          ]
        },
        {
          "output_type": "stream",
          "name": "stderr",
          "text": [
            "Epoch 19/100: 100%|██████████| 197/197 [05:05<00:00,  1.55s/it]"
          ]
        },
        {
          "output_type": "stream",
          "name": "stdout",
          "text": [
            "Epoch 19/100, Train Loss: 0.0289\n"
          ]
        },
        {
          "output_type": "stream",
          "name": "stderr",
          "text": [
            "\n"
          ]
        },
        {
          "output_type": "stream",
          "name": "stdout",
          "text": [
            "Epoch 19/100, Val Loss: 0.0277\n"
          ]
        },
        {
          "output_type": "stream",
          "name": "stderr",
          "text": [
            "Epoch 20/100: 100%|██████████| 197/197 [05:04<00:00,  1.54s/it]"
          ]
        },
        {
          "output_type": "stream",
          "name": "stdout",
          "text": [
            "Epoch 20/100, Train Loss: 0.0286\n"
          ]
        },
        {
          "output_type": "stream",
          "name": "stderr",
          "text": [
            "\n"
          ]
        },
        {
          "output_type": "stream",
          "name": "stdout",
          "text": [
            "Epoch 20/100, Val Loss: 0.0285\n"
          ]
        },
        {
          "output_type": "stream",
          "name": "stderr",
          "text": [
            "Epoch 21/100: 100%|██████████| 197/197 [05:03<00:00,  1.54s/it]"
          ]
        },
        {
          "output_type": "stream",
          "name": "stdout",
          "text": [
            "Epoch 21/100, Train Loss: 0.0287\n"
          ]
        },
        {
          "output_type": "stream",
          "name": "stderr",
          "text": [
            "\n"
          ]
        },
        {
          "output_type": "stream",
          "name": "stdout",
          "text": [
            "Epoch 21/100, Val Loss: 0.0279\n"
          ]
        },
        {
          "output_type": "stream",
          "name": "stderr",
          "text": [
            "Epoch 22/100: 100%|██████████| 197/197 [05:05<00:00,  1.55s/it]"
          ]
        },
        {
          "output_type": "stream",
          "name": "stdout",
          "text": [
            "Epoch 22/100, Train Loss: 0.0280\n"
          ]
        },
        {
          "output_type": "stream",
          "name": "stderr",
          "text": [
            "\n"
          ]
        },
        {
          "output_type": "stream",
          "name": "stdout",
          "text": [
            "Epoch 22/100, Val Loss: 0.0266\n"
          ]
        },
        {
          "output_type": "stream",
          "name": "stderr",
          "text": [
            "Epoch 23/100: 100%|██████████| 197/197 [05:02<00:00,  1.53s/it]"
          ]
        },
        {
          "output_type": "stream",
          "name": "stdout",
          "text": [
            "Epoch 23/100, Train Loss: 0.0279\n"
          ]
        },
        {
          "output_type": "stream",
          "name": "stderr",
          "text": [
            "\n"
          ]
        },
        {
          "output_type": "stream",
          "name": "stdout",
          "text": [
            "Epoch 23/100, Val Loss: 0.0287\n"
          ]
        },
        {
          "output_type": "stream",
          "name": "stderr",
          "text": [
            "Epoch 24/100: 100%|██████████| 197/197 [05:01<00:00,  1.53s/it]"
          ]
        },
        {
          "output_type": "stream",
          "name": "stdout",
          "text": [
            "Epoch 24/100, Train Loss: 0.0274\n"
          ]
        },
        {
          "output_type": "stream",
          "name": "stderr",
          "text": [
            "\n"
          ]
        },
        {
          "output_type": "stream",
          "name": "stdout",
          "text": [
            "Epoch 24/100, Val Loss: 0.0258\n"
          ]
        },
        {
          "output_type": "stream",
          "name": "stderr",
          "text": [
            "Epoch 25/100: 100%|██████████| 197/197 [05:04<00:00,  1.55s/it]"
          ]
        },
        {
          "output_type": "stream",
          "name": "stdout",
          "text": [
            "Epoch 25/100, Train Loss: 0.0269\n"
          ]
        },
        {
          "output_type": "stream",
          "name": "stderr",
          "text": [
            "\n"
          ]
        },
        {
          "output_type": "stream",
          "name": "stdout",
          "text": [
            "Epoch 25/100, Val Loss: 0.0264\n"
          ]
        },
        {
          "output_type": "stream",
          "name": "stderr",
          "text": [
            "Epoch 26/100: 100%|██████████| 197/197 [05:02<00:00,  1.54s/it]"
          ]
        },
        {
          "output_type": "stream",
          "name": "stdout",
          "text": [
            "Epoch 26/100, Train Loss: 0.0263\n"
          ]
        },
        {
          "output_type": "stream",
          "name": "stderr",
          "text": [
            "\n"
          ]
        },
        {
          "output_type": "stream",
          "name": "stdout",
          "text": [
            "Epoch 26/100, Val Loss: 0.0260\n"
          ]
        },
        {
          "output_type": "stream",
          "name": "stderr",
          "text": [
            "Epoch 27/100: 100%|██████████| 197/197 [05:01<00:00,  1.53s/it]"
          ]
        },
        {
          "output_type": "stream",
          "name": "stdout",
          "text": [
            "Epoch 27/100, Train Loss: 0.0265\n"
          ]
        },
        {
          "output_type": "stream",
          "name": "stderr",
          "text": [
            "\n"
          ]
        },
        {
          "output_type": "stream",
          "name": "stdout",
          "text": [
            "Epoch 27/100, Val Loss: 0.0255\n"
          ]
        },
        {
          "output_type": "stream",
          "name": "stderr",
          "text": [
            "Epoch 28/100: 100%|██████████| 197/197 [05:04<00:00,  1.55s/it]"
          ]
        },
        {
          "output_type": "stream",
          "name": "stdout",
          "text": [
            "Epoch 28/100, Train Loss: 0.0258\n"
          ]
        },
        {
          "output_type": "stream",
          "name": "stderr",
          "text": [
            "\n"
          ]
        },
        {
          "output_type": "stream",
          "name": "stdout",
          "text": [
            "Epoch 28/100, Val Loss: 0.0253\n"
          ]
        },
        {
          "output_type": "stream",
          "name": "stderr",
          "text": [
            "Epoch 29/100: 100%|██████████| 197/197 [05:03<00:00,  1.54s/it]"
          ]
        },
        {
          "output_type": "stream",
          "name": "stdout",
          "text": [
            "Epoch 29/100, Train Loss: 0.0259\n"
          ]
        },
        {
          "output_type": "stream",
          "name": "stderr",
          "text": [
            "\n"
          ]
        },
        {
          "output_type": "stream",
          "name": "stdout",
          "text": [
            "Epoch 29/100, Val Loss: 0.0273\n"
          ]
        },
        {
          "output_type": "stream",
          "name": "stderr",
          "text": [
            "Epoch 30/100: 100%|██████████| 197/197 [05:03<00:00,  1.54s/it]"
          ]
        },
        {
          "output_type": "stream",
          "name": "stdout",
          "text": [
            "Epoch 30/100, Train Loss: 0.0255\n"
          ]
        },
        {
          "output_type": "stream",
          "name": "stderr",
          "text": [
            "\n"
          ]
        },
        {
          "output_type": "stream",
          "name": "stdout",
          "text": [
            "Epoch 30/100, Val Loss: 0.0241\n"
          ]
        },
        {
          "output_type": "stream",
          "name": "stderr",
          "text": [
            "Epoch 31/100: 100%|██████████| 197/197 [05:04<00:00,  1.55s/it]"
          ]
        },
        {
          "output_type": "stream",
          "name": "stdout",
          "text": [
            "Epoch 31/100, Train Loss: 0.0254\n"
          ]
        },
        {
          "output_type": "stream",
          "name": "stderr",
          "text": [
            "\n"
          ]
        },
        {
          "output_type": "stream",
          "name": "stdout",
          "text": [
            "Epoch 31/100, Val Loss: 0.0304\n"
          ]
        },
        {
          "output_type": "stream",
          "name": "stderr",
          "text": [
            "Epoch 32/100: 100%|██████████| 197/197 [05:03<00:00,  1.54s/it]"
          ]
        },
        {
          "output_type": "stream",
          "name": "stdout",
          "text": [
            "Epoch 32/100, Train Loss: 0.0248\n"
          ]
        },
        {
          "output_type": "stream",
          "name": "stderr",
          "text": [
            "\n"
          ]
        },
        {
          "output_type": "stream",
          "name": "stdout",
          "text": [
            "Epoch 32/100, Val Loss: 0.0254\n"
          ]
        },
        {
          "output_type": "stream",
          "name": "stderr",
          "text": [
            "Epoch 33/100: 100%|██████████| 197/197 [05:02<00:00,  1.53s/it]"
          ]
        },
        {
          "output_type": "stream",
          "name": "stdout",
          "text": [
            "Epoch 33/100, Train Loss: 0.0249\n"
          ]
        },
        {
          "output_type": "stream",
          "name": "stderr",
          "text": [
            "\n"
          ]
        },
        {
          "output_type": "stream",
          "name": "stdout",
          "text": [
            "Epoch 33/100, Val Loss: 0.0248\n"
          ]
        },
        {
          "output_type": "stream",
          "name": "stderr",
          "text": [
            "Epoch 34/100: 100%|██████████| 197/197 [05:04<00:00,  1.55s/it]"
          ]
        },
        {
          "output_type": "stream",
          "name": "stdout",
          "text": [
            "Epoch 34/100, Train Loss: 0.0245\n"
          ]
        },
        {
          "output_type": "stream",
          "name": "stderr",
          "text": [
            "\n"
          ]
        },
        {
          "output_type": "stream",
          "name": "stdout",
          "text": [
            "Epoch 34/100, Val Loss: 0.0242\n"
          ]
        },
        {
          "output_type": "stream",
          "name": "stderr",
          "text": [
            "Epoch 35/100: 100%|██████████| 197/197 [05:03<00:00,  1.54s/it]"
          ]
        },
        {
          "output_type": "stream",
          "name": "stdout",
          "text": [
            "Epoch 35/100, Train Loss: 0.0240\n"
          ]
        },
        {
          "output_type": "stream",
          "name": "stderr",
          "text": [
            "\n"
          ]
        },
        {
          "output_type": "stream",
          "name": "stdout",
          "text": [
            "Epoch 35/100, Val Loss: 0.0245\n",
            "Early stopping at epoch 35\n"
          ]
        }
      ],
      "source": [
        "\n",
        "import torch\n",
        "import torch.nn as nn\n",
        "import torch.nn.functional as F\n",
        "import torchvision.models as models\n",
        "\n",
        "class CustomResNetEncoder(nn.Module):\n",
        "    def __init__(self):\n",
        "        super().__init__()\n",
        "        # Modified initial conv layer\n",
        "        self.conv1 = nn.Conv2d(3, 64, kernel_size=3, stride=1, padding=1, bias=False)\n",
        "        self.bn1 = nn.InstanceNorm2d(64)\n",
        "        self.relu = nn.LeakyReLU(0.2, inplace=True)\n",
        "\n",
        "        # Load ResNet-18 layers\n",
        "        resnet = models.resnet18(pretrained=False)\n",
        "        self.layer1 = resnet.layer1  # 64 -> 64\n",
        "        self.layer2 = resnet.layer2  # 64 -> 128\n",
        "        self.layer3 = resnet.layer3  # 128 -> 256\n",
        "        self.layer4 = resnet.layer4  # 256 -> 512\n",
        "\n",
        "    def forward(self, x):\n",
        "        x = self.conv1(x)      # 200x200\n",
        "        x = self.bn1(x)\n",
        "        x = self.relu(x)\n",
        "\n",
        "        x = self.layer1(x)     # 200x200\n",
        "        x = self.layer2(x)     # 100x100\n",
        "        x = self.layer3(x)     # 50x50\n",
        "        x = self.layer4(x)     # 25x25\n",
        "        return x\n",
        "\n",
        "class ResidualBlock(nn.Module):\n",
        "    def __init__(self, channels):\n",
        "        super().__init__()\n",
        "        self.conv1 = nn.Conv2d(channels, channels, kernel_size=3, padding=1)\n",
        "        self.norm1 = nn.InstanceNorm2d(channels)\n",
        "        self.conv2 = nn.Conv2d(channels, channels, kernel_size=3, padding=1)\n",
        "        self.norm2 = nn.InstanceNorm2d(channels)\n",
        "        self.relu = nn.LeakyReLU(0.2)\n",
        "\n",
        "    def forward(self, x):\n",
        "        residual = x\n",
        "        x = self.relu(self.norm1(self.conv1(x)))\n",
        "        x = self.norm2(self.conv2(x))\n",
        "        x += residual\n",
        "        return self.relu(x)\n",
        "\n",
        "class MaskedAutoencoder(nn.Module):\n",
        "    def __init__(self, mask_ratio=0.75):\n",
        "        super().__init__()\n",
        "        self.mask_ratio = mask_ratio\n",
        "        self.encoder = CustomResNetEncoder()\n",
        "\n",
        "        # Adjusted decoder for ResNet-18 (512 channels input)\n",
        "        decoder_layers = []\n",
        "\n",
        "        # First block: 512 -> 256\n",
        "        decoder_layers.extend([\n",
        "            nn.Conv2d(512, 256, kernel_size=3, padding=1),\n",
        "            nn.InstanceNorm2d(256),\n",
        "            nn.LeakyReLU(0.2),\n",
        "            nn.Upsample(scale_factor=2, mode='bilinear', align_corners=True),\n",
        "            ResidualBlock(256)\n",
        "        ])\n",
        "\n",
        "        # Second block: 256 -> 128\n",
        "        decoder_layers.extend([\n",
        "            nn.Conv2d(256, 128, kernel_size=3, padding=1),\n",
        "            nn.InstanceNorm2d(128),\n",
        "            nn.LeakyReLU(0.2),\n",
        "            nn.Upsample(scale_factor=2, mode='bilinear', align_corners=True),\n",
        "            ResidualBlock(128)\n",
        "        ])\n",
        "\n",
        "        # Third block: 128 -> 64\n",
        "        decoder_layers.extend([\n",
        "            nn.Conv2d(128, 64, kernel_size=3, padding=1),\n",
        "            nn.InstanceNorm2d(64),\n",
        "            nn.LeakyReLU(0.2),\n",
        "            nn.Upsample(scale_factor=2, mode='bilinear', align_corners=True),\n",
        "            ResidualBlock(64)\n",
        "        ])\n",
        "\n",
        "        # Final layers\n",
        "        decoder_layers.extend([\n",
        "            nn.Conv2d(64, 32, kernel_size=3, padding=1),\n",
        "            nn.InstanceNorm2d(32),\n",
        "            nn.LeakyReLU(0.2),\n",
        "\n",
        "            nn.Conv2d(32, 16, kernel_size=3, padding=1),\n",
        "            nn.InstanceNorm2d(16),\n",
        "            nn.LeakyReLU(0.2),\n",
        "\n",
        "            nn.Conv2d(16, 3, kernel_size=3, padding=1),\n",
        "            nn.Sigmoid()\n",
        "        ])\n",
        "\n",
        "        self.decoder = nn.Sequential(*decoder_layers)\n",
        "\n",
        "    def random_masking(self, x):\n",
        "        B, C, H, W = x.shape\n",
        "        patch_size = 20  # For 200x200 images, using 20x20 patches\n",
        "        num_patches = (H // patch_size) * (W // patch_size)\n",
        "        num_masked = int(self.mask_ratio * num_patches)\n",
        "\n",
        "        noise = torch.rand(B, num_patches, device=x.device)\n",
        "        ids_shuffle = torch.argsort(noise, dim=1)\n",
        "        ids_restore = torch.argsort(ids_shuffle, dim=1)\n",
        "\n",
        "        mask = torch.ones(B, num_patches, dtype=torch.bool, device=x.device)\n",
        "        mask[:, :num_masked] = 0\n",
        "        mask = torch.gather(mask, dim=1, index=ids_restore)\n",
        "\n",
        "        mask = mask.reshape(B, H // patch_size, W // patch_size)\n",
        "        mask = mask.unsqueeze(1).repeat(1, C, patch_size, patch_size)\n",
        "        mask = mask.reshape(B, C, H, W)\n",
        "\n",
        "        masked_x = x * mask\n",
        "        return masked_x, mask\n",
        "\n",
        "    def forward(self, x):\n",
        "        masked_x, mask = self.random_masking(x)\n",
        "        encoded = self.encoder(masked_x)\n",
        "        reconstructed = self.decoder(encoded)\n",
        "        return reconstructed, mask\n",
        "\n",
        "class DetailEnhancedLoss(nn.Module):\n",
        "    def __init__(self, alpha=0.8, beta=0.2):\n",
        "        super().__init__()\n",
        "        self.alpha = alpha\n",
        "        self.beta = beta\n",
        "\n",
        "    def edge_loss(self, pred, target):\n",
        "        def get_edge(x):\n",
        "            dx = x[:, :, :, 1:] - x[:, :, :, :-1]\n",
        "            dy = x[:, :, 1:, :] - x[:, :, :-1, :]\n",
        "            return dx, dy\n",
        "\n",
        "        pred_dx, pred_dy = get_edge(pred)\n",
        "        target_dx, target_dy = get_edge(target)\n",
        "\n",
        "        edge_loss = F.l1_loss(pred_dx, target_dx) + F.l1_loss(pred_dy, target_dy)\n",
        "        return edge_loss\n",
        "\n",
        "    def forward(self, pred, target, mask):\n",
        "        recon_loss = F.l1_loss(pred * (~mask).float(), target * (~mask).float())\n",
        "        edge_loss = self.edge_loss(pred * (~mask).float(), target * (~mask).float())\n",
        "        return self.alpha * recon_loss + self.beta * edge_loss\n",
        "\n",
        "import torch\n",
        "import matplotlib.pyplot as plt\n",
        "import torchvision.utils as vutils\n",
        "from pathlib import Path\n",
        "\n",
        "def save_reconstructions(model, val_loader, epoch, device, save_dir='reconstructions'):\n",
        "    \"\"\"Save reconstruction examples.\"\"\"\n",
        "    Path(save_dir).mkdir(exist_ok=True)\n",
        "\n",
        "    model.eval()\n",
        "    with torch.no_grad():\n",
        "        # Get a batch of images\n",
        "        images, _ = next(iter(val_loader))\n",
        "        images = images.to(device)\n",
        "\n",
        "        # Get reconstructions\n",
        "        reconstructed_images, mask = model(images)\n",
        "\n",
        "        # Create a grid of original and reconstructed images\n",
        "        num_images = min(8, images.size(0))  # Display up to 8 images\n",
        "        comparison = torch.cat([\n",
        "            images[:num_images],\n",
        "            reconstructed_images[:num_images],\n",
        "            images[:num_images] * (~mask[:num_images]).float()  # Masked input\n",
        "        ])\n",
        "\n",
        "        # Save the grid\n",
        "        vutils.save_image(\n",
        "            comparison,\n",
        "            f'{save_dir}/reconstruction_epoch_{epoch}.png',\n",
        "            nrow=num_images,\n",
        "            normalize=True\n",
        "        )\n",
        "\n",
        "def plot_losses(train_losses, val_losses, save_dir='plots'):\n",
        "    \"\"\"Plot and save training and validation losses.\"\"\"\n",
        "    Path(save_dir).mkdir(exist_ok=True)\n",
        "\n",
        "    plt.figure(figsize=(10, 6))\n",
        "    plt.plot(train_losses, label='Training Loss')\n",
        "    plt.plot(val_losses, label='Validation Loss')\n",
        "    plt.xlabel('Epoch')\n",
        "    plt.ylabel('Loss')\n",
        "    plt.title('Training and Validation Losses')\n",
        "    plt.legend()\n",
        "    plt.grid(True)\n",
        "    plt.savefig(f'{save_dir}/loss_plot.png')\n",
        "    plt.close()\n",
        "\n",
        "def train(model, train_loader, val_loader, criterion, optimizer, num_epochs=100):\n",
        "    device = next(model.parameters()).device\n",
        "    best_val_loss = float('inf')\n",
        "    epochs_without_improvement = 0\n",
        "    patience = 5\n",
        "\n",
        "    scheduler = torch.optim.lr_scheduler.CosineAnnealingLR(optimizer, T_max=num_epochs)\n",
        "\n",
        "    # Lists to store losses for plotting\n",
        "    train_losses = []\n",
        "    val_losses = []\n",
        "\n",
        "    for epoch in range(num_epochs):\n",
        "        model.train()\n",
        "        train_loss = 0.0\n",
        "\n",
        "        for batch in tqdm(train_loader, desc=f\"Epoch {epoch + 1}/{num_epochs}\"):\n",
        "            images, _ = batch\n",
        "            images = images.to(device)\n",
        "\n",
        "            optimizer.zero_grad()\n",
        "            reconstructed_images, mask = model(images)\n",
        "            loss = criterion(reconstructed_images, images, mask)\n",
        "\n",
        "            loss.backward()\n",
        "            optimizer.step()\n",
        "            train_loss += loss.item()\n",
        "\n",
        "        train_loss /= len(train_loader)\n",
        "        print(f\"Epoch {epoch + 1}/{num_epochs}, Train Loss: {train_loss:.4f}\")\n",
        "\n",
        "        model.eval()\n",
        "        val_loss = 0.0\n",
        "        with torch.no_grad():\n",
        "            for batch in val_loader:\n",
        "                images, _ = batch\n",
        "                images = images.to(device)\n",
        "                reconstructed_images, mask = model(images)\n",
        "                loss = criterion(reconstructed_images, images, mask)\n",
        "                val_loss += loss.item()\n",
        "\n",
        "        val_loss /= len(val_loader)\n",
        "        print(f\"Epoch {epoch + 1}/{num_epochs}, Val Loss: {val_loss:.4f}\")\n",
        "\n",
        "        # Save losses for plotting\n",
        "        train_losses.append(train_loss)\n",
        "        val_losses.append(val_loss)\n",
        "\n",
        "        # Save reconstructions and plot losses every 5 epochs\n",
        "        if (epoch + 1) % 5 == 0:\n",
        "            save_reconstructions(model, val_loader, epoch + 1, device)\n",
        "            plot_losses(train_losses, val_losses)\n",
        "\n",
        "        scheduler.step()\n",
        "\n",
        "        if val_loss < best_val_loss:\n",
        "            best_val_loss = val_loss\n",
        "            epochs_without_improvement = 0\n",
        "            torch.save({\n",
        "                'epoch': epoch + 1,\n",
        "                'model_state_dict': model.state_dict(),\n",
        "                'optimizer_state_dict': optimizer.state_dict(),\n",
        "                'train_losses': train_losses,\n",
        "                'val_losses': val_losses,\n",
        "                'best_val_loss': best_val_loss\n",
        "            }, \"/content/drive/MyDrive/data/best_masked_autoencoder.pth\")\n",
        "        else:\n",
        "            epochs_without_improvement += 1\n",
        "            if epochs_without_improvement >= patience:\n",
        "                print(f\"Early stopping at epoch {epoch + 1}\")\n",
        "                break\n",
        "\n",
        "    # Final plots\n",
        "    plot_losses(train_losses, val_losses)\n",
        "    save_reconstructions(model, val_loader, epoch + 1, device)\n",
        "\n",
        "    return train_losses, val_losses\n",
        "\n",
        "# Create directories for saving results\n",
        "Path('reconstructions').mkdir(exist_ok=True)\n",
        "Path('plots').mkdir(exist_ok=True)\n",
        "\n",
        "# Initialize and train\n",
        "model = MaskedAutoencoder(mask_ratio=0.75).to(device)\n",
        "criterion = DetailEnhancedLoss()\n",
        "optimizer = torch.optim.AdamW(model.parameters(), lr=1e-4, weight_decay=1e-4)\n",
        "\n",
        "# Train and get loss histories\n",
        "train_losses, val_losses = train(model, train_loader, val_loader, criterion, optimizer, num_epochs=100)"
      ]
    },
    {
      "cell_type": "code",
      "execution_count": null,
      "metadata": {
        "id": "ot4iTk8XAuIN",
        "colab": {
          "base_uri": "https://localhost:8080/"
        },
        "outputId": "c2da8b2f-fe27-4a61-97c2-6c677d8bec0d"
      },
      "outputs": [
        {
          "output_type": "stream",
          "name": "stderr",
          "text": [
            "<ipython-input-21-cddd53932485>:28: FutureWarning: You are using `torch.load` with `weights_only=False` (the current default value), which uses the default pickle module implicitly. It is possible to construct malicious pickle data which will execute arbitrary code during unpickling (See https://github.com/pytorch/pytorch/blob/main/SECURITY.md#untrusted-models for more details). In a future release, the default value for `weights_only` will be flipped to `True`. This limits the functions that could be executed during unpickling. Arbitrary objects will no longer be allowed to be loaded via this mode unless they are explicitly allowlisted by the user via `torch.serialization.add_safe_globals`. We recommend you start setting `weights_only=True` for any use case where you don't have full control of the loaded file. Please open an issue on GitHub for any issues related to this experimental feature.\n",
            "  checkpoint = torch.load(checkpoint_path, map_location=device)\n"
          ]
        },
        {
          "output_type": "stream",
          "name": "stdout",
          "text": [
            "Successfully loaded checkpoint from epoch 33\n",
            "Best validation loss: 0.0251\n",
            "Number of training epochs: 33\n",
            "Final training loss: 0.0256\n",
            "Final validation loss: 0.0251\n"
          ]
        }
      ],
      "source": [
        "import torch\n",
        "from pathlib import Path\n",
        "\n",
        "def load_checkpoint(model, checkpoint_path, device=None, eval_mode=True):\n",
        "    \"\"\"\n",
        "    Load a checkpoint into the model.\n",
        "\n",
        "    Args:\n",
        "        model: The MaskedAutoencoder model instance\n",
        "        checkpoint_path: Path to the checkpoint file\n",
        "        device: torch.device to load the model to (if None, uses current device)\n",
        "        eval_mode: Whether to set the model to evaluation mode after loading\n",
        "\n",
        "    Returns:\n",
        "        model: Loaded model\n",
        "        checkpoint_data: Dictionary containing training history and metadata\n",
        "    \"\"\"\n",
        "    if device is None:\n",
        "        device = next(model.parameters()).device\n",
        "\n",
        "    # Check if checkpoint exists\n",
        "    checkpoint_path = Path(checkpoint_path)\n",
        "    if not checkpoint_path.exists():\n",
        "        raise FileNotFoundError(f\"No checkpoint found at {checkpoint_path}\")\n",
        "\n",
        "    try:\n",
        "        # Load checkpoint\n",
        "        checkpoint = torch.load(checkpoint_path, map_location=device)\n",
        "\n",
        "        # Load model state\n",
        "        model.load_state_dict(checkpoint['model_state_dict'])\n",
        "\n",
        "        # Move model to device\n",
        "        model = model.to(device)\n",
        "\n",
        "        # Set to eval mode if requested\n",
        "        if eval_mode:\n",
        "            model.eval()\n",
        "\n",
        "        # Extract training history and metadata\n",
        "        checkpoint_data = {\n",
        "            'epoch': checkpoint['epoch'],\n",
        "            'train_losses': checkpoint.get('train_losses', []),\n",
        "            'val_losses': checkpoint.get('val_losses', []),\n",
        "            'best_val_loss': checkpoint.get('best_val_loss', float('inf'))\n",
        "        }\n",
        "\n",
        "        print(f\"Successfully loaded checkpoint from epoch {checkpoint_data['epoch']}\")\n",
        "        print(f\"Best validation loss: {checkpoint_data['best_val_loss']:.4f}\")\n",
        "\n",
        "        return model, checkpoint_data\n",
        "\n",
        "    except Exception as e:\n",
        "        print(f\"Error loading checkpoint: {str(e)}\")\n",
        "        raise\n",
        "\n",
        "# Example usage:\n",
        "def main():\n",
        "    # Initialize model\n",
        "    device = torch.device('cuda' if torch.cuda.is_available() else 'cpu')\n",
        "    model = MaskedAutoencoder(mask_ratio=0.75)\n",
        "\n",
        "    # Load checkpoint\n",
        "    try:\n",
        "        model, checkpoint_data = load_checkpoint(\n",
        "            model=model,\n",
        "            checkpoint_path=\"/content/drive/MyDrive/data/best_masked_autoencoder_old.pth\",\n",
        "            device=device\n",
        "        )\n",
        "\n",
        "        # Print training history if needed\n",
        "        if checkpoint_data['train_losses']:\n",
        "            print(f\"Number of training epochs: {len(checkpoint_data['train_losses'])}\")\n",
        "            print(f\"Final training loss: {checkpoint_data['train_losses'][-1]:.4f}\")\n",
        "            print(f\"Final validation loss: {checkpoint_data['val_losses'][-1]:.4f}\")\n",
        "\n",
        "    except Exception as e:\n",
        "        print(f\"Failed to load checkpoint: {str(e)}\")\n",
        "        return\n",
        "\n",
        "    # Model is now ready for inference\n",
        "    model.eval()\n",
        "    with torch.no_grad():\n",
        "        # Your inference code here\n",
        "        pass\n",
        "\n",
        "if __name__ == \"__main__\":\n",
        "    main()"
      ]
    },
    {
      "cell_type": "markdown",
      "metadata": {
        "id": "CScXTSWD-bQ3"
      },
      "source": [
        "# TRAINING"
      ]
    },
    {
      "cell_type": "markdown",
      "metadata": {
        "id": "UYZuks9sR6lG"
      },
      "source": [
        "## Self-Supervised Pre-training"
      ]
    },
    {
      "cell_type": "markdown",
      "metadata": {
        "id": "Nc6-we4ESF80"
      },
      "source": [
        "## Supervised Finetuning"
      ]
    },
    {
      "cell_type": "markdown",
      "metadata": {
        "id": "ks7RxJ9AZDt6"
      },
      "source": [
        "### LOAD PRETRAINED MODEL"
      ]
    },
    {
      "cell_type": "markdown",
      "metadata": {
        "id": "ZcNin9nzZJJl"
      },
      "source": [
        "### MODIFY THE ARCHITECTURE TO CLASSIFIER"
      ]
    },
    {
      "cell_type": "code",
      "execution_count": null,
      "metadata": {
        "id": "837LcqbxZOFh"
      },
      "outputs": [],
      "source": [
        "class MedicalClassifier(nn.Module):\n",
        "    def __init__(self, pretrained_model=None):\n",
        "        super().__init__()\n",
        "        self.encoder = pretrained_model.encoder\n",
        "\n",
        "        # Freeze more layers\n",
        "        for name, param in self.encoder.named_parameters():\n",
        "            if any(x in name for x in ['layer1', 'layer2', 'layer3']):\n",
        "                param.requires_grad = False\n",
        "\n",
        "        # Simpler classifier with stronger regularization\n",
        "        self.classifier = nn.Sequential(\n",
        "            nn.AdaptiveAvgPool2d(1),\n",
        "            nn.Flatten(),\n",
        "            nn.BatchNorm1d(512),  # Add BatchNorm\n",
        "            nn.Dropout(0.5),      # Increase dropout\n",
        "            nn.Linear(512, 128),  # Reduce complexity\n",
        "            nn.ReLU(),\n",
        "            nn.BatchNorm1d(128),  # Add BatchNorm\n",
        "            nn.Dropout(0.5),      # Increase dropout\n",
        "            nn.Linear(128, 1),\n",
        "            nn.Sigmoid()\n",
        "        )\n",
        "\n",
        "    def forward(self, x):\n",
        "        # Encode the input\n",
        "        encoded = self.encoder(x)\n",
        "\n",
        "        # Classify\n",
        "        logits = self.classifier(encoded)\n",
        "        return logits"
      ]
    },
    {
      "cell_type": "markdown",
      "metadata": {
        "id": "ugYS7SkRZUWB"
      },
      "source": [
        "### HYPERPARAMETERS"
      ]
    },
    {
      "cell_type": "markdown",
      "metadata": {
        "id": "pERyX7R3ZayE"
      },
      "source": [
        "### FINETUNING"
      ]
    },
    {
      "cell_type": "code",
      "source": [
        "!pip install scikit-learn  # Install scikit-learn if not already installed"
      ],
      "metadata": {
        "colab": {
          "base_uri": "https://localhost:8080/"
        },
        "id": "tveONzQp2BQy",
        "outputId": "703d4158-2949-4b08-fa50-a74e03eed2f5"
      },
      "execution_count": null,
      "outputs": [
        {
          "output_type": "stream",
          "name": "stdout",
          "text": [
            "Requirement already satisfied: scikit-learn in /usr/local/lib/python3.11/dist-packages (1.6.1)\n",
            "Requirement already satisfied: numpy>=1.19.5 in /usr/local/lib/python3.11/dist-packages (from scikit-learn) (1.26.4)\n",
            "Requirement already satisfied: scipy>=1.6.0 in /usr/local/lib/python3.11/dist-packages (from scikit-learn) (1.13.1)\n",
            "Requirement already satisfied: joblib>=1.2.0 in /usr/local/lib/python3.11/dist-packages (from scikit-learn) (1.4.2)\n",
            "Requirement already satisfied: threadpoolctl>=3.1.0 in /usr/local/lib/python3.11/dist-packages (from scikit-learn) (3.5.0)\n"
          ]
        }
      ]
    },
    {
      "cell_type": "code",
      "execution_count": null,
      "metadata": {
        "id": "p85GAvlXBHCX"
      },
      "outputs": [],
      "source": [
        "from sklearn.metrics import roc_auc_score  # Import roc_auc_score\n",
        "import torch\n",
        "import torch.nn as nn\n",
        "import torch.optim as optim\n",
        "from torch.utils.data import Dataset, DataLoader\n",
        "from torchvision import transforms\n",
        "import os\n",
        "from PIL import Image\n",
        "import numpy as np\n",
        "from torch.optim.lr_scheduler import ReduceLROnPlateau\n",
        "import numpy as np\n",
        "import matplotlib.pyplot as plt\n",
        "from tqdm import tqdm\n",
        "import joblib\n",
        "\n",
        "\n",
        "class EarlyStopping:\n",
        "    def __init__(self, patience=7, min_delta=0.001, mode='max'):\n",
        "        self.patience = patience\n",
        "        self.min_delta = min_delta\n",
        "        self.mode = mode\n",
        "        self.counter = 0\n",
        "        self.best_score = None\n",
        "        self.early_stop = False\n",
        "        self.delta = 0\n",
        "\n",
        "    def __call__(self, score):\n",
        "        if self.best_score is None:\n",
        "            self.best_score = score\n",
        "        elif self.mode == 'max':\n",
        "            if score <= self.best_score + self.min_delta:\n",
        "                self.counter += 1\n",
        "            else:\n",
        "                self.best_score = score\n",
        "                self.counter = 0\n",
        "        else:  # mode == 'min'\n",
        "            if score >= self.best_score - self.min_delta:\n",
        "                self.counter += 1\n",
        "            else:\n",
        "                self.best_score = score\n",
        "                self.counter = 0\n",
        "\n",
        "        if self.counter >= self.patience:\n",
        "            self.early_stop = True\n",
        "\n",
        "        return self.early_stop\n",
        "\n",
        "def train_classifier(model, train_loader, val_loader, device, num_epochs=200):\n",
        "    print(\"Starting fine-tuning for binary classification...\")\n",
        "\n",
        "    # Loss function and optimizer\n",
        "    criterion = nn.BCELoss()\n",
        "    optimizer = torch.optim.AdamW([\n",
        "        {'params': model.encoder.parameters(), 'lr': 5e-6},\n",
        "        {'params': model.classifier.parameters(), 'lr': 5e-5}\n",
        "    ], weight_decay=0.1)\n",
        "\n",
        "    # Learning rate scheduler\n",
        "    scheduler = ReduceLROnPlateau(optimizer, mode='max',\n",
        "                                 factor=0.2, patience=5,\n",
        "                                 min_lr=1e-7)\n",
        "\n",
        "    # Initialize early stopping\n",
        "    early_stopping = EarlyStopping(patience=10, min_delta=0.001, mode='max')\n",
        "\n",
        "    # Gradient clipping\n",
        "    torch.nn.utils.clip_grad_norm_(model.parameters(), max_norm=1.0)\n",
        "\n",
        "    best_val_auc = 0.0\n",
        "    train_losses = []\n",
        "    val_losses = []\n",
        "    val_aucs = []\n",
        "\n",
        "    # Lists to store learning rates\n",
        "    encoder_lrs = []\n",
        "    classifier_lrs = []\n",
        "\n",
        "    for epoch in range(num_epochs):\n",
        "        # Training phase\n",
        "        model.train()\n",
        "        train_loss = 0.0\n",
        "        correct_train = 0\n",
        "        total_train = 0\n",
        "\n",
        "        pbar = tqdm(train_loader, desc=f'Epoch {epoch+1}/{num_epochs}')\n",
        "        for images, labels in pbar:\n",
        "            images = images.to(device)\n",
        "            labels = labels.float().to(device)\n",
        "\n",
        "            optimizer.zero_grad()\n",
        "            outputs = model(images)\n",
        "            loss = criterion(outputs.squeeze(), labels)\n",
        "            loss.backward()\n",
        "            optimizer.step()\n",
        "\n",
        "            train_loss += loss.item()\n",
        "\n",
        "            predicted = (outputs.squeeze() > 0.5).float()\n",
        "            correct_train += (predicted == labels).sum().item()\n",
        "            total_train += labels.size(0)\n",
        "\n",
        "            pbar.set_postfix({'loss': loss.item()})\n",
        "\n",
        "        avg_train_loss = train_loss / len(train_loader)\n",
        "        train_accuracy = 100 * correct_train / total_train\n",
        "        train_losses.append(avg_train_loss)\n",
        "\n",
        "        # Store current learning rates\n",
        "        encoder_lrs.append(optimizer.param_groups[0]['lr'])\n",
        "        classifier_lrs.append(optimizer.param_groups[1]['lr'])\n",
        "\n",
        "        # Validation phase\n",
        "        model.eval()\n",
        "        val_loss = 0.0\n",
        "        val_labels = []\n",
        "        val_preds = []\n",
        "\n",
        "        with torch.no_grad():\n",
        "            for images, labels in tqdm(val_loader, desc=\"Validation\"):\n",
        "                images = images.to(device)\n",
        "                labels = labels.float().to(device)\n",
        "\n",
        "                outputs = model(images)\n",
        "                loss = criterion(outputs.squeeze(), labels)\n",
        "                val_loss += loss.item()\n",
        "\n",
        "                val_labels.extend(labels.cpu().numpy())\n",
        "                val_preds.extend(outputs.squeeze().cpu().numpy())\n",
        "\n",
        "        avg_val_loss = val_loss / len(val_loader)\n",
        "        val_losses.append(avg_val_loss)\n",
        "\n",
        "        # Compute validation metrics\n",
        "        val_auc = roc_auc_score(val_labels, val_preds)  # Use imported roc_auc_score\n",
        "        val_aucs.append(val_auc)\n",
        "\n",
        "        # Update learning rate scheduler based on validation AUC\n",
        "        scheduler.step(val_auc)\n",
        "\n",
        "        # Save the best model\n",
        "        if val_auc > best_val_auc:\n",
        "            best_val_auc = val_auc\n",
        "            torch.save({\n",
        "                'epoch': epoch + 1,\n",
        "                'model_state_dict': model.state_dict(),\n",
        "                'optimizer_state_dict': optimizer.state_dict(),\n",
        "                'val_auc': val_auc,\n",
        "                'train_losses': train_losses,\n",
        "                'val_losses': val_losses,\n",
        "                'val_aucs': val_aucs,\n",
        "                'encoder_lrs': encoder_lrs,\n",
        "                'classifier_lrs': classifier_lrs\n",
        "            }, 'best_classification_model.pth')\n",
        "            print(f\"New best model saved with validation AUC: {val_auc:.4f}\")\n",
        "\n",
        "        # Print metrics\n",
        "        print(f\"\\nEpoch {epoch+1}/{num_epochs}\")\n",
        "        print(f\"Train Loss: {avg_train_loss:.4f}, Train Accuracy: {train_accuracy:.2f}%\")\n",
        "        print(f\"Val Loss: {avg_val_loss:.4f}, Val AUC: {val_auc:.4f}\")\n",
        "        print(f\"Learning rates - Encoder: {encoder_lrs[-1]:.2e}, Classifier: {classifier_lrs[-1]:.2e}\")\n",
        "        print(\"-\" * 50)\n",
        "\n",
        "        # Early stopping check\n",
        "        if early_stopping(val_auc):\n",
        "            print(f\"Early stopping triggered after {epoch + 1} epochs\")\n",
        "            break\n",
        "\n",
        "        # Clear memory at the end of each epoch\n",
        "        torch.cuda.empty_cache()\n",
        "\n",
        "    # Plot training and validation losses\n",
        "    plt.figure(figsize=(15, 5))\n",
        "    plt.subplot(1, 3, 1)\n",
        "    plt.plot(train_losses, label=\"Train Loss\")\n",
        "    plt.plot(val_losses, label=\"Val Loss\")\n",
        "    plt.xlabel(\"Epoch\")\n",
        "    plt.ylabel(\"Loss\")\n",
        "    plt.title(\"Training and Validation Losses\")\n",
        "    plt.legend()\n",
        "    plt.grid()\n",
        "\n",
        "    # Plot validation AUC\n",
        "    plt.subplot(1, 3, 2)\n",
        "    plt.plot(val_aucs, label=\"Val AUC\")\n",
        "    plt.xlabel(\"Epoch\")\n",
        "    plt.ylabel(\"AUC\")\n",
        "    plt.title(\"Validation AUC\")\n",
        "    plt.legend()\n",
        "    plt.grid()\n",
        "\n",
        "    # Plot learning rates\n",
        "    plt.subplot(1, 3, 3)\n",
        "    plt.plot(encoder_lrs, label=\"Encoder LR\")\n",
        "    plt.plot(classifier_lrs, label=\"Classifier LR\")\n",
        "    plt.xlabel(\"Epoch\")\n",
        "    plt.ylabel(\"Learning Rate\")\n",
        "    plt.title(\"Learning Rate Schedule\")\n",
        "    plt.legend()\n",
        "    plt.grid()\n",
        "    plt.yscale('log')\n",
        "\n",
        "    plt.tight_layout()\n",
        "    plt.savefig(\"training_metrics.png\")\n",
        "    plt.show()\n",
        "\n",
        "    return model"
      ]
    },
    {
      "cell_type": "code",
      "execution_count": null,
      "metadata": {
        "id": "oKYoJeMZBYUR",
        "colab": {
          "base_uri": "https://localhost:8080/",
          "height": 1000
        },
        "outputId": "e32b7de4-f676-4bd2-bc4c-7689ba0e2a6b"
      },
      "outputs": [
        {
          "output_type": "stream",
          "name": "stderr",
          "text": [
            "/usr/local/lib/python3.11/dist-packages/torchvision/models/_utils.py:208: UserWarning: The parameter 'pretrained' is deprecated since 0.13 and may be removed in the future, please use 'weights' instead.\n",
            "  warnings.warn(\n",
            "/usr/local/lib/python3.11/dist-packages/torchvision/models/_utils.py:223: UserWarning: Arguments other than a weight enum or `None` for 'weights' are deprecated since 0.13 and may be removed in the future. The current behavior is equivalent to passing `weights=None`.\n",
            "  warnings.warn(msg)\n",
            "<ipython-input-21-cddd53932485>:28: FutureWarning: You are using `torch.load` with `weights_only=False` (the current default value), which uses the default pickle module implicitly. It is possible to construct malicious pickle data which will execute arbitrary code during unpickling (See https://github.com/pytorch/pytorch/blob/main/SECURITY.md#untrusted-models for more details). In a future release, the default value for `weights_only` will be flipped to `True`. This limits the functions that could be executed during unpickling. Arbitrary objects will no longer be allowed to be loaded via this mode unless they are explicitly allowlisted by the user via `torch.serialization.add_safe_globals`. We recommend you start setting `weights_only=True` for any use case where you don't have full control of the loaded file. Please open an issue on GitHub for any issues related to this experimental feature.\n",
            "  checkpoint = torch.load(checkpoint_path, map_location=device)\n"
          ]
        },
        {
          "output_type": "stream",
          "name": "stdout",
          "text": [
            "Successfully loaded checkpoint from epoch 33\n",
            "Best validation loss: 0.0251\n",
            "Starting fine-tuning for binary classification...\n"
          ]
        },
        {
          "output_type": "stream",
          "name": "stderr",
          "text": [
            "Epoch 1/200: 100%|██████████| 99/99 [02:20<00:00,  1.42s/it, loss=0.709]\n",
            "Validation: 100%|██████████| 14/14 [00:08<00:00,  1.69it/s]\n"
          ]
        },
        {
          "output_type": "stream",
          "name": "stdout",
          "text": [
            "New best model saved with validation AUC: 0.6619\n",
            "\n",
            "Epoch 1/200\n",
            "Train Loss: 0.6668, Train Accuracy: 61.67%\n",
            "Val Loss: 0.6641, Val AUC: 0.6619\n",
            "Learning rates - Encoder: 5.00e-06, Classifier: 5.00e-05\n",
            "--------------------------------------------------\n"
          ]
        },
        {
          "output_type": "stream",
          "name": "stderr",
          "text": [
            "Epoch 2/200: 100%|██████████| 99/99 [02:24<00:00,  1.46s/it, loss=0.544]\n",
            "Validation: 100%|██████████| 14/14 [00:08<00:00,  1.62it/s]\n"
          ]
        },
        {
          "output_type": "stream",
          "name": "stdout",
          "text": [
            "New best model saved with validation AUC: 0.7084\n",
            "\n",
            "Epoch 2/200\n",
            "Train Loss: 0.6075, Train Accuracy: 67.13%\n",
            "Val Loss: 0.6366, Val AUC: 0.7084\n",
            "Learning rates - Encoder: 5.00e-06, Classifier: 5.00e-05\n",
            "--------------------------------------------------\n"
          ]
        },
        {
          "output_type": "stream",
          "name": "stderr",
          "text": [
            "Epoch 3/200: 100%|██████████| 99/99 [02:26<00:00,  1.48s/it, loss=0.579]\n",
            "Validation: 100%|██████████| 14/14 [00:08<00:00,  1.58it/s]\n"
          ]
        },
        {
          "output_type": "stream",
          "name": "stdout",
          "text": [
            "\n",
            "Epoch 3/200\n",
            "Train Loss: 0.5936, Train Accuracy: 68.55%\n",
            "Val Loss: 0.6519, Val AUC: 0.6993\n",
            "Learning rates - Encoder: 5.00e-06, Classifier: 5.00e-05\n",
            "--------------------------------------------------\n"
          ]
        },
        {
          "output_type": "stream",
          "name": "stderr",
          "text": [
            "Epoch 4/200: 100%|██████████| 99/99 [02:26<00:00,  1.48s/it, loss=0.462]\n",
            "Validation: 100%|██████████| 14/14 [00:08<00:00,  1.65it/s]\n"
          ]
        },
        {
          "output_type": "stream",
          "name": "stdout",
          "text": [
            "New best model saved with validation AUC: 0.7344\n",
            "\n",
            "Epoch 4/200\n",
            "Train Loss: 0.5656, Train Accuracy: 71.14%\n",
            "Val Loss: 0.6219, Val AUC: 0.7344\n",
            "Learning rates - Encoder: 5.00e-06, Classifier: 5.00e-05\n",
            "--------------------------------------------------\n"
          ]
        },
        {
          "output_type": "stream",
          "name": "stderr",
          "text": [
            "Epoch 5/200: 100%|██████████| 99/99 [02:27<00:00,  1.49s/it, loss=0.331]\n",
            "Validation: 100%|██████████| 14/14 [00:08<00:00,  1.65it/s]\n"
          ]
        },
        {
          "output_type": "stream",
          "name": "stdout",
          "text": [
            "New best model saved with validation AUC: 0.7463\n",
            "\n",
            "Epoch 5/200\n",
            "Train Loss: 0.5504, Train Accuracy: 72.61%\n",
            "Val Loss: 0.6221, Val AUC: 0.7463\n",
            "Learning rates - Encoder: 5.00e-06, Classifier: 5.00e-05\n",
            "--------------------------------------------------\n"
          ]
        },
        {
          "output_type": "stream",
          "name": "stderr",
          "text": [
            "Epoch 6/200: 100%|██████████| 99/99 [02:28<00:00,  1.50s/it, loss=0.59]\n",
            "Validation: 100%|██████████| 14/14 [00:09<00:00,  1.55it/s]\n"
          ]
        },
        {
          "output_type": "stream",
          "name": "stdout",
          "text": [
            "New best model saved with validation AUC: 0.7711\n",
            "\n",
            "Epoch 6/200\n",
            "Train Loss: 0.5417, Train Accuracy: 72.64%\n",
            "Val Loss: 0.5847, Val AUC: 0.7711\n",
            "Learning rates - Encoder: 5.00e-06, Classifier: 5.00e-05\n",
            "--------------------------------------------------\n"
          ]
        },
        {
          "output_type": "stream",
          "name": "stderr",
          "text": [
            "Epoch 7/200: 100%|██████████| 99/99 [02:28<00:00,  1.50s/it, loss=0.553]\n",
            "Validation: 100%|██████████| 14/14 [00:08<00:00,  1.57it/s]\n"
          ]
        },
        {
          "output_type": "stream",
          "name": "stdout",
          "text": [
            "New best model saved with validation AUC: 0.7805\n",
            "\n",
            "Epoch 7/200\n",
            "Train Loss: 0.5317, Train Accuracy: 73.63%\n",
            "Val Loss: 0.5784, Val AUC: 0.7805\n",
            "Learning rates - Encoder: 5.00e-06, Classifier: 5.00e-05\n",
            "--------------------------------------------------\n"
          ]
        },
        {
          "output_type": "stream",
          "name": "stderr",
          "text": [
            "Epoch 8/200: 100%|██████████| 99/99 [02:28<00:00,  1.50s/it, loss=0.421]\n",
            "Validation: 100%|██████████| 14/14 [00:08<00:00,  1.64it/s]\n"
          ]
        },
        {
          "output_type": "stream",
          "name": "stdout",
          "text": [
            "New best model saved with validation AUC: 0.7903\n",
            "\n",
            "Epoch 8/200\n",
            "Train Loss: 0.5124, Train Accuracy: 75.22%\n",
            "Val Loss: 0.5669, Val AUC: 0.7903\n",
            "Learning rates - Encoder: 5.00e-06, Classifier: 5.00e-05\n",
            "--------------------------------------------------\n"
          ]
        },
        {
          "output_type": "stream",
          "name": "stderr",
          "text": [
            "Epoch 9/200: 100%|██████████| 99/99 [02:28<00:00,  1.50s/it, loss=0.656]\n",
            "Validation: 100%|██████████| 14/14 [00:08<00:00,  1.63it/s]\n"
          ]
        },
        {
          "output_type": "stream",
          "name": "stdout",
          "text": [
            "\n",
            "Epoch 9/200\n",
            "Train Loss: 0.5037, Train Accuracy: 75.60%\n",
            "Val Loss: 0.6093, Val AUC: 0.7901\n",
            "Learning rates - Encoder: 5.00e-06, Classifier: 5.00e-05\n",
            "--------------------------------------------------\n"
          ]
        },
        {
          "output_type": "stream",
          "name": "stderr",
          "text": [
            "Epoch 10/200: 100%|██████████| 99/99 [02:28<00:00,  1.50s/it, loss=0.445]\n",
            "Validation: 100%|██████████| 14/14 [00:08<00:00,  1.62it/s]\n"
          ]
        },
        {
          "output_type": "stream",
          "name": "stdout",
          "text": [
            "\n",
            "Epoch 10/200\n",
            "Train Loss: 0.4936, Train Accuracy: 75.89%\n",
            "Val Loss: 0.6576, Val AUC: 0.7810\n",
            "Learning rates - Encoder: 5.00e-06, Classifier: 5.00e-05\n",
            "--------------------------------------------------\n"
          ]
        },
        {
          "output_type": "stream",
          "name": "stderr",
          "text": [
            "Epoch 11/200: 100%|██████████| 99/99 [02:28<00:00,  1.50s/it, loss=0.64]\n",
            "Validation: 100%|██████████| 14/14 [00:08<00:00,  1.66it/s]\n"
          ]
        },
        {
          "output_type": "stream",
          "name": "stdout",
          "text": [
            "\n",
            "Epoch 11/200\n",
            "Train Loss: 0.4904, Train Accuracy: 76.31%\n",
            "Val Loss: 0.6218, Val AUC: 0.7884\n",
            "Learning rates - Encoder: 5.00e-06, Classifier: 5.00e-05\n",
            "--------------------------------------------------\n"
          ]
        },
        {
          "output_type": "stream",
          "name": "stderr",
          "text": [
            "Epoch 12/200: 100%|██████████| 99/99 [02:27<00:00,  1.49s/it, loss=0.543]\n",
            "Validation: 100%|██████████| 14/14 [00:08<00:00,  1.56it/s]\n"
          ]
        },
        {
          "output_type": "stream",
          "name": "stdout",
          "text": [
            "New best model saved with validation AUC: 0.7933\n",
            "\n",
            "Epoch 12/200\n",
            "Train Loss: 0.4807, Train Accuracy: 77.92%\n",
            "Val Loss: 0.5873, Val AUC: 0.7933\n",
            "Learning rates - Encoder: 5.00e-06, Classifier: 5.00e-05\n",
            "--------------------------------------------------\n"
          ]
        },
        {
          "output_type": "stream",
          "name": "stderr",
          "text": [
            "Epoch 13/200: 100%|██████████| 99/99 [02:28<00:00,  1.50s/it, loss=0.482]\n",
            "Validation: 100%|██████████| 14/14 [00:08<00:00,  1.63it/s]\n"
          ]
        },
        {
          "output_type": "stream",
          "name": "stdout",
          "text": [
            "New best model saved with validation AUC: 0.8124\n",
            "\n",
            "Epoch 13/200\n",
            "Train Loss: 0.4714, Train Accuracy: 77.44%\n",
            "Val Loss: 0.5623, Val AUC: 0.8124\n",
            "Learning rates - Encoder: 5.00e-06, Classifier: 5.00e-05\n",
            "--------------------------------------------------\n"
          ]
        },
        {
          "output_type": "stream",
          "name": "stderr",
          "text": [
            "Epoch 14/200: 100%|██████████| 99/99 [02:28<00:00,  1.50s/it, loss=0.47]\n",
            "Validation: 100%|██████████| 14/14 [00:08<00:00,  1.63it/s]\n"
          ]
        },
        {
          "output_type": "stream",
          "name": "stdout",
          "text": [
            "\n",
            "Epoch 14/200\n",
            "Train Loss: 0.4648, Train Accuracy: 78.40%\n",
            "Val Loss: 0.5797, Val AUC: 0.8059\n",
            "Learning rates - Encoder: 5.00e-06, Classifier: 5.00e-05\n",
            "--------------------------------------------------\n"
          ]
        },
        {
          "output_type": "stream",
          "name": "stderr",
          "text": [
            "Epoch 15/200: 100%|██████████| 99/99 [02:28<00:00,  1.50s/it, loss=0.358]\n",
            "Validation: 100%|██████████| 14/14 [00:08<00:00,  1.64it/s]\n"
          ]
        },
        {
          "output_type": "stream",
          "name": "stdout",
          "text": [
            "\n",
            "Epoch 15/200\n",
            "Train Loss: 0.4580, Train Accuracy: 78.27%\n",
            "Val Loss: 0.6090, Val AUC: 0.7896\n",
            "Learning rates - Encoder: 5.00e-06, Classifier: 5.00e-05\n",
            "--------------------------------------------------\n"
          ]
        },
        {
          "output_type": "stream",
          "name": "stderr",
          "text": [
            "Epoch 16/200: 100%|██████████| 99/99 [02:28<00:00,  1.50s/it, loss=0.363]\n",
            "Validation: 100%|██████████| 14/14 [00:08<00:00,  1.57it/s]\n"
          ]
        },
        {
          "output_type": "stream",
          "name": "stdout",
          "text": [
            "\n",
            "Epoch 16/200\n",
            "Train Loss: 0.4540, Train Accuracy: 78.57%\n",
            "Val Loss: 0.5680, Val AUC: 0.8102\n",
            "Learning rates - Encoder: 5.00e-06, Classifier: 5.00e-05\n",
            "--------------------------------------------------\n"
          ]
        },
        {
          "output_type": "stream",
          "name": "stderr",
          "text": [
            "Epoch 17/200: 100%|██████████| 99/99 [02:28<00:00,  1.50s/it, loss=0.443]\n",
            "Validation: 100%|██████████| 14/14 [00:08<00:00,  1.58it/s]\n"
          ]
        },
        {
          "output_type": "stream",
          "name": "stdout",
          "text": [
            "New best model saved with validation AUC: 0.8275\n",
            "\n",
            "Epoch 17/200\n",
            "Train Loss: 0.4463, Train Accuracy: 79.59%\n",
            "Val Loss: 0.5518, Val AUC: 0.8275\n",
            "Learning rates - Encoder: 5.00e-06, Classifier: 5.00e-05\n",
            "--------------------------------------------------\n"
          ]
        },
        {
          "output_type": "stream",
          "name": "stderr",
          "text": [
            "Epoch 18/200: 100%|██████████| 99/99 [02:28<00:00,  1.50s/it, loss=0.33]\n",
            "Validation: 100%|██████████| 14/14 [00:08<00:00,  1.63it/s]\n"
          ]
        },
        {
          "output_type": "stream",
          "name": "stdout",
          "text": [
            "\n",
            "Epoch 18/200\n",
            "Train Loss: 0.4370, Train Accuracy: 79.52%\n",
            "Val Loss: 0.6845, Val AUC: 0.8084\n",
            "Learning rates - Encoder: 5.00e-06, Classifier: 5.00e-05\n",
            "--------------------------------------------------\n"
          ]
        },
        {
          "output_type": "stream",
          "name": "stderr",
          "text": [
            "Epoch 19/200: 100%|██████████| 99/99 [02:28<00:00,  1.50s/it, loss=0.458]\n",
            "Validation: 100%|██████████| 14/14 [00:08<00:00,  1.63it/s]\n"
          ]
        },
        {
          "output_type": "stream",
          "name": "stdout",
          "text": [
            "\n",
            "Epoch 19/200\n",
            "Train Loss: 0.4267, Train Accuracy: 80.13%\n",
            "Val Loss: 0.6025, Val AUC: 0.8193\n",
            "Learning rates - Encoder: 5.00e-06, Classifier: 5.00e-05\n",
            "--------------------------------------------------\n"
          ]
        },
        {
          "output_type": "stream",
          "name": "stderr",
          "text": [
            "Epoch 20/200: 100%|██████████| 99/99 [02:28<00:00,  1.50s/it, loss=0.369]\n",
            "Validation: 100%|██████████| 14/14 [00:08<00:00,  1.64it/s]\n"
          ]
        },
        {
          "output_type": "stream",
          "name": "stdout",
          "text": [
            "\n",
            "Epoch 20/200\n",
            "Train Loss: 0.4244, Train Accuracy: 80.73%\n",
            "Val Loss: 0.6001, Val AUC: 0.8076\n",
            "Learning rates - Encoder: 5.00e-06, Classifier: 5.00e-05\n",
            "--------------------------------------------------\n"
          ]
        },
        {
          "output_type": "stream",
          "name": "stderr",
          "text": [
            "Epoch 21/200: 100%|██████████| 99/99 [02:28<00:00,  1.50s/it, loss=0.414]\n",
            "Validation: 100%|██████████| 14/14 [00:08<00:00,  1.57it/s]\n"
          ]
        },
        {
          "output_type": "stream",
          "name": "stdout",
          "text": [
            "\n",
            "Epoch 21/200\n",
            "Train Loss: 0.4105, Train Accuracy: 81.41%\n",
            "Val Loss: 0.5950, Val AUC: 0.8138\n",
            "Learning rates - Encoder: 5.00e-06, Classifier: 5.00e-05\n",
            "--------------------------------------------------\n"
          ]
        },
        {
          "output_type": "stream",
          "name": "stderr",
          "text": [
            "Epoch 22/200: 100%|██████████| 99/99 [02:28<00:00,  1.50s/it, loss=0.309]\n",
            "Validation: 100%|██████████| 14/14 [00:08<00:00,  1.62it/s]\n"
          ]
        },
        {
          "output_type": "stream",
          "name": "stdout",
          "text": [
            "New best model saved with validation AUC: 0.8290\n",
            "\n",
            "Epoch 22/200\n",
            "Train Loss: 0.4083, Train Accuracy: 82.13%\n",
            "Val Loss: 0.5560, Val AUC: 0.8290\n",
            "Learning rates - Encoder: 5.00e-06, Classifier: 5.00e-05\n",
            "--------------------------------------------------\n"
          ]
        },
        {
          "output_type": "stream",
          "name": "stderr",
          "text": [
            "Epoch 23/200: 100%|██████████| 99/99 [02:28<00:00,  1.50s/it, loss=0.298]\n",
            "Validation: 100%|██████████| 14/14 [00:08<00:00,  1.63it/s]\n"
          ]
        },
        {
          "output_type": "stream",
          "name": "stdout",
          "text": [
            "New best model saved with validation AUC: 0.8335\n",
            "\n",
            "Epoch 23/200\n",
            "Train Loss: 0.3998, Train Accuracy: 81.89%\n",
            "Val Loss: 0.5686, Val AUC: 0.8335\n",
            "Learning rates - Encoder: 5.00e-06, Classifier: 5.00e-05\n",
            "--------------------------------------------------\n"
          ]
        },
        {
          "output_type": "stream",
          "name": "stderr",
          "text": [
            "Epoch 24/200: 100%|██████████| 99/99 [02:28<00:00,  1.50s/it, loss=0.506]\n",
            "Validation: 100%|██████████| 14/14 [00:08<00:00,  1.63it/s]\n"
          ]
        },
        {
          "output_type": "stream",
          "name": "stdout",
          "text": [
            "\n",
            "Epoch 24/200\n",
            "Train Loss: 0.3898, Train Accuracy: 82.75%\n",
            "Val Loss: 0.6520, Val AUC: 0.8251\n",
            "Learning rates - Encoder: 5.00e-06, Classifier: 5.00e-05\n",
            "--------------------------------------------------\n"
          ]
        },
        {
          "output_type": "stream",
          "name": "stderr",
          "text": [
            "Epoch 25/200: 100%|██████████| 99/99 [02:28<00:00,  1.50s/it, loss=0.362]\n",
            "Validation: 100%|██████████| 14/14 [00:08<00:00,  1.63it/s]\n"
          ]
        },
        {
          "output_type": "stream",
          "name": "stdout",
          "text": [
            "\n",
            "Epoch 25/200\n",
            "Train Loss: 0.3883, Train Accuracy: 83.30%\n",
            "Val Loss: 0.6093, Val AUC: 0.8079\n",
            "Learning rates - Encoder: 5.00e-06, Classifier: 5.00e-05\n",
            "--------------------------------------------------\n"
          ]
        },
        {
          "output_type": "stream",
          "name": "stderr",
          "text": [
            "Epoch 26/200: 100%|██████████| 99/99 [02:28<00:00,  1.50s/it, loss=0.45]\n",
            "Validation: 100%|██████████| 14/14 [00:08<00:00,  1.56it/s]\n"
          ]
        },
        {
          "output_type": "stream",
          "name": "stdout",
          "text": [
            "\n",
            "Epoch 26/200\n",
            "Train Loss: 0.3765, Train Accuracy: 83.57%\n",
            "Val Loss: 0.6271, Val AUC: 0.8220\n",
            "Learning rates - Encoder: 5.00e-06, Classifier: 5.00e-05\n",
            "--------------------------------------------------\n"
          ]
        },
        {
          "output_type": "stream",
          "name": "stderr",
          "text": [
            "Epoch 27/200: 100%|██████████| 99/99 [02:28<00:00,  1.50s/it, loss=0.529]\n",
            "Validation: 100%|██████████| 14/14 [00:08<00:00,  1.58it/s]\n"
          ]
        },
        {
          "output_type": "stream",
          "name": "stdout",
          "text": [
            "\n",
            "Epoch 27/200\n",
            "Train Loss: 0.3708, Train Accuracy: 83.84%\n",
            "Val Loss: 0.5835, Val AUC: 0.8222\n",
            "Learning rates - Encoder: 5.00e-06, Classifier: 5.00e-05\n",
            "--------------------------------------------------\n"
          ]
        },
        {
          "output_type": "stream",
          "name": "stderr",
          "text": [
            "Epoch 28/200: 100%|██████████| 99/99 [02:28<00:00,  1.50s/it, loss=0.274]\n",
            "Validation: 100%|██████████| 14/14 [00:08<00:00,  1.57it/s]\n"
          ]
        },
        {
          "output_type": "stream",
          "name": "stdout",
          "text": [
            "\n",
            "Epoch 28/200\n",
            "Train Loss: 0.3602, Train Accuracy: 84.26%\n",
            "Val Loss: 0.5849, Val AUC: 0.8308\n",
            "Learning rates - Encoder: 5.00e-06, Classifier: 5.00e-05\n",
            "--------------------------------------------------\n"
          ]
        },
        {
          "output_type": "stream",
          "name": "stderr",
          "text": [
            "Epoch 29/200: 100%|██████████| 99/99 [02:28<00:00,  1.50s/it, loss=0.496]\n",
            "Validation: 100%|██████████| 14/14 [00:08<00:00,  1.63it/s]\n"
          ]
        },
        {
          "output_type": "stream",
          "name": "stdout",
          "text": [
            "\n",
            "Epoch 29/200\n",
            "Train Loss: 0.3543, Train Accuracy: 84.59%\n",
            "Val Loss: 0.5724, Val AUC: 0.8296\n",
            "Learning rates - Encoder: 5.00e-06, Classifier: 5.00e-05\n",
            "--------------------------------------------------\n"
          ]
        },
        {
          "output_type": "stream",
          "name": "stderr",
          "text": [
            "Epoch 30/200: 100%|██████████| 99/99 [02:28<00:00,  1.50s/it, loss=0.556]\n",
            "Validation: 100%|██████████| 14/14 [00:08<00:00,  1.64it/s]\n"
          ]
        },
        {
          "output_type": "stream",
          "name": "stdout",
          "text": [
            "\n",
            "Epoch 30/200\n",
            "Train Loss: 0.3454, Train Accuracy: 85.42%\n",
            "Val Loss: 0.6105, Val AUC: 0.8274\n",
            "Learning rates - Encoder: 1.00e-06, Classifier: 1.00e-05\n",
            "--------------------------------------------------\n"
          ]
        },
        {
          "output_type": "stream",
          "name": "stderr",
          "text": [
            "Epoch 31/200: 100%|██████████| 99/99 [02:28<00:00,  1.50s/it, loss=0.51]\n",
            "Validation: 100%|██████████| 14/14 [00:08<00:00,  1.57it/s]\n"
          ]
        },
        {
          "output_type": "stream",
          "name": "stdout",
          "text": [
            "\n",
            "Epoch 31/200\n",
            "Train Loss: 0.3316, Train Accuracy: 86.32%\n",
            "Val Loss: 0.5996, Val AUC: 0.8320\n",
            "Learning rates - Encoder: 1.00e-06, Classifier: 1.00e-05\n",
            "--------------------------------------------------\n"
          ]
        },
        {
          "output_type": "stream",
          "name": "stderr",
          "text": [
            "Epoch 32/200: 100%|██████████| 99/99 [02:28<00:00,  1.50s/it, loss=0.716]\n",
            "Validation: 100%|██████████| 14/14 [00:08<00:00,  1.63it/s]\n"
          ]
        },
        {
          "output_type": "stream",
          "name": "stdout",
          "text": [
            "\n",
            "Epoch 32/200\n",
            "Train Loss: 0.3364, Train Accuracy: 86.21%\n",
            "Val Loss: 0.6354, Val AUC: 0.8325\n",
            "Learning rates - Encoder: 1.00e-06, Classifier: 1.00e-05\n",
            "--------------------------------------------------\n"
          ]
        },
        {
          "output_type": "stream",
          "name": "stderr",
          "text": [
            "Epoch 33/200: 100%|██████████| 99/99 [02:28<00:00,  1.50s/it, loss=0.261]\n",
            "Validation: 100%|██████████| 14/14 [00:08<00:00,  1.64it/s]\n"
          ]
        },
        {
          "output_type": "stream",
          "name": "stdout",
          "text": [
            "New best model saved with validation AUC: 0.8341\n",
            "\n",
            "Epoch 33/200\n",
            "Train Loss: 0.3290, Train Accuracy: 85.83%\n",
            "Val Loss: 0.5859, Val AUC: 0.8341\n",
            "Learning rates - Encoder: 1.00e-06, Classifier: 1.00e-05\n",
            "--------------------------------------------------\n",
            "Early stopping triggered after 33 epochs\n"
          ]
        },
        {
          "output_type": "display_data",
          "data": {
            "text/plain": [
              "<Figure size 1500x500 with 3 Axes>"
            ],
            "image/png": "[encoded data removed]"
          },
          "metadata": {}
        },
        {
          "output_type": "execute_result",
          "data": {
            "text/plain": [
              "MedicalClassifier(\n",
              "  (encoder): CustomResNetEncoder(\n",
              "    (conv1): Conv2d(3, 64, kernel_size=(3, 3), stride=(1, 1), padding=(1, 1), bias=False)\n",
              "    (bn1): InstanceNorm2d(64, eps=1e-05, momentum=0.1, affine=False, track_running_stats=False)\n",
              "    (relu): LeakyReLU(negative_slope=0.2, inplace=True)\n",
              "    (layer1): Sequential(\n",
              "      (0): BasicBlock(\n",
              "        (conv1): Conv2d(64, 64, kernel_size=(3, 3), stride=(1, 1), padding=(1, 1), bias=False)\n",
              "        (bn1): BatchNorm2d(64, eps=1e-05, momentum=0.1, affine=True, track_running_stats=True)\n",
              "        (relu): ReLU(inplace=True)\n",
              "        (conv2): Conv2d(64, 64, kernel_size=(3, 3), stride=(1, 1), padding=(1, 1), bias=False)\n",
              "        (bn2): BatchNorm2d(64, eps=1e-05, momentum=0.1, affine=True, track_running_stats=True)\n",
              "      )\n",
              "      (1): BasicBlock(\n",
              "        (conv1): Conv2d(64, 64, kernel_size=(3, 3), stride=(1, 1), padding=(1, 1), bias=False)\n",
              "        (bn1): BatchNorm2d(64, eps=1e-05, momentum=0.1, affine=True, track_running_stats=True)\n",
              "        (relu): ReLU(inplace=True)\n",
              "        (conv2): Conv2d(64, 64, kernel_size=(3, 3), stride=(1, 1), padding=(1, 1), bias=False)\n",
              "        (bn2): BatchNorm2d(64, eps=1e-05, momentum=0.1, affine=True, track_running_stats=True)\n",
              "      )\n",
              "    )\n",
              "    (layer2): Sequential(\n",
              "      (0): BasicBlock(\n",
              "        (conv1): Conv2d(64, 128, kernel_size=(3, 3), stride=(2, 2), padding=(1, 1), bias=False)\n",
              "        (bn1): BatchNorm2d(128, eps=1e-05, momentum=0.1, affine=True, track_running_stats=True)\n",
              "        (relu): ReLU(inplace=True)\n",
              "        (conv2): Conv2d(128, 128, kernel_size=(3, 3), stride=(1, 1), padding=(1, 1), bias=False)\n",
              "        (bn2): BatchNorm2d(128, eps=1e-05, momentum=0.1, affine=True, track_running_stats=True)\n",
              "        (downsample): Sequential(\n",
              "          (0): Conv2d(64, 128, kernel_size=(1, 1), stride=(2, 2), bias=False)\n",
              "          (1): BatchNorm2d(128, eps=1e-05, momentum=0.1, affine=True, track_running_stats=True)\n",
              "        )\n",
              "      )\n",
              "      (1): BasicBlock(\n",
              "        (conv1): Conv2d(128, 128, kernel_size=(3, 3), stride=(1, 1), padding=(1, 1), bias=False)\n",
              "        (bn1): BatchNorm2d(128, eps=1e-05, momentum=0.1, affine=True, track_running_stats=True)\n",
              "        (relu): ReLU(inplace=True)\n",
              "        (conv2): Conv2d(128, 128, kernel_size=(3, 3), stride=(1, 1), padding=(1, 1), bias=False)\n",
              "        (bn2): BatchNorm2d(128, eps=1e-05, momentum=0.1, affine=True, track_running_stats=True)\n",
              "      )\n",
              "    )\n",
              "    (layer3): Sequential(\n",
              "      (0): BasicBlock(\n",
              "        (conv1): Conv2d(128, 256, kernel_size=(3, 3), stride=(2, 2), padding=(1, 1), bias=False)\n",
              "        (bn1): BatchNorm2d(256, eps=1e-05, momentum=0.1, affine=True, track_running_stats=True)\n",
              "        (relu): ReLU(inplace=True)\n",
              "        (conv2): Conv2d(256, 256, kernel_size=(3, 3), stride=(1, 1), padding=(1, 1), bias=False)\n",
              "        (bn2): BatchNorm2d(256, eps=1e-05, momentum=0.1, affine=True, track_running_stats=True)\n",
              "        (downsample): Sequential(\n",
              "          (0): Conv2d(128, 256, kernel_size=(1, 1), stride=(2, 2), bias=False)\n",
              "          (1): BatchNorm2d(256, eps=1e-05, momentum=0.1, affine=True, track_running_stats=True)\n",
              "        )\n",
              "      )\n",
              "      (1): BasicBlock(\n",
              "        (conv1): Conv2d(256, 256, kernel_size=(3, 3), stride=(1, 1), padding=(1, 1), bias=False)\n",
              "        (bn1): BatchNorm2d(256, eps=1e-05, momentum=0.1, affine=True, track_running_stats=True)\n",
              "        (relu): ReLU(inplace=True)\n",
              "        (conv2): Conv2d(256, 256, kernel_size=(3, 3), stride=(1, 1), padding=(1, 1), bias=False)\n",
              "        (bn2): BatchNorm2d(256, eps=1e-05, momentum=0.1, affine=True, track_running_stats=True)\n",
              "      )\n",
              "    )\n",
              "    (layer4): Sequential(\n",
              "      (0): BasicBlock(\n",
              "        (conv1): Conv2d(256, 512, kernel_size=(3, 3), stride=(2, 2), padding=(1, 1), bias=False)\n",
              "        (bn1): BatchNorm2d(512, eps=1e-05, momentum=0.1, affine=True, track_running_stats=True)\n",
              "        (relu): ReLU(inplace=True)\n",
              "        (conv2): Conv2d(512, 512, kernel_size=(3, 3), stride=(1, 1), padding=(1, 1), bias=False)\n",
              "        (bn2): BatchNorm2d(512, eps=1e-05, momentum=0.1, affine=True, track_running_stats=True)\n",
              "        (downsample): Sequential(\n",
              "          (0): Conv2d(256, 512, kernel_size=(1, 1), stride=(2, 2), bias=False)\n",
              "          (1): BatchNorm2d(512, eps=1e-05, momentum=0.1, affine=True, track_running_stats=True)\n",
              "        )\n",
              "      )\n",
              "      (1): BasicBlock(\n",
              "        (conv1): Conv2d(512, 512, kernel_size=(3, 3), stride=(1, 1), padding=(1, 1), bias=False)\n",
              "        (bn1): BatchNorm2d(512, eps=1e-05, momentum=0.1, affine=True, track_running_stats=True)\n",
              "        (relu): ReLU(inplace=True)\n",
              "        (conv2): Conv2d(512, 512, kernel_size=(3, 3), stride=(1, 1), padding=(1, 1), bias=False)\n",
              "        (bn2): BatchNorm2d(512, eps=1e-05, momentum=0.1, affine=True, track_running_stats=True)\n",
              "      )\n",
              "    )\n",
              "  )\n",
              "  (classifier): Sequential(\n",
              "    (0): AdaptiveAvgPool2d(output_size=1)\n",
              "    (1): Flatten(start_dim=1, end_dim=-1)\n",
              "    (2): BatchNorm1d(512, eps=1e-05, momentum=0.1, affine=True, track_running_stats=True)\n",
              "    (3): Dropout(p=0.5, inplace=False)\n",
              "    (4): Linear(in_features=512, out_features=128, bias=True)\n",
              "    (5): ReLU()\n",
              "    (6): BatchNorm1d(128, eps=1e-05, momentum=0.1, affine=True, track_running_stats=True)\n",
              "    (7): Dropout(p=0.5, inplace=False)\n",
              "    (8): Linear(in_features=128, out_features=1, bias=True)\n",
              "    (9): Sigmoid()\n",
              "  )\n",
              ")"
            ]
          },
          "metadata": {},
          "execution_count": 27
        }
      ],
      "source": [
        "# Load the pretrained MaskedAutoencoder model\n",
        "pretrained_model = MaskedAutoencoder(mask_ratio=0.75).to(device)\n",
        "checkpoint_path = \"/content/drive/MyDrive/data/best_masked_autoencoder_old.pth\"\n",
        "pretrained_model, _ = load_checkpoint(pretrained_model, checkpoint_path, device)\n",
        "\n",
        "# Initialize the classification model\n",
        "classification_model = MedicalClassifier(pretrained_model=pretrained_model).to(device)\n",
        "\n",
        "# Create data loaders\n",
        "#I could do 32 or possibly 64\n",
        "batch_size = 64\n",
        "train_loader = torch.utils.data.DataLoader(\n",
        "    train_dataset, batch_size=batch_size, shuffle=True, num_workers=2, pin_memory=True\n",
        ")\n",
        "val_loader = torch.utils.data.DataLoader(\n",
        "    val_dataset, batch_size=batch_size, shuffle=False, num_workers=2, pin_memory=True\n",
        ")\n",
        "\n",
        "# Fine-tune the model\n",
        "train_classifier(classification_model, train_loader, val_loader, device, num_epochs=200)"
      ]
    },
    {
      "cell_type": "markdown",
      "metadata": {
        "id": "7MkIAtlHTAQx"
      },
      "source": [
        "# TESTING"
      ]
    },
    {
      "cell_type": "code",
      "execution_count": null,
      "metadata": {
        "id": "qRP26AIVZyv7",
        "colab": {
          "base_uri": "https://localhost:8080/",
          "height": 998
        },
        "outputId": "a08cd29a-78da-4944-c4d0-8a58d6433081"
      },
      "outputs": [
        {
          "output_type": "stream",
          "name": "stderr",
          "text": [
            "<ipython-input-28-7c269114754e>:105: FutureWarning: You are using `torch.load` with `weights_only=False` (the current default value), which uses the default pickle module implicitly. It is possible to construct malicious pickle data which will execute arbitrary code during unpickling (See https://github.com/pytorch/pytorch/blob/main/SECURITY.md#untrusted-models for more details). In a future release, the default value for `weights_only` will be flipped to `True`. This limits the functions that could be executed during unpickling. Arbitrary objects will no longer be allowed to be loaded via this mode unless they are explicitly allowlisted by the user via `torch.serialization.add_safe_globals`. We recommend you start setting `weights_only=True` for any use case where you don't have full control of the loaded file. Please open an issue on GitHub for any issues related to this experimental feature.\n",
            "  checkpoint = torch.load('best_classification_model.pth', map_location=device)\n"
          ]
        },
        {
          "output_type": "stream",
          "name": "stdout",
          "text": [
            "Starting evaluation...\n"
          ]
        },
        {
          "output_type": "stream",
          "name": "stderr",
          "text": [
            "Testing: 100%|██████████| 14/14 [03:07<00:00, 13.42s/it]\n"
          ]
        },
        {
          "output_type": "stream",
          "name": "stdout",
          "text": [
            "\n",
            "Test Results:\n",
            "--------------------------------------------------\n",
            "Loss        : 0.390\n",
            "Accuracy    : 0.821 (95% CI: 0.796-0.847)\n",
            "Sensitivity : 0.743 (95% CI: 0.714-0.772)\n",
            "Specificity : 0.888 (95% CI: 0.867-0.909)\n",
            "Precision   : 0.851 (95% CI: 0.828-0.875)\n",
            "NPV         : 0.801 (95% CI: 0.774-0.827)\n",
            "F1-Score    : 0.794 (95% CI: 0.767-0.821)\n",
            "AUC         : 0.911 (95% CI: 0.892-0.930)\n"
          ]
        },
        {
          "output_type": "display_data",
          "data": {
            "text/plain": [
              "<Figure size 800x800 with 1 Axes>"
            ],
            "image/png": "[encoded data removed]"
          },
          "metadata": {}
        }
      ],
      "source": [
        "import sklearn.metrics\n",
        "from IPython import get_ipython\n",
        "from IPython.display import display\n",
        "\n",
        "def evaluate_model(model, test_loader, device):\n",
        "    model.eval()\n",
        "    all_preds = []\n",
        "    all_labels = []\n",
        "    test_loss = 0\n",
        "    criterion = nn.BCELoss()\n",
        "\n",
        "    print(\"Starting evaluation...\")\n",
        "    with torch.no_grad():\n",
        "        for images, labels in tqdm(test_loader, desc=\"Testing\"):\n",
        "            images = images.to(device)\n",
        "            labels = labels.float().to(device)\n",
        "\n",
        "            # Forward pass\n",
        "            outputs = model(images)\n",
        "            loss = criterion(outputs.squeeze(), labels)\n",
        "            test_loss += loss.item()\n",
        "\n",
        "            # Store predictions and labels\n",
        "            predictions = outputs.squeeze().cpu().numpy()\n",
        "            labels = labels.cpu().numpy()\n",
        "            all_preds.extend(predictions)\n",
        "            all_labels.extend(labels)\n",
        "\n",
        "    # Convert to numpy arrays\n",
        "    all_preds = np.array(all_preds)\n",
        "    all_labels = np.array(all_labels)\n",
        "\n",
        "    # Calculate metrics\n",
        "    average_loss = test_loss / len(test_loader)\n",
        "    binary_preds = (all_preds > 0.5).astype(int)\n",
        "\n",
        "    # True positives, false positives, etc.\n",
        "    tp = np.sum((binary_preds == 1) & (all_labels == 1))\n",
        "    fp = np.sum((binary_preds == 1) & (all_labels == 0))\n",
        "    tn = np.sum((binary_preds == 0) & (all_labels == 0))\n",
        "    fn = np.sum((binary_preds == 0) & (all_labels == 1))\n",
        "\n",
        "    # Calculate metrics\n",
        "    accuracy = (tp + tn) / (tp + tn + fp + fn)\n",
        "    sensitivity = tp / (tp + fn) if (tp + fn) > 0 else 0\n",
        "    specificity = tn / (tn + fp) if (tn + fp) > 0 else 0\n",
        "    precision = tp / (tp + fp) if (tp + fp) > 0 else 0\n",
        "    npv = tn / (tn + fn) if (tn + fn) > 0 else 0\n",
        "    f1 = 2 * (precision * sensitivity) / (precision + sensitivity) if (precision + sensitivity) > 0 else 0\n",
        "    auc = roc_auc_score(all_labels, all_preds)\n",
        "\n",
        "    # Calculate confidence intervals (95%)\n",
        "    n = len(all_labels)\n",
        "    z = 1.96  # 95% confidence interval\n",
        "\n",
        "    def confidence_interval(p):\n",
        "        std_err = np.sqrt((p * (1-p)) / n)\n",
        "        return z * std_err\n",
        "\n",
        "    metrics = {\n",
        "        'Loss': f\"{average_loss:.3f}\",\n",
        "        'Accuracy': f\"{accuracy:.3f} (95% CI: {accuracy-confidence_interval(accuracy):.3f}-{accuracy+confidence_interval(accuracy):.3f})\",\n",
        "        'Sensitivity': f\"{sensitivity:.3f} (95% CI: {sensitivity-confidence_interval(sensitivity):.3f}-{sensitivity+confidence_interval(sensitivity):.3f})\",\n",
        "        'Specificity': f\"{specificity:.3f} (95% CI: {specificity-confidence_interval(specificity):.3f}-{specificity+confidence_interval(specificity):.3f})\",\n",
        "        'Precision': f\"{precision:.3f} (95% CI: {precision-confidence_interval(precision):.3f}-{precision+confidence_interval(precision):.3f})\",\n",
        "        'NPV': f\"{npv:.3f} (95% CI: {npv-confidence_interval(npv):.3f}-{npv+confidence_interval(npv):.3f})\",\n",
        "        'F1-Score': f\"{f1:.3f} (95% CI: {f1-confidence_interval(f1):.3f}-{f1+confidence_interval(f1):.3f})\",\n",
        "        'AUC': f\"{auc:.3f} (95% CI: {auc-confidence_interval(auc):.3f}-{auc+confidence_interval(auc):.3f})\"\n",
        "    }\n",
        "\n",
        "    # Print results in a formatted way\n",
        "    print(\"\\nTest Results:\")\n",
        "    print(\"-\" * 50)\n",
        "    for metric, value in metrics.items():\n",
        "        print(f\"{metric:12s}: {value}\")\n",
        "\n",
        "    # Plot ROC curve\n",
        "    fpr, tpr, _ = sklearn.metrics.roc_curve(all_labels, all_preds)\n",
        "    plt.figure(figsize=(8, 8))\n",
        "    plt.plot(fpr, tpr, color='darkorange', lw=2, label=f'ROC curve (AUC = {auc:.3f})')\n",
        "    plt.plot([0, 1], [0, 1], color='navy', lw=2, linestyle='--')\n",
        "    plt.xlim([0.0, 1.0])\n",
        "    plt.ylim([0.0, 1.05])\n",
        "    plt.xlabel('False Positive Rate')\n",
        "    plt.ylabel('True Positive Rate')\n",
        "    plt.title('Receiver Operating Characteristic (ROC) Curve')\n",
        "    plt.legend(loc=\"lower right\")\n",
        "    plt.grid(True)\n",
        "    plt.savefig('roc_curve.png')\n",
        "    plt.show()\n",
        "\n",
        "    return metrics\n",
        "\n",
        "# Usage\n",
        "test_loader = torch.utils.data.DataLoader(\n",
        "    test_dataset,\n",
        "    batch_size=batch_size,\n",
        "    shuffle=False,\n",
        "    num_workers=2,\n",
        "    pin_memory=True\n",
        ")\n",
        "\n",
        "# Load best model\n",
        "best_model = MedicalClassifier(pretrained_model=pretrained_model).to(device)\n",
        "checkpoint = torch.load('best_classification_model.pth', map_location=device)\n",
        "best_model.load_state_dict(checkpoint['model_state_dict'])\n",
        "\n",
        "# Evaluate\n",
        "metrics = evaluate_model(best_model, test_loader, device)"
      ]
    }
  ],
  "metadata": {
    "accelerator": "GPU",
    "colab": {
      "gpuType": "T4",
      "provenance": [],
      "include_colab_link": true
    },
    "kernelspec": {
      "display_name": "Python 3",
      "name": "python3"
    },
    "language_info": {
      "name": "python"
    }
  },
  "nbformat": 4,
  "nbformat_minor": 0
}